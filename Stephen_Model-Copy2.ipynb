{
 "cells": [
  {
   "cell_type": "markdown",
   "metadata": {},
   "source": [
    "# House Hunters Linear Model"
   ]
  },
  {
   "cell_type": "markdown",
   "metadata": {},
   "source": [
    "Linear regression model of human-interpretable features that will make recommendations for people looking to buy or sell a house."
   ]
  },
  {
   "cell_type": "markdown",
   "metadata": {},
   "source": [
    "## Pre-Processing"
   ]
  },
  {
   "cell_type": "code",
   "execution_count": 1,
   "metadata": {},
   "outputs": [],
   "source": [
    "# import necessary packages\n",
    "import numpy as np\n",
    "import pandas as pd\n",
    "import matplotlib.pyplot as plt\n",
    "from math import exp\n",
    "\n",
    "# set display options\n",
    "pd.set_option('display.max_columns', None)"
   ]
  },
  {
   "cell_type": "code",
   "execution_count": 2,
   "metadata": {},
   "outputs": [],
   "source": [
    "# import dataset\n",
    "housing = pd.read_csv('data/Ames_Housing_Price_Data.csv', index_col=0)\n",
    "# real_estate = pd.read_csv('./data/Ames_Real_Estate_Data.csv')"
   ]
  },
  {
   "cell_type": "markdown",
   "metadata": {},
   "source": [
    "#### Feature Cleaning"
   ]
  },
  {
   "cell_type": "code",
   "execution_count": 3,
   "metadata": {},
   "outputs": [],
   "source": [
    "#Remove Outliers\n",
    "housing = housing[np.logical_and(housing.SalePrice >= 40000, housing.SalePrice <= 750000)]\n",
    "housing = housing[housing.GrLivArea < 4000]\n",
    "housing = housing[housing.BedroomAbvGr > 0]\n",
    "housing.loc[housing['GarageCars'] == 5, 'GarageCars'] = 4\n",
    "\n",
    "#Remove Bad Classes\n",
    "housing = housing[housing.Neighborhood != 'Landmrk']\n",
    "\n",
    "housing.MSZoning = housing.MSZoning.astype('string')\n",
    "housing.MSZoning = housing.MSZoning.str.strip()\n",
    "housing = housing[housing.MSZoning.isin([\"FV\", \"RH\", \"RL\", \"RM\"])]\n",
    "\n",
    "housing = housing[housing.Functional.isin([\"Typ\", \"Min1\", \"Min2\"])]\n",
    "\n",
    "housing.SaleType = housing.SaleType.astype('string')\n",
    "housing.SaleType = housing.SaleType.str.strip()\n",
    "housing = housing[housing.SaleType == 'WD']\n",
    "\n",
    "housing = housing[housing.SaleCondition == 'Normal']\n",
    "\n",
    "\n",
    "#Replace NAs\n",
    "housing = housing.fillna(0)"
   ]
  },
  {
   "cell_type": "markdown",
   "metadata": {},
   "source": [
    "#### Feature Engineering"
   ]
  },
  {
   "cell_type": "code",
   "execution_count": 4,
   "metadata": {},
   "outputs": [],
   "source": [
    "#Area Calculations\n",
    "housing['PorchTotSF'] = housing.OpenPorchSF + housing.EnclosedPorch + housing['3SsnPorch'] + housing.ScreenPorch\n",
    "housing['BsmtSF'] = housing.BsmtFinSF1 + housing.BsmtFinSF2\n",
    "housing.loc[housing['BsmtSF'] == 0, 'BsmtSF'] = exp(1)\n",
    "\n",
    "#Log Transforms\n",
    "housing['LogSalePrice'] = np.log(housing.SalePrice)\n",
    "housing['LogLotArea'] = np.log(housing.LotArea)\n",
    "housing['LogGrLivArea'] = np.log(housing.GrLivArea)\n",
    "housing['LogBsmtSF'] = np.log(housing.BsmtSF)\n",
    "\n",
    "#Categorical to Ordinal\n",
    "housing.Neighborhood = housing.Neighborhood.replace({'MeadowV':1,'BrDale':2, 'IDOTRR':3, 'BrkSide':4, 'OldTown':5, 'Edwards':6, 'SWISU':7, 'Landmrk':8, 'Sawyer':9,\\\n",
    "                           'NPkVill':10, 'Blueste':11, 'NAmes':12, 'Mitchel':13, 'SawyerW':14, 'Gilbert':15, 'NWAmes':16, 'Greens':17, 'Blmngtn':18,\\\n",
    "                           'CollgCr':19, 'Crawfor':20, 'ClearCr':21, 'Somerst':22, 'Timber':23, 'Veenker':24, 'GrnHill':25, 'StoneBr':26,'NridgHt':27, 'NoRidge':28})\n",
    "housing.BldgType = housing.BldgType.replace({'2fmCon':1,'Twnhs':2, 'Duplex':3, '1Fam':4, 'TwnhsE':5})\n",
    "housing.HouseStyle = housing.HouseStyle.replace({'1.5Unf':1,'1.5Fin':2, 'SFoyer':3, 'SLvl':4, '1Story':5, '2.5Unf':6, '2Story':7, '2.5Fin':8})\n",
    "housing.MoSold = housing.MoSold.replace({1:11, 9:10, 8:9, 6:8, 7:7, 11:6, 12:5, 2:4, 3:3, 10:2, 5:1, 4:0})\n",
    "\n",
    "#Renumber Numerical\n",
    "housing['NumBath'] = housing.FullBath + 0.5*housing.HalfBath + 0.5*housing.BsmtFullBath\n",
    "\n",
    "#Binary HasBLANK Categories\n",
    "housing['BeenRemod'] = np.where(housing.YearBuilt != housing.YearRemodAdd, 1, 0)\n",
    "housing['HasFinBsmt'] = np.where(housing.BsmtFinSF1 > 0, 1, 0)\n",
    "housing['HasFinGarage'] = np.where(housing.GarageFinish == \"Fin\", 1, 0)\n",
    "housing['HasPool'] = np.where(housing.PoolArea > 0, 1, 0)\n",
    "housing['HasFireplace'] = np.where(housing.Fireplaces > 0, 1, 0)\n",
    "housing['HasPorch'] = np.where(housing.PorchTotSF > 0, 1, 0)\n",
    "housing['HasDeck'] = np.where(housing.WoodDeckSF > 0, 1, 0)\n",
    "\n",
    "\n",
    "#Binary Quality/Cond Categories\n",
    "housing['AttachedGarage'] = np.where(housing.GarageType == \"Attchd\", 1, 0)\n",
    "housing['GreatElectric'] = np.where(housing.Electrical == \"SBrkr\", 1, 0)\n",
    "housing['GreatHeat'] = np.where(housing.HeatingQC == \"Ex\", 1, 0)\n",
    "housing['CentralAir'] = np.where(housing.CentralAir == \"Y\", 1, 0)"
   ]
  },
  {
   "cell_type": "markdown",
   "metadata": {},
   "source": [
    "#### Feature Selection"
   ]
  },
  {
   "cell_type": "code",
   "execution_count": 38,
   "metadata": {},
   "outputs": [],
   "source": [
    "model_cols = ['LogSalePrice', 'LogLotArea', 'LogGrLivArea', 'LogBsmtSF', 'OverallQual', 'OverallCond', 'YearBuilt',\\\n",
    "              'Neighborhood', 'BldgType', 'HouseStyle', 'MoSold', 'NumBath', 'GarageCars', 'BedroomAbvGr',\\\n",
    "              'BeenRemod', 'HasFinBsmt', 'HasFinGarage', 'HasPool', 'HasFireplace', 'HasPorch', 'HasDeck',\\\n",
    "              'AttachedGarage', 'GreatElectric', 'GreatHeat', 'CentralAir']\n",
    "housing = housing[model_cols]\n",
    "x = housing.drop(['LogSalePrice', 'LogBsmtSF', 'HasPool', 'HouseStyle', 'BedroomAbvGr', \\\n",
    "                  'BeenRemod', 'YearBuilt', 'MoSold'], axis=1)\n",
    "y=housing.LogSalePrice"
   ]
  },
  {
   "cell_type": "code",
   "execution_count": 39,
   "metadata": {},
   "outputs": [
    {
     "data": {
      "text/plain": [
       "Lasso(alpha=9.326033468832199e-05, copy_X=True, fit_intercept=True,\n",
       "      max_iter=1000, normalize=False, positive=False, precompute=False,\n",
       "      random_state=None, selection='cyclic', tol=0.0001, warm_start=False)"
      ]
     },
     "execution_count": 39,
     "metadata": {},
     "output_type": "execute_result"
    }
   ],
   "source": [
    "from sklearn import linear_model\n",
    "x_train, x_test, y_train, y_test = model_selection.train_test_split(x, y, test_size=.2, random_state=0)\n",
    "clf = linear_model.Lasso(alpha=9.326033468832199e-05)\n",
    "clf.fit(x_train,y_train)"
   ]
  },
  {
   "cell_type": "code",
   "execution_count": 40,
   "metadata": {},
   "outputs": [
    {
     "data": {
      "text/plain": [
       "Index(['LogLotArea', 'LogGrLivArea', 'OverallQual', 'OverallCond',\n",
       "       'Neighborhood', 'BldgType', 'NumBath', 'GarageCars', 'HasFinBsmt',\n",
       "       'HasFinGarage', 'HasFireplace', 'HasPorch', 'HasDeck', 'AttachedGarage',\n",
       "       'GreatElectric', 'GreatHeat', 'CentralAir'],\n",
       "      dtype='object')"
      ]
     },
     "execution_count": 40,
     "metadata": {},
     "output_type": "execute_result"
    }
   ],
   "source": [
    "x.columns"
   ]
  },
  {
   "cell_type": "code",
   "execution_count": 47,
   "metadata": {},
   "outputs": [
    {
     "data": {
      "text/plain": [
       "[[1, 2, 3]]"
      ]
     },
     "execution_count": 47,
     "metadata": {},
     "output_type": "execute_result"
    }
   ],
   "source": [
    "[[1,2,3]]"
   ]
  },
  {
   "cell_type": "code",
   "execution_count": 46,
   "metadata": {},
   "outputs": [
    {
     "data": {
      "text/plain": [
       "count    2263.000000\n",
       "mean        2.013168\n",
       "std         0.686876\n",
       "min         0.800000\n",
       "25%         1.500000\n",
       "50%         2.000000\n",
       "75%         2.500000\n",
       "max         6.200000\n",
       "Name: NumBath, dtype: float64"
      ]
     },
     "execution_count": 46,
     "metadata": {},
     "output_type": "execute_result"
    }
   ],
   "source": [
    "housing.NumBath.describe()"
   ]
  },
  {
   "cell_type": "code",
   "execution_count": 45,
   "metadata": {},
   "outputs": [
    {
     "data": {
      "text/plain": [
       "4    1885\n",
       "5     183\n",
       "2      81\n",
       "3      73\n",
       "1      41\n",
       "Name: BldgType, dtype: int64"
      ]
     },
     "execution_count": 45,
     "metadata": {},
     "output_type": "execute_result"
    }
   ],
   "source": [
    "housing.BldgType.value_counts()"
   ]
  },
  {
   "cell_type": "markdown",
   "metadata": {},
   "source": [
    "## Model Generation"
   ]
  },
  {
   "cell_type": "code",
   "execution_count": 6,
   "metadata": {},
   "outputs": [],
   "source": [
    "from sklearn.linear_model import LinearRegression\n",
    "from sklearn import model_selection"
   ]
  },
  {
   "cell_type": "code",
   "execution_count": 7,
   "metadata": {},
   "outputs": [
    {
     "name": "stdout",
     "output_type": "stream",
     "text": [
      "0.9199308325342065\n",
      "0.9236199354291406\n",
      "[ 9.27327073e-02  4.67985294e-01  4.39133320e-02  7.18724949e-02\n",
      "  4.59541323e-02  2.16733925e-03  7.82057043e-03  1.04898002e-02\n",
      " -7.85741492e-03 -1.32503140e-03  1.49201415e-03  4.02823721e-02\n",
      " -2.61653402e-02  1.84865930e-03 -1.52443546e-01  1.56838337e-02\n",
      "  1.14880150e-01  2.44327410e-02  1.68908778e-02  1.56180026e-02\n",
      " -3.70010899e-04  1.29045391e-02  3.88929693e-02  4.29182814e-02]\n"
     ]
    }
   ],
   "source": [
    "y = housing['LogSalePrice']\n",
    "x = housing.drop('LogSalePrice', axis=1)\n",
    "\n",
    "x_train, x_test, y_train, y_test = model_selection.train_test_split(x, y, test_size=.2, random_state=0)\n",
    "\n",
    "lm = LinearRegression()\n",
    "lm.fit(x_train, y_train)\n",
    "\n",
    "print(lm.score(x_train, y_train))\n",
    "print(lm.score(x_test, y_test))\n",
    "print(lm.coef_)"
   ]
  },
  {
   "cell_type": "code",
   "execution_count": 33,
   "metadata": {},
   "outputs": [
    {
     "name": "stdout",
     "output_type": "stream",
     "text": [
      "training score 0.9195543710154819\n",
      "testing score 0.9256463678959304\n",
      "[ 9.33521666e-02  4.60918803e-01  3.93640048e-02  7.27481952e-02\n",
      "  4.62682783e-02  2.17625115e-03  7.91376495e-03  1.01301765e-02\n",
      " -7.77654622e-03 -1.28787394e-03  2.65123650e-03  4.01807205e-02\n",
      " -2.45032575e-02  8.21034226e-05 -1.26588290e-01  1.48941531e-02\n",
      "  0.00000000e+00  2.53966677e-02  1.57929192e-02  1.49578413e-02\n",
      "  0.00000000e+00  9.19006581e-03  3.78467363e-02  3.53064143e-02]\n"
     ]
    },
    {
     "data": {
      "text/plain": [
       "[('LogLotArea', 0.09335216664699966),\n",
       " ('LogGrLivArea', 0.4609188032337754),\n",
       " ('LogBsmtSF', 0.039364004839795366),\n",
       " ('OverallQual', 0.0727481951642858),\n",
       " ('OverallCond', 0.046268278295084696),\n",
       " ('YearBuilt', 0.002176251146532969),\n",
       " ('Neighborhood', 0.007913764954765852),\n",
       " ('BldgType', 0.0101301765267008),\n",
       " ('HouseStyle', -0.007776546223356674),\n",
       " ('MoSold', -0.0012878739376956262),\n",
       " ('NumBath', 0.00265123649757247),\n",
       " ('GarageCars', 0.04018072045509322),\n",
       " ('BedroomAbvGr', -0.024503257527527335),\n",
       " ('BeenRemod', 8.2103422556146e-05),\n",
       " ('HasFinBsmt', -0.12658829011899603),\n",
       " ('HasFinGarage', 0.01489415313294915),\n",
       " ('HasPool', 0.0),\n",
       " ('HasFireplace', 0.02539666771983235),\n",
       " ('HasPorch', 0.01579291921453131),\n",
       " ('HasDeck', 0.0149578412896334),\n",
       " ('AttachedGarage', 0.0),\n",
       " ('GreatElectric', 0.00919006581197453),\n",
       " ('GreatHeat', 0.037846736337777416),\n",
       " ('CentralAir', 0.03530641429631902)]"
      ]
     },
     "execution_count": 33,
     "metadata": {},
     "output_type": "execute_result"
    }
   ],
   "source": [
    "# lasso\n",
    "from sklearn import linear_model\n",
    "clf = linear_model.Lasso(alpha=0.0003417)\n",
    "clf.fit(x_train,y_train)\n",
    "\n",
    "print('training score',clf.score(x_train, y_train))\n",
    "print('testing score',clf.score(x_test, y_test))\n",
    "print(clf.coef_)\n",
    "list(zip(x_train.columns,clf.coef_))"
   ]
  },
  {
   "cell_type": "code",
   "execution_count": 29,
   "metadata": {},
   "outputs": [
    {
     "name": "stdout",
     "output_type": "stream",
     "text": [
      "Lasso(alpha=0.0001, copy_X=True, fit_intercept=True, max_iter=1000,\n",
      "      normalize=False, positive=False, precompute=False, random_state=None,\n",
      "      selection='cyclic', tol=0.0001, warm_start=False)\n",
      "{'alpha': 0.0001}\n",
      "0.916118392881971\n"
     ]
    }
   ],
   "source": [
    "# tune alpha in lasso with gridsearchCV\n",
    "from sklearn.model_selection import GridSearchCV\n",
    "\n",
    "clf = linear_model.Lasso()\n",
    "param_grid={'alpha':[.00001,.0001, .001,.01]}\n",
    "grid_search = GridSearchCV(estimator= clf, param_grid= param_grid)\n",
    "grid_search.fit(x_train,y_train)\n",
    "\n",
    "print(grid_search.best_estimator_)\n",
    "print(grid_search.best_params_)\n",
    "print(grid_search.best_score_)\n",
    "\n",
    "# list(zip(x_train.columns,clf.coef_))"
   ]
  },
  {
   "cell_type": "code",
   "execution_count": 34,
   "metadata": {},
   "outputs": [
    {
     "data": {
      "text/plain": [
       "['__abstractmethods__',\n",
       " '__class__',\n",
       " '__delattr__',\n",
       " '__dict__',\n",
       " '__dir__',\n",
       " '__doc__',\n",
       " '__eq__',\n",
       " '__format__',\n",
       " '__ge__',\n",
       " '__getattribute__',\n",
       " '__getstate__',\n",
       " '__gt__',\n",
       " '__hash__',\n",
       " '__init__',\n",
       " '__init_subclass__',\n",
       " '__le__',\n",
       " '__lt__',\n",
       " '__module__',\n",
       " '__ne__',\n",
       " '__new__',\n",
       " '__reduce__',\n",
       " '__reduce_ex__',\n",
       " '__repr__',\n",
       " '__setattr__',\n",
       " '__setstate__',\n",
       " '__sizeof__',\n",
       " '__str__',\n",
       " '__subclasshook__',\n",
       " '__weakref__',\n",
       " '_abc_impl',\n",
       " '_check_is_fitted',\n",
       " '_estimator_type',\n",
       " '_format_results',\n",
       " '_get_param_names',\n",
       " '_get_tags',\n",
       " '_more_tags',\n",
       " '_pairwise',\n",
       " '_required_parameters',\n",
       " '_run_search',\n",
       " 'best_estimator_',\n",
       " 'best_index_',\n",
       " 'best_params_',\n",
       " 'best_score_',\n",
       " 'classes_',\n",
       " 'cv',\n",
       " 'cv_results_',\n",
       " 'decision_function',\n",
       " 'error_score',\n",
       " 'estimator',\n",
       " 'fit',\n",
       " 'get_params',\n",
       " 'iid',\n",
       " 'inverse_transform',\n",
       " 'multimetric_',\n",
       " 'n_jobs',\n",
       " 'n_splits_',\n",
       " 'param_grid',\n",
       " 'pre_dispatch',\n",
       " 'predict',\n",
       " 'predict_log_proba',\n",
       " 'predict_proba',\n",
       " 'refit',\n",
       " 'refit_time_',\n",
       " 'return_train_score',\n",
       " 'score',\n",
       " 'scorer_',\n",
       " 'scoring',\n",
       " 'set_params',\n",
       " 'transform',\n",
       " 'verbose']"
      ]
     },
     "execution_count": 34,
     "metadata": {},
     "output_type": "execute_result"
    }
   ],
   "source": [
    "dir(grid_search)"
   ]
  },
  {
   "cell_type": "code",
   "execution_count": 21,
   "metadata": {},
   "outputs": [
    {
     "name": "stdout",
     "output_type": "stream",
     "text": [
      "training score 0.919930456525999\n",
      "testing score 0.9237104028246876\n",
      "[ 9.27895951e-02  4.66951543e-01  4.37956255e-02  7.19308545e-02\n",
      "  4.59369022e-02  2.16424572e-03  7.82435825e-03  1.04761059e-02\n",
      " -7.85231853e-03 -1.32448672e-03  1.69795793e-03  4.03186796e-02\n",
      " -2.60310149e-02  1.86995131e-03 -1.51835767e-01  1.57104959e-02\n",
      "  1.12266183e-01  2.45450219e-02  1.69207903e-02  1.56171690e-02\n",
      " -3.32208566e-04  1.28956221e-02  3.89007447e-02  4.29304203e-02]\n"
     ]
    },
    {
     "data": {
      "text/plain": [
       "[('LogLotArea', 0.09278959505309077),\n",
       " ('LogGrLivArea', 0.4669515426789206),\n",
       " ('LogBsmtSF', 0.043795625505231854),\n",
       " ('OverallQual', 0.07193085448613026),\n",
       " ('OverallCond', 0.04593690223661592),\n",
       " ('YearBuilt', 0.0021642457159206313),\n",
       " ('Neighborhood', 0.007824358252859815),\n",
       " ('BldgType', 0.010476105946723293),\n",
       " ('HouseStyle', -0.00785231852706007),\n",
       " ('MoSold', -0.0013244867242321278),\n",
       " ('NumBath', 0.0016979579256392035),\n",
       " ('GarageCars', 0.04031867955344403),\n",
       " ('BedroomAbvGr', -0.0260310148985254),\n",
       " ('BeenRemod', 0.0018699513111521617),\n",
       " ('HasFinBsmt', -0.1518357667848678),\n",
       " ('HasFinGarage', 0.015710495922836618),\n",
       " ('HasPool', 0.11226618304542663),\n",
       " ('HasFireplace', 0.024545021883393484),\n",
       " ('HasPorch', 0.016920790336176463),\n",
       " ('HasDeck', 0.015617168964217321),\n",
       " ('AttachedGarage', -0.00033220856550959793),\n",
       " ('GreatElectric', 0.01289562209086398),\n",
       " ('GreatHeat', 0.03890074467790228),\n",
       " ('CentralAir', 0.04293042031461239)]"
      ]
     },
     "execution_count": 21,
     "metadata": {},
     "output_type": "execute_result"
    }
   ],
   "source": [
    "# ridge\n",
    "rlf = linear_model.Ridge(alpha=0.1)\n",
    "rlf.fit(x_train,y_train)\n",
    "\n",
    "print('training score',rlf.score(x_train, y_train))\n",
    "print('testing score',rlf.score(x_test, y_test))\n",
    "print(rlf.coef_)\n",
    "list(zip(x_train.columns,rlf.coef_))"
   ]
  },
  {
   "cell_type": "markdown",
   "metadata": {},
   "source": [
    "## Model Deployment"
   ]
  },
  {
   "cell_type": "markdown",
   "metadata": {},
   "source": [
    "#### Buyer Profile:"
   ]
  },
  {
   "cell_type": "code",
   "execution_count": null,
   "metadata": {},
   "outputs": [],
   "source": [
    "Budget = 100000\n",
    "LivArea = 100000\n",
    "HasGarage = 0\n",
    "HasPool = 1\n",
    "HasPorch = 1\n",
    "\n",
    "buyer_data = [np.log(Budget), np.log(LivArea), HasGarage, HasPool, HasPorch]\n",
    "buyer_cols = keep\n",
    "\n",
    "buyer = pd.DataFrame(data = buyer_data, columns = buyer_cols)"
   ]
  },
  {
   "cell_type": "markdown",
   "metadata": {},
   "source": [
    "#### Buyer Recomendation Tool:"
   ]
  },
  {
   "cell_type": "code",
   "execution_count": null,
   "metadata": {},
   "outputs": [],
   "source": [
    "from math import exp\n",
    "\n",
    "def buyer_recommendation(buyer, model):\n",
    "    \n",
    "    #generate intial estimate\n",
    "    budget = buyer['LogSalePrice']\n",
    "    buyer = buyer.drop('LogSalePrice', axis=1)\n",
    "    base_value = exp(model.predict(buyer))\n",
    "    \n",
    "    print('Your budget is: ', budget)\n",
    "    print('Based on your profile, the house you want will cost: ', base_value)\n",
    "    \n",
    "    #search for ways to find a good deal\n",
    "    recommendation = []\n",
    "    \n",
    "    #if over budget, do a grid search for ways to reduce cost\n",
    "        #for feature in list:\n",
    "            #if buyer[feature] == 1:\n",
    "                buyer[feature] = 0\n",
    "                new_value = exp(model.predict(buyer))\n",
    "                savings = base_value - new_value\n",
    "                recommendation.append(savings, feature)\n",
    "        print('If you are willing to compromise on these features, you could save this much money:')\n",
    "        print(recommendation)\n",
    "        \n",
    "    #if under budget, do a grid search for way to optimize cost\n",
    "        #for feature in list:\n",
    "            #if buyer[feature] == 0:\n",
    "                buyer[feature] = 1\n",
    "                new_value = exp(model.predict(buyer))\n",
    "                if new_value < budget:\n",
    "                    stretch = new_value - base_value\n",
    "                    recommendation.append(stretch, feature)\n",
    "        print('If you want, you could add these features without going over budget:')\n",
    "        print(recommendation)\n",
    "        \n",
    "    #neighborhood search\n",
    "    \n",
    "    #square footage search\n",
    "    \n",
    "    #month of year search"
   ]
  },
  {
   "cell_type": "markdown",
   "metadata": {},
   "source": [
    "#### Seller Profile:"
   ]
  },
  {
   "cell_type": "code",
   "execution_count": null,
   "metadata": {},
   "outputs": [],
   "source": [
    "LivArea = 100000\n",
    "HasGarage = 0\n",
    "HasPool = 1\n",
    "HasPorch = 1\n",
    "\n",
    "seller_data = [np.log(LivArea), HasGarage, HasPool, HasPorch]\n",
    "seller_cols = keep[1:]\n",
    "\n",
    "buyer = pd.DataFrame(data = seller_data, columns = seller_cols)"
   ]
  },
  {
   "cell_type": "markdown",
   "metadata": {},
   "source": [
    "#### Seller Recommedation Tool:"
   ]
  },
  {
   "cell_type": "code",
   "execution_count": null,
   "metadata": {},
   "outputs": [],
   "source": [
    "def seller_recommendation(seller, model):\n",
    "    \n",
    "    #generate intial estimate\n",
    "    budget = buyer['LogSalePrice']\n",
    "    buyer = buyer.drop('LogSalePrice', axis=1)\n",
    "    base_value = exp(model.predict(buyer))\n",
    "    \n",
    "    print('Your budget is: ', budget)\n",
    "    print('Based on your profile, the house you want will cost: ', base_value)\n",
    "    \n",
    "    #search for ways to find a good deal\n",
    "    recommendation = []\n",
    "    \n",
    "    #if over budget, do a grid search for ways to reduce cost\n",
    "        #for feature in list:\n",
    "            #if buyer[feature] == 1:\n",
    "                buyer[feature] = 0\n",
    "                new_value = exp(model.predict(buyer))\n",
    "                savings = base_value - new_value\n",
    "                recommendation.append(savings, feature)\n",
    "        print('If you are willing to compromise on these features, you could save this much money:')\n",
    "        print(recommendation)\n",
    "        \n",
    "    #if under budget, do a grid search for way to optimize cost\n",
    "        #for feature in list:\n",
    "            #if buyer[feature] == 0:\n",
    "                buyer[feature] = 1\n",
    "                new_value = exp(model.predict(buyer))\n",
    "                if new_value < budget:\n",
    "                    stretch = new_value - base_value\n",
    "                    recommendation.append(stretch, feature)\n",
    "        print('If you want, you could add these features without going over budget:')\n",
    "        print(recommendation)\n",
    "        \n",
    "    #neighborhood search\n",
    "    \n",
    "    #square footage search\n",
    "    \n",
    "    #month of year search"
   ]
  }
 ],
 "metadata": {
  "kernelspec": {
   "display_name": "Python 3",
   "language": "python",
   "name": "python3"
  },
  "language_info": {
   "codemirror_mode": {
    "name": "ipython",
    "version": 3
   },
   "file_extension": ".py",
   "mimetype": "text/x-python",
   "name": "python",
   "nbconvert_exporter": "python",
   "pygments_lexer": "ipython3",
   "version": "3.7.6"
  }
 },
 "nbformat": 4,
 "nbformat_minor": 4
}

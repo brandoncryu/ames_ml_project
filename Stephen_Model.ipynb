{
 "cells": [
  {
   "cell_type": "markdown",
   "metadata": {},
   "source": [
    "# House Hunters Linear Model"
   ]
  },
  {
   "cell_type": "markdown",
   "metadata": {},
   "source": [
    "Linear regression model of human-interpretable features that will make recommendations for people looking to buy or sell a house."
   ]
  },
  {
   "cell_type": "markdown",
   "metadata": {},
   "source": [
    "## Pre-Processing"
   ]
  },
  {
   "cell_type": "code",
   "execution_count": 60,
   "metadata": {},
   "outputs": [],
   "source": [
    "# import necessary packages\n",
    "import numpy as np\n",
    "import pandas as pd\n",
    "import matplotlib.pyplot as plt\n",
    "from math import exp\n",
    "\n",
    "# set display options\n",
    "pd.set_option('display.max_columns', None)"
   ]
  },
  {
   "cell_type": "code",
   "execution_count": 68,
   "metadata": {},
   "outputs": [],
   "source": [
    "# import dataset\n",
    "housing = pd.read_csv('data/Ames_Housing_Price_Data.csv', index_col=0)\n",
    "# real_estate = pd.read_csv('./data/Ames_Real_Estate_Data.csv')"
   ]
  },
  {
   "cell_type": "markdown",
   "metadata": {},
   "source": [
    "#### Feature Cleaning"
   ]
  },
  {
   "cell_type": "code",
   "execution_count": 69,
   "metadata": {},
   "outputs": [],
   "source": [
    "#Remove Outliers\n",
    "housing = housing[np.logical_and(housing.SalePrice >= 40000, housing.SalePrice <= 750000)]\n",
    "housing = housing[housing.GrLivArea < 4000]\n",
    "\n",
    "#Remove Bad Classes\n",
    "housing = housing[housing.Neighborhood != 'Landmrk']\n",
    "\n",
    "housing.MSZoning = housing.MSZoning.astype('string')\n",
    "housing.MSZoning = housing.MSZoning.str.strip()\n",
    "housing = housing[housing.MSZoning.isin([\"FV\", \"RH\", \"RL\", \"RM\"])]\n",
    "\n",
    "housing = housing[housing.Functional.isin([\"Typ\", \"Min1\", \"Min2\"])]\n",
    "\n",
    "housing.SaleType = housing.SaleType.astype('string')\n",
    "housing.SaleType = housing.SaleType.str.strip()\n",
    "housing = housing[housing.SaleType == 'WD']\n",
    "\n",
    "housing = housing[housing.SaleCondition == 'Normal']\n",
    "\n",
    "\n",
    "#Replace NAs\n",
    "housing = housing.fillna(0)"
   ]
  },
  {
   "cell_type": "markdown",
   "metadata": {},
   "source": [
    "#### Feature Engineering"
   ]
  },
  {
   "cell_type": "code",
   "execution_count": 70,
   "metadata": {},
   "outputs": [],
   "source": [
    "#Area Calculations\n",
    "housing['PorchTotSF'] = housing.OpenPorchSF + housing.EnclosedPorch + housing['3SsnPorch'] + housing.ScreenPorch\n",
    "housing['BsmtSF'] = housing.BsmtFinSF1 + housing.BsmtFinSF2\n",
    "housing.loc[housing['BsmtSF'] == 0, 'BsmtSF'] = exp(1)\n",
    "\n",
    "#Log Transforms\n",
    "housing['LogSalePrice'] = np.log(housing.SalePrice)\n",
    "housing['LogLotArea'] = np.log(housing.LotArea)\n",
    "housing['LogGrLivArea'] = np.log(housing.GrLivArea)\n",
    "housing['LogBsmtSF'] = np.log(housing.BsmtSF)\n",
    "\n",
    "#Categorical to Ordinal\n",
    "housing.Neighborhood = housing.Neighborhood.replace({'MeadowV':1,'BrDale':2, 'IDOTRR':3, 'BrkSide':4, 'OldTown':5, 'Edwards':6, 'SWISU':7, 'Landmrk':8, 'Sawyer':9,\\\n",
    "                           'NPkVill':10, 'Blueste':11, 'NAmes':12, 'Mitchel':13, 'SawyerW':14, 'Gilbert':15, 'NWAmes':16, 'Greens':17, 'Blmngtn':18,\\\n",
    "                           'CollgCr':19, 'Crawfor':20, 'ClearCr':21, 'Somerst':22, 'Timber':23, 'Veenker':24, 'GrnHill':25, 'StoneBr':26,'NridgHt':27, 'NoRidge':28})\n",
    "housing.BldgType = housing.BldgType.replace({'2fmCon':1,'Twnhs':2, 'Duplex':3, '1Fam':4, 'TwnhsE':5})\n",
    "housing.HouseStyle = housing.HouseStyle.replace({'1.5Unf':1,'1.5Fin':2, 'SFoyer':3, 'SLvl':4, '1Story':5, '2.5Unf':6, '2Story':7, '2.5Fin':8})\n",
    "housing.MoSold = housing.MoSold.replace({1:0, 9:1, 8:2, 6:3, 7:4, 11:5, 12:6, 2:7, 3:8, 10:9, 5:10, 4:11})\n",
    "\n",
    "#Renumber Numerical\n",
    "housing['NumBath'] = housing.FullBath + 0.5*housing.HalfBath + 0.6*housing.BsmtFullBath + 0.2*housing.BsmtHalfBath\n",
    "\n",
    "#Binary HasBLANK Categories\n",
    "housing['BeenRemod'] = np.where(housing.YearBuilt != housing.YearRemodAdd, 1, 0)\n",
    "housing['HasFinBsmt'] = np.where(housing.BsmtFinSF1 > 0, 1, 0)\n",
    "housing['HasFinGarage'] = np.where(housing.GarageFinish == \"Fin\", 1, 0)\n",
    "housing['HasPool'] = np.where(housing.PoolArea > 0, 1, 0)\n",
    "housing['HasFireplace'] = np.where(housing.Fireplaces > 0, 1, 0)\n",
    "housing['HasPorch'] = np.where(housing.PorchTotSF > 0, 1, 0)\n",
    "housing['HasDeck'] = np.where(housing.WoodDeckSF > 0, 1, 0)\n",
    "\n",
    "\n",
    "#Binary Quality/Cond Categories\n",
    "housing['AttachedGarage'] = np.where(housing.GarageType == \"Attchd\", 1, 0)\n",
    "housing['GreatElectric'] = np.where(housing.Electrical == \"SBrkr\", 1, 0)\n",
    "housing['GreatHeat'] = np.where(housing.HeatingQC == \"Ex\", 1, 0)\n",
    "housing['CentralAir'] = np.where(housing.CentralAir == \"Y\", 1, 0)"
   ]
  },
  {
   "cell_type": "markdown",
   "metadata": {},
   "source": [
    "#### Feature Selection"
   ]
  },
  {
   "cell_type": "code",
   "execution_count": 71,
   "metadata": {},
   "outputs": [],
   "source": [
    "model_cols = ['LogSalePrice', 'LogLotArea', 'LogGrLivArea', 'LogBsmtSF', 'OverallQual', 'OverallCond', 'YearBuilt',\\\n",
    "              'Neighborhood', 'BldgType', 'HouseStyle', 'MoSold', 'NumBath', 'GarageCars', 'BedroomAbvGr',\\\n",
    "              'BeenRemod', 'HasFinBsmt', 'HasFinGarage', 'HasPool', 'HasFireplace', 'HasPorch', 'HasDeck',\\\n",
    "              'AttachedGarage', 'GreatElectric', 'GreatHeat', 'CentralAir']\n",
    "housing = housing[model_cols]"
   ]
  },
  {
   "cell_type": "markdown",
   "metadata": {},
   "source": [
    "## Model Generation"
   ]
  },
  {
   "cell_type": "code",
   "execution_count": 72,
   "metadata": {},
   "outputs": [],
   "source": [
    "from sklearn.linear_model import LinearRegression\n",
    "from sklearn import model_selection"
   ]
  },
  {
   "cell_type": "code",
   "execution_count": 73,
   "metadata": {},
   "outputs": [
    {
     "name": "stdout",
     "output_type": "stream",
     "text": [
      "0.9199308325342063\n",
      "0.9236199354291402\n",
      "[ 9.27327073e-02  4.67985294e-01  4.39133320e-02  7.18724949e-02\n",
      "  4.59541323e-02  2.16733925e-03  7.82057043e-03  1.04898002e-02\n",
      " -7.85741492e-03 -1.32503140e-03  1.49201415e-03  4.02823721e-02\n",
      " -2.61653402e-02  1.84865930e-03 -1.52443546e-01  1.56838337e-02\n",
      "  1.14880150e-01  2.44327410e-02  1.68908778e-02  1.56180026e-02\n",
      " -3.70010899e-04  1.29045391e-02  3.88929693e-02  4.29182814e-02]\n"
     ]
    }
   ],
   "source": [
    "y = housing['LogSalePrice']\n",
    "x = housing.drop('LogSalePrice', axis=1)\n",
    "\n",
    "x_train, x_test, y_train, y_test = model_selection.train_test_split(x, y, test_size=.2, random_state=0)\n",
    "\n",
    "lm = LinearRegression()\n",
    "lm.fit(x_train, y_train)\n",
    "\n",
    "print(lm.score(x_train, y_train))\n",
    "print(lm.score(x_test, y_test))\n",
    "print(lm.coef_)"
   ]
  },
  {
   "cell_type": "markdown",
   "metadata": {},
   "source": [
    "## Model Deployment"
   ]
  },
  {
   "cell_type": "markdown",
   "metadata": {},
   "source": [
    "#### Buyer Profile:"
   ]
  },
  {
   "cell_type": "code",
   "execution_count": null,
   "metadata": {},
   "outputs": [],
   "source": [
    "Budget = 100000\n",
    "LivArea = 100000\n",
    "HasGarage = 0\n",
    "HasPool = 1\n",
    "HasPorch = 1\n",
    "\n",
    "buyer_data = [np.log(Budget), np.log(LivArea), HasGarage, HasPool, HasPorch]\n",
    "buyer_cols = keep\n",
    "\n",
    "buyer = pd.DataFrame(data = buyer_data, columns = buyer_cols)"
   ]
  },
  {
   "cell_type": "markdown",
   "metadata": {},
   "source": [
    "#### Buyer Recomendation Tool:"
   ]
  },
  {
   "cell_type": "code",
   "execution_count": null,
   "metadata": {},
   "outputs": [],
   "source": [
    "from math import exp\n",
    "\n",
    "def buyer_recommendation(buyer, model):\n",
    "    \n",
    "    #generate intial estimate\n",
    "    budget = buyer['LogSalePrice']\n",
    "    buyer = buyer.drop('LogSalePrice', axis=1)\n",
    "    base_value = exp(model.predict(buyer))\n",
    "    \n",
    "    print('Your budget is: ', budget)\n",
    "    print('Based on your profile, the house you want will cost: ', base_value)\n",
    "    \n",
    "    #search for ways to find a good deal\n",
    "    recommendation = []\n",
    "    \n",
    "    #if over budget, do a grid search for ways to reduce cost\n",
    "        #for feature in list:\n",
    "            #if buyer[feature] == 1:\n",
    "                buyer[feature] = 0\n",
    "                new_value = exp(model.predict(buyer))\n",
    "                savings = base_value - new_value\n",
    "                recommendation.append(savings, feature)\n",
    "        print('If you are willing to compromise on these features, you could save this much money:')\n",
    "        print(recommendation)\n",
    "        \n",
    "    #if under budget, do a grid search for way to optimize cost\n",
    "        #for feature in list:\n",
    "            #if buyer[feature] == 0:\n",
    "                buyer[feature] = 1\n",
    "                new_value = exp(model.predict(buyer))\n",
    "                if new_value < budget:\n",
    "                    stretch = new_value - base_value\n",
    "                    recommendation.append(stretch, feature)\n",
    "        print('If you want, you could add these features without going over budget:')\n",
    "        print(recommendation)\n",
    "        \n",
    "    #neighborhood search\n",
    "    \n",
    "    #square footage search\n",
    "    \n",
    "    #month of year search"
   ]
  },
  {
   "cell_type": "markdown",
   "metadata": {},
   "source": [
    "#### Seller Profile:"
   ]
  },
  {
   "cell_type": "code",
   "execution_count": null,
   "metadata": {},
   "outputs": [],
   "source": [
    "LivArea = 100000\n",
    "HasGarage = 0\n",
    "HasPool = 1\n",
    "HasPorch = 1\n",
    "\n",
    "seller_data = [np.log(LivArea), HasGarage, HasPool, HasPorch]\n",
    "seller_cols = keep[1:]\n",
    "\n",
    "buyer = pd.DataFrame(data = seller_data, columns = seller_cols)"
   ]
  },
  {
   "cell_type": "markdown",
   "metadata": {},
   "source": [
    "#### Seller Recommedation Tool:"
   ]
  },
  {
   "cell_type": "code",
   "execution_count": null,
   "metadata": {},
   "outputs": [],
   "source": [
    "def seller_recommendation(seller, model):\n",
    "    \n",
    "    #generate intial estimate\n",
    "    budget = buyer['LogSalePrice']\n",
    "    buyer = buyer.drop('LogSalePrice', axis=1)\n",
    "    base_value = exp(model.predict(buyer))\n",
    "    \n",
    "    print('Your budget is: ', budget)\n",
    "    print('Based on your profile, the house you want will cost: ', base_value)\n",
    "    \n",
    "    #search for ways to find a good deal\n",
    "    recommendation = []\n",
    "    \n",
    "    #if over budget, do a grid search for ways to reduce cost\n",
    "        #for feature in list:\n",
    "            #if buyer[feature] == 1:\n",
    "                buyer[feature] = 0\n",
    "                new_value = exp(model.predict(buyer))\n",
    "                savings = base_value - new_value\n",
    "                recommendation.append(savings, feature)\n",
    "        print('If you are willing to compromise on these features, you could save this much money:')\n",
    "        print(recommendation)\n",
    "        \n",
    "    #if under budget, do a grid search for way to optimize cost\n",
    "        #for feature in list:\n",
    "            #if buyer[feature] == 0:\n",
    "                buyer[feature] = 1\n",
    "                new_value = exp(model.predict(buyer))\n",
    "                if new_value < budget:\n",
    "                    stretch = new_value - base_value\n",
    "                    recommendation.append(stretch, feature)\n",
    "        print('If you want, you could add these features without going over budget:')\n",
    "        print(recommendation)\n",
    "        \n",
    "    #neighborhood search\n",
    "    \n",
    "    #square footage search\n",
    "    \n",
    "    #month of year search"
   ]
  }
 ],
 "metadata": {
  "kernelspec": {
   "display_name": "Python 3",
   "language": "python",
   "name": "python3"
  },
  "language_info": {
   "codemirror_mode": {
    "name": "ipython",
    "version": 3
   },
   "file_extension": ".py",
   "mimetype": "text/x-python",
   "name": "python",
   "nbconvert_exporter": "python",
   "pygments_lexer": "ipython3",
   "version": "3.7.6"
  }
 },
 "nbformat": 4,
 "nbformat_minor": 4
}

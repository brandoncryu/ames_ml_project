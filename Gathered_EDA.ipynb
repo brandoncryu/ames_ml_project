{
 "cells": [
  {
   "cell_type": "code",
   "execution_count": 130,
   "metadata": {},
   "outputs": [],
   "source": [
    "#importing packages\n",
    "import pandas as pd\n",
    "import numpy as np\n",
    "import seaborn as sns\n",
    "from matplotlib import pyplot as plt\n",
    "plt.style.use('ggplot')\n",
    "from scipy.stats import norm\n",
    "from scipy import stats\n",
    "%matplotlib inline"
   ]
  },
  {
   "cell_type": "code",
   "execution_count": 131,
   "metadata": {},
   "outputs": [],
   "source": [
    "#so all DataFrame data is displayed\n",
    "pd.set_option('display.max_columns',None)\n",
    "pd.set_option('display.min_rows',0)\n",
    "pd.set_option('display.max_rows',100)"
   ]
  },
  {
   "cell_type": "markdown",
   "metadata": {},
   "source": [
    "## The Data\n",
    "\n",
    "There are two data sets included in the data folder: `Ames_Housing_Price_Data.csv` and `Ames_Real_Estate_Data.csv`.\n",
    "\n",
    "The `Ames_Housing_Price_Data.csv` set contains $81$ data columns, including the key feature **SalePrice** which will be used as the target of the predictive/descriptive modeling. $2580$ observations\n",
    "\n",
    "The `Ames_Real_Estate_Data.csv` set contains $90$ data columns, including the key feature **Prop_Addr** which will be used to find the long-lat coordinates of the houses."
   ]
  },
  {
   "cell_type": "code",
   "execution_count": 132,
   "metadata": {},
   "outputs": [
    {
     "data": {
      "text/plain": [
       "(2580, 81)"
      ]
     },
     "execution_count": 132,
     "metadata": {},
     "output_type": "execute_result"
    }
   ],
   "source": [
    "housing = pd.read_csv('Ames_HousePrice.csv', index_col=0)\n",
    "housing.shape"
   ]
  },
  {
   "cell_type": "code",
   "execution_count": 133,
   "metadata": {},
   "outputs": [
    {
     "data": {
      "text/html": [
       "<div>\n",
       "<style scoped>\n",
       "    .dataframe tbody tr th:only-of-type {\n",
       "        vertical-align: middle;\n",
       "    }\n",
       "\n",
       "    .dataframe tbody tr th {\n",
       "        vertical-align: top;\n",
       "    }\n",
       "\n",
       "    .dataframe thead th {\n",
       "        text-align: right;\n",
       "    }\n",
       "</style>\n",
       "<table border=\"1\" class=\"dataframe\">\n",
       "  <thead>\n",
       "    <tr style=\"text-align: right;\">\n",
       "      <th></th>\n",
       "      <th>PID</th>\n",
       "      <th>GrLivArea</th>\n",
       "      <th>SalePrice</th>\n",
       "      <th>MSSubClass</th>\n",
       "      <th>MSZoning</th>\n",
       "      <th>LotFrontage</th>\n",
       "      <th>LotArea</th>\n",
       "      <th>Street</th>\n",
       "      <th>Alley</th>\n",
       "      <th>LotShape</th>\n",
       "      <th>LandContour</th>\n",
       "      <th>Utilities</th>\n",
       "      <th>LotConfig</th>\n",
       "      <th>LandSlope</th>\n",
       "      <th>Neighborhood</th>\n",
       "      <th>Condition1</th>\n",
       "      <th>Condition2</th>\n",
       "      <th>BldgType</th>\n",
       "      <th>HouseStyle</th>\n",
       "      <th>OverallQual</th>\n",
       "      <th>OverallCond</th>\n",
       "      <th>YearBuilt</th>\n",
       "      <th>YearRemodAdd</th>\n",
       "      <th>RoofStyle</th>\n",
       "      <th>RoofMatl</th>\n",
       "      <th>Exterior1st</th>\n",
       "      <th>Exterior2nd</th>\n",
       "      <th>MasVnrType</th>\n",
       "      <th>MasVnrArea</th>\n",
       "      <th>ExterQual</th>\n",
       "      <th>ExterCond</th>\n",
       "      <th>Foundation</th>\n",
       "      <th>BsmtQual</th>\n",
       "      <th>BsmtCond</th>\n",
       "      <th>BsmtExposure</th>\n",
       "      <th>BsmtFinType1</th>\n",
       "      <th>BsmtFinSF1</th>\n",
       "      <th>BsmtFinType2</th>\n",
       "      <th>BsmtFinSF2</th>\n",
       "      <th>BsmtUnfSF</th>\n",
       "      <th>TotalBsmtSF</th>\n",
       "      <th>Heating</th>\n",
       "      <th>HeatingQC</th>\n",
       "      <th>CentralAir</th>\n",
       "      <th>Electrical</th>\n",
       "      <th>1stFlrSF</th>\n",
       "      <th>2ndFlrSF</th>\n",
       "      <th>LowQualFinSF</th>\n",
       "      <th>BsmtFullBath</th>\n",
       "      <th>BsmtHalfBath</th>\n",
       "      <th>FullBath</th>\n",
       "      <th>HalfBath</th>\n",
       "      <th>BedroomAbvGr</th>\n",
       "      <th>KitchenAbvGr</th>\n",
       "      <th>KitchenQual</th>\n",
       "      <th>TotRmsAbvGrd</th>\n",
       "      <th>Functional</th>\n",
       "      <th>Fireplaces</th>\n",
       "      <th>FireplaceQu</th>\n",
       "      <th>GarageType</th>\n",
       "      <th>GarageYrBlt</th>\n",
       "      <th>GarageFinish</th>\n",
       "      <th>GarageCars</th>\n",
       "      <th>GarageArea</th>\n",
       "      <th>GarageQual</th>\n",
       "      <th>GarageCond</th>\n",
       "      <th>PavedDrive</th>\n",
       "      <th>WoodDeckSF</th>\n",
       "      <th>OpenPorchSF</th>\n",
       "      <th>EnclosedPorch</th>\n",
       "      <th>3SsnPorch</th>\n",
       "      <th>ScreenPorch</th>\n",
       "      <th>PoolArea</th>\n",
       "      <th>PoolQC</th>\n",
       "      <th>Fence</th>\n",
       "      <th>MiscFeature</th>\n",
       "      <th>MiscVal</th>\n",
       "      <th>MoSold</th>\n",
       "      <th>YrSold</th>\n",
       "      <th>SaleType</th>\n",
       "      <th>SaleCondition</th>\n",
       "    </tr>\n",
       "  </thead>\n",
       "  <tbody>\n",
       "    <tr>\n",
       "      <th>1</th>\n",
       "      <td>909176150</td>\n",
       "      <td>856</td>\n",
       "      <td>126000</td>\n",
       "      <td>30</td>\n",
       "      <td>RL</td>\n",
       "      <td>NaN</td>\n",
       "      <td>7890</td>\n",
       "      <td>Pave</td>\n",
       "      <td>NaN</td>\n",
       "      <td>Reg</td>\n",
       "      <td>Lvl</td>\n",
       "      <td>AllPub</td>\n",
       "      <td>Corner</td>\n",
       "      <td>Gtl</td>\n",
       "      <td>SWISU</td>\n",
       "      <td>Norm</td>\n",
       "      <td>Norm</td>\n",
       "      <td>1Fam</td>\n",
       "      <td>1Story</td>\n",
       "      <td>6</td>\n",
       "      <td>6</td>\n",
       "      <td>1939</td>\n",
       "      <td>1950</td>\n",
       "      <td>Gable</td>\n",
       "      <td>CompShg</td>\n",
       "      <td>Wd Sdng</td>\n",
       "      <td>Wd Sdng</td>\n",
       "      <td>None</td>\n",
       "      <td>0.0</td>\n",
       "      <td>TA</td>\n",
       "      <td>TA</td>\n",
       "      <td>CBlock</td>\n",
       "      <td>TA</td>\n",
       "      <td>TA</td>\n",
       "      <td>No</td>\n",
       "      <td>Rec</td>\n",
       "      <td>238.0</td>\n",
       "      <td>Unf</td>\n",
       "      <td>0.0</td>\n",
       "      <td>618.0</td>\n",
       "      <td>856.0</td>\n",
       "      <td>GasA</td>\n",
       "      <td>TA</td>\n",
       "      <td>Y</td>\n",
       "      <td>SBrkr</td>\n",
       "      <td>856</td>\n",
       "      <td>0</td>\n",
       "      <td>0</td>\n",
       "      <td>1.0</td>\n",
       "      <td>0.0</td>\n",
       "      <td>1</td>\n",
       "      <td>0</td>\n",
       "      <td>2</td>\n",
       "      <td>1</td>\n",
       "      <td>TA</td>\n",
       "      <td>4</td>\n",
       "      <td>Typ</td>\n",
       "      <td>1</td>\n",
       "      <td>Gd</td>\n",
       "      <td>Detchd</td>\n",
       "      <td>1939.0</td>\n",
       "      <td>Unf</td>\n",
       "      <td>2.0</td>\n",
       "      <td>399.0</td>\n",
       "      <td>TA</td>\n",
       "      <td>TA</td>\n",
       "      <td>Y</td>\n",
       "      <td>0</td>\n",
       "      <td>0</td>\n",
       "      <td>0</td>\n",
       "      <td>0</td>\n",
       "      <td>166</td>\n",
       "      <td>0</td>\n",
       "      <td>NaN</td>\n",
       "      <td>NaN</td>\n",
       "      <td>NaN</td>\n",
       "      <td>0</td>\n",
       "      <td>3</td>\n",
       "      <td>2010</td>\n",
       "      <td>WD</td>\n",
       "      <td>Normal</td>\n",
       "    </tr>\n",
       "    <tr>\n",
       "      <th>2</th>\n",
       "      <td>905476230</td>\n",
       "      <td>1049</td>\n",
       "      <td>139500</td>\n",
       "      <td>120</td>\n",
       "      <td>RL</td>\n",
       "      <td>42.0</td>\n",
       "      <td>4235</td>\n",
       "      <td>Pave</td>\n",
       "      <td>NaN</td>\n",
       "      <td>Reg</td>\n",
       "      <td>Lvl</td>\n",
       "      <td>AllPub</td>\n",
       "      <td>Inside</td>\n",
       "      <td>Gtl</td>\n",
       "      <td>Edwards</td>\n",
       "      <td>Norm</td>\n",
       "      <td>Norm</td>\n",
       "      <td>TwnhsE</td>\n",
       "      <td>1Story</td>\n",
       "      <td>5</td>\n",
       "      <td>5</td>\n",
       "      <td>1984</td>\n",
       "      <td>1984</td>\n",
       "      <td>Gable</td>\n",
       "      <td>CompShg</td>\n",
       "      <td>HdBoard</td>\n",
       "      <td>HdBoard</td>\n",
       "      <td>BrkFace</td>\n",
       "      <td>149.0</td>\n",
       "      <td>Gd</td>\n",
       "      <td>TA</td>\n",
       "      <td>CBlock</td>\n",
       "      <td>Gd</td>\n",
       "      <td>TA</td>\n",
       "      <td>Mn</td>\n",
       "      <td>GLQ</td>\n",
       "      <td>552.0</td>\n",
       "      <td>ALQ</td>\n",
       "      <td>393.0</td>\n",
       "      <td>104.0</td>\n",
       "      <td>1049.0</td>\n",
       "      <td>GasA</td>\n",
       "      <td>TA</td>\n",
       "      <td>Y</td>\n",
       "      <td>SBrkr</td>\n",
       "      <td>1049</td>\n",
       "      <td>0</td>\n",
       "      <td>0</td>\n",
       "      <td>1.0</td>\n",
       "      <td>0.0</td>\n",
       "      <td>2</td>\n",
       "      <td>0</td>\n",
       "      <td>2</td>\n",
       "      <td>1</td>\n",
       "      <td>Gd</td>\n",
       "      <td>5</td>\n",
       "      <td>Typ</td>\n",
       "      <td>0</td>\n",
       "      <td>NaN</td>\n",
       "      <td>Attchd</td>\n",
       "      <td>1984.0</td>\n",
       "      <td>Fin</td>\n",
       "      <td>1.0</td>\n",
       "      <td>266.0</td>\n",
       "      <td>TA</td>\n",
       "      <td>TA</td>\n",
       "      <td>Y</td>\n",
       "      <td>0</td>\n",
       "      <td>105</td>\n",
       "      <td>0</td>\n",
       "      <td>0</td>\n",
       "      <td>0</td>\n",
       "      <td>0</td>\n",
       "      <td>NaN</td>\n",
       "      <td>NaN</td>\n",
       "      <td>NaN</td>\n",
       "      <td>0</td>\n",
       "      <td>2</td>\n",
       "      <td>2009</td>\n",
       "      <td>WD</td>\n",
       "      <td>Normal</td>\n",
       "    </tr>\n",
       "  </tbody>\n",
       "</table>\n",
       "</div>"
      ],
      "text/plain": [
       "         PID  GrLivArea  SalePrice  MSSubClass MSZoning  LotFrontage  LotArea  \\\n",
       "1  909176150        856     126000          30       RL          NaN     7890   \n",
       "2  905476230       1049     139500         120       RL         42.0     4235   \n",
       "\n",
       "  Street Alley LotShape LandContour Utilities LotConfig LandSlope  \\\n",
       "1   Pave   NaN      Reg         Lvl    AllPub    Corner       Gtl   \n",
       "2   Pave   NaN      Reg         Lvl    AllPub    Inside       Gtl   \n",
       "\n",
       "  Neighborhood Condition1 Condition2 BldgType HouseStyle  OverallQual  \\\n",
       "1        SWISU       Norm       Norm     1Fam     1Story            6   \n",
       "2      Edwards       Norm       Norm   TwnhsE     1Story            5   \n",
       "\n",
       "   OverallCond  YearBuilt  YearRemodAdd RoofStyle RoofMatl Exterior1st  \\\n",
       "1            6       1939          1950     Gable  CompShg     Wd Sdng   \n",
       "2            5       1984          1984     Gable  CompShg     HdBoard   \n",
       "\n",
       "  Exterior2nd MasVnrType  MasVnrArea ExterQual ExterCond Foundation BsmtQual  \\\n",
       "1     Wd Sdng       None         0.0        TA        TA     CBlock       TA   \n",
       "2     HdBoard    BrkFace       149.0        Gd        TA     CBlock       Gd   \n",
       "\n",
       "  BsmtCond BsmtExposure BsmtFinType1  BsmtFinSF1 BsmtFinType2  BsmtFinSF2  \\\n",
       "1       TA           No          Rec       238.0          Unf         0.0   \n",
       "2       TA           Mn          GLQ       552.0          ALQ       393.0   \n",
       "\n",
       "   BsmtUnfSF  TotalBsmtSF Heating HeatingQC CentralAir Electrical  1stFlrSF  \\\n",
       "1      618.0        856.0    GasA        TA          Y      SBrkr       856   \n",
       "2      104.0       1049.0    GasA        TA          Y      SBrkr      1049   \n",
       "\n",
       "   2ndFlrSF  LowQualFinSF  BsmtFullBath  BsmtHalfBath  FullBath  HalfBath  \\\n",
       "1         0             0           1.0           0.0         1         0   \n",
       "2         0             0           1.0           0.0         2         0   \n",
       "\n",
       "   BedroomAbvGr  KitchenAbvGr KitchenQual  TotRmsAbvGrd Functional  \\\n",
       "1             2             1          TA             4        Typ   \n",
       "2             2             1          Gd             5        Typ   \n",
       "\n",
       "   Fireplaces FireplaceQu GarageType  GarageYrBlt GarageFinish  GarageCars  \\\n",
       "1           1          Gd     Detchd       1939.0          Unf         2.0   \n",
       "2           0         NaN     Attchd       1984.0          Fin         1.0   \n",
       "\n",
       "   GarageArea GarageQual GarageCond PavedDrive  WoodDeckSF  OpenPorchSF  \\\n",
       "1       399.0         TA         TA          Y           0            0   \n",
       "2       266.0         TA         TA          Y           0          105   \n",
       "\n",
       "   EnclosedPorch  3SsnPorch  ScreenPorch  PoolArea PoolQC Fence MiscFeature  \\\n",
       "1              0          0          166         0    NaN   NaN         NaN   \n",
       "2              0          0            0         0    NaN   NaN         NaN   \n",
       "\n",
       "   MiscVal  MoSold  YrSold SaleType SaleCondition  \n",
       "1        0       3    2010      WD         Normal  \n",
       "2        0       2    2009      WD         Normal  "
      ]
     },
     "execution_count": 133,
     "metadata": {},
     "output_type": "execute_result"
    }
   ],
   "source": [
    "housing.head(2)"
   ]
  },
  {
   "cell_type": "code",
   "execution_count": 134,
   "metadata": {},
   "outputs": [
    {
     "data": {
      "text/plain": [
       "(22213, 90)"
      ]
     },
     "execution_count": 134,
     "metadata": {},
     "output_type": "execute_result"
    }
   ],
   "source": [
    "realestate = pd.read_csv('./data/Ames_Real_Estate_Data.csv', index_col=0)\n",
    "realestate.shape"
   ]
  },
  {
   "cell_type": "code",
   "execution_count": 135,
   "metadata": {},
   "outputs": [
    {
     "data": {
      "text/html": [
       "<div>\n",
       "<style scoped>\n",
       "    .dataframe tbody tr th:only-of-type {\n",
       "        vertical-align: middle;\n",
       "    }\n",
       "\n",
       "    .dataframe tbody tr th {\n",
       "        vertical-align: top;\n",
       "    }\n",
       "\n",
       "    .dataframe thead th {\n",
       "        text-align: right;\n",
       "    }\n",
       "</style>\n",
       "<table border=\"1\" class=\"dataframe\">\n",
       "  <thead>\n",
       "    <tr style=\"text-align: right;\">\n",
       "      <th></th>\n",
       "      <th>GeoRefNo</th>\n",
       "      <th>Tier</th>\n",
       "      <th>Range</th>\n",
       "      <th>Prop_Addr</th>\n",
       "      <th>ZngCdPr</th>\n",
       "      <th>ZngCdSc</th>\n",
       "      <th>ZngOLPr</th>\n",
       "      <th>ZngOLSc</th>\n",
       "      <th>ClassPr_S</th>\n",
       "      <th>ClassSc_S</th>\n",
       "      <th>Legal_Pr</th>\n",
       "      <th>SchD_S</th>\n",
       "      <th>TxD_S</th>\n",
       "      <th>MA_Ownr1</th>\n",
       "      <th>MA_Ownr2</th>\n",
       "      <th>MA_Line1</th>\n",
       "      <th>MA_Line2</th>\n",
       "      <th>MA_City</th>\n",
       "      <th>MA_State</th>\n",
       "      <th>MA_Zip1</th>\n",
       "      <th>MA_Zip2</th>\n",
       "      <th>Rcrd_Yr</th>\n",
       "      <th>Rcrd_Mo</th>\n",
       "      <th>Inst1_No</th>\n",
       "      <th>Inst1_Yr</th>\n",
       "      <th>Inst1_Mo</th>\n",
       "      <th>Inst1TPr</th>\n",
       "      <th>LndAc_S</th>\n",
       "      <th>ImpAc_S</th>\n",
       "      <th>OthAc_S</th>\n",
       "      <th>TtlVal_AsrYr</th>\n",
       "      <th>ValType</th>\n",
       "      <th>X1TPr_D</th>\n",
       "      <th>X1TSc_D</th>\n",
       "      <th>X2TPr_D</th>\n",
       "      <th>X2TSc_D</th>\n",
       "      <th>X1TPr_S</th>\n",
       "      <th>X1TSc_S</th>\n",
       "      <th>X2TPr_S</th>\n",
       "      <th>X2TSc_S</th>\n",
       "      <th>LndAcX1S</th>\n",
       "      <th>ImpAcX1S</th>\n",
       "      <th>ImpAcX2S</th>\n",
       "      <th>HSTtl_D</th>\n",
       "      <th>MilVal_D</th>\n",
       "      <th>HSTtl_S</th>\n",
       "      <th>MilVal_S</th>\n",
       "      <th>AcreX_S1</th>\n",
       "      <th>AcreGr</th>\n",
       "      <th>AcreNt_S</th>\n",
       "      <th>Neighborhood</th>\n",
       "      <th>LotArea</th>\n",
       "      <th>ParType</th>\n",
       "      <th>BldgNo_S</th>\n",
       "      <th>DwlgNo_S</th>\n",
       "      <th>BldgType</th>\n",
       "      <th>YrBuilt</th>\n",
       "      <th>HouseStyle</th>\n",
       "      <th>Foundation</th>\n",
       "      <th>RoofMatl</th>\n",
       "      <th>Ext1</th>\n",
       "      <th>Ext2</th>\n",
       "      <th>MasVnrType</th>\n",
       "      <th>Heating</th>\n",
       "      <th>Central Air</th>\n",
       "      <th>GLA</th>\n",
       "      <th>TtlBsmtSF</th>\n",
       "      <th>TotRmsAbvGrd</th>\n",
       "      <th>Fireplaces</th>\n",
       "      <th>PoolArea</th>\n",
       "      <th>GarageType</th>\n",
       "      <th>GarYrBlt</th>\n",
       "      <th>Cars</th>\n",
       "      <th>GarageArea</th>\n",
       "      <th>YrSold_YYYY</th>\n",
       "      <th>MoSold_MM</th>\n",
       "      <th>SalePrice</th>\n",
       "      <th>SaleType</th>\n",
       "      <th>SaleCond</th>\n",
       "      <th>ParclRel</th>\n",
       "      <th>PA-Nmbr</th>\n",
       "      <th>PA-PreD</th>\n",
       "      <th>PA-Strt</th>\n",
       "      <th>PA-StSfx</th>\n",
       "      <th>PA-PostD</th>\n",
       "      <th>PA-UnTyp</th>\n",
       "      <th>PA-UntNo</th>\n",
       "      <th>Date</th>\n",
       "      <th>Source</th>\n",
       "      <th>NmbrBRs</th>\n",
       "    </tr>\n",
       "    <tr>\n",
       "      <th>MapRefNo</th>\n",
       "      <th></th>\n",
       "      <th></th>\n",
       "      <th></th>\n",
       "      <th></th>\n",
       "      <th></th>\n",
       "      <th></th>\n",
       "      <th></th>\n",
       "      <th></th>\n",
       "      <th></th>\n",
       "      <th></th>\n",
       "      <th></th>\n",
       "      <th></th>\n",
       "      <th></th>\n",
       "      <th></th>\n",
       "      <th></th>\n",
       "      <th></th>\n",
       "      <th></th>\n",
       "      <th></th>\n",
       "      <th></th>\n",
       "      <th></th>\n",
       "      <th></th>\n",
       "      <th></th>\n",
       "      <th></th>\n",
       "      <th></th>\n",
       "      <th></th>\n",
       "      <th></th>\n",
       "      <th></th>\n",
       "      <th></th>\n",
       "      <th></th>\n",
       "      <th></th>\n",
       "      <th></th>\n",
       "      <th></th>\n",
       "      <th></th>\n",
       "      <th></th>\n",
       "      <th></th>\n",
       "      <th></th>\n",
       "      <th></th>\n",
       "      <th></th>\n",
       "      <th></th>\n",
       "      <th></th>\n",
       "      <th></th>\n",
       "      <th></th>\n",
       "      <th></th>\n",
       "      <th></th>\n",
       "      <th></th>\n",
       "      <th></th>\n",
       "      <th></th>\n",
       "      <th></th>\n",
       "      <th></th>\n",
       "      <th></th>\n",
       "      <th></th>\n",
       "      <th></th>\n",
       "      <th></th>\n",
       "      <th></th>\n",
       "      <th></th>\n",
       "      <th></th>\n",
       "      <th></th>\n",
       "      <th></th>\n",
       "      <th></th>\n",
       "      <th></th>\n",
       "      <th></th>\n",
       "      <th></th>\n",
       "      <th></th>\n",
       "      <th></th>\n",
       "      <th></th>\n",
       "      <th></th>\n",
       "      <th></th>\n",
       "      <th></th>\n",
       "      <th></th>\n",
       "      <th></th>\n",
       "      <th></th>\n",
       "      <th></th>\n",
       "      <th></th>\n",
       "      <th></th>\n",
       "      <th></th>\n",
       "      <th></th>\n",
       "      <th></th>\n",
       "      <th></th>\n",
       "      <th></th>\n",
       "      <th></th>\n",
       "      <th></th>\n",
       "      <th></th>\n",
       "      <th></th>\n",
       "      <th></th>\n",
       "      <th></th>\n",
       "      <th></th>\n",
       "      <th></th>\n",
       "      <th></th>\n",
       "      <th></th>\n",
       "      <th></th>\n",
       "    </tr>\n",
       "  </thead>\n",
       "  <tbody>\n",
       "    <tr>\n",
       "      <th>520400001</th>\n",
       "      <td>520400001</td>\n",
       "      <td>0</td>\n",
       "      <td>0</td>\n",
       "      <td>4599 GEORGE W CARVER AVE</td>\n",
       "      <td>FS-RL</td>\n",
       "      <td>NaN</td>\n",
       "      <td>NaN</td>\n",
       "      <td>NaN</td>\n",
       "      <td>RESIDENTIAL</td>\n",
       "      <td>VACANT LAND - IMPROVED OR UNIMPROVED</td>\n",
       "      <td>SCENIC VALLEY SD 4TH ADD \\nOUTLOT V\\n AMES</td>\n",
       "      <td>5</td>\n",
       "      <td>45</td>\n",
       "      <td>HUNZIKER DEVELOPMENT GROUP LLC</td>\n",
       "      <td>NaN</td>\n",
       "      <td>105 S 16TH ST</td>\n",
       "      <td>NaN</td>\n",
       "      <td>AMES</td>\n",
       "      <td>IA</td>\n",
       "      <td>50010.0</td>\n",
       "      <td>NaN</td>\n",
       "      <td>2019.0</td>\n",
       "      <td>7.0</td>\n",
       "      <td>201906213</td>\n",
       "      <td>2019.0</td>\n",
       "      <td>7.0</td>\n",
       "      <td>NaN</td>\n",
       "      <td>481100</td>\n",
       "      <td>0</td>\n",
       "      <td>0</td>\n",
       "      <td>481100</td>\n",
       "      <td>L</td>\n",
       "      <td>NaN</td>\n",
       "      <td>NaN</td>\n",
       "      <td>NaN</td>\n",
       "      <td>NaN</td>\n",
       "      <td>NaN</td>\n",
       "      <td>NaN</td>\n",
       "      <td>NaN</td>\n",
       "      <td>NaN</td>\n",
       "      <td>0</td>\n",
       "      <td>0</td>\n",
       "      <td>0</td>\n",
       "      <td>NaN</td>\n",
       "      <td>NaN</td>\n",
       "      <td>NaN</td>\n",
       "      <td>NaN</td>\n",
       "      <td>0.0</td>\n",
       "      <td>0.0</td>\n",
       "      <td>0.0</td>\n",
       "      <td>NaN</td>\n",
       "      <td>NaN</td>\n",
       "      <td>NaN</td>\n",
       "      <td>0</td>\n",
       "      <td>0</td>\n",
       "      <td>NaN</td>\n",
       "      <td>NaN</td>\n",
       "      <td>NaN</td>\n",
       "      <td>NaN</td>\n",
       "      <td>NaN</td>\n",
       "      <td>NaN</td>\n",
       "      <td>NaN</td>\n",
       "      <td>NaN</td>\n",
       "      <td>NaN</td>\n",
       "      <td>NaN</td>\n",
       "      <td>NaN</td>\n",
       "      <td>NaN</td>\n",
       "      <td>NaN</td>\n",
       "      <td>NaN</td>\n",
       "      <td>NaN</td>\n",
       "      <td>NaN</td>\n",
       "      <td>NaN</td>\n",
       "      <td>NaN</td>\n",
       "      <td>NaN</td>\n",
       "      <td>NaN</td>\n",
       "      <td>NaN</td>\n",
       "      <td>NaN</td>\n",
       "      <td>NaN</td>\n",
       "      <td>NaN</td>\n",
       "      <td>Deed</td>\n",
       "      <td>4599</td>\n",
       "      <td>NaN</td>\n",
       "      <td>GEORGE W CARVER</td>\n",
       "      <td>AVE</td>\n",
       "      <td>NaN</td>\n",
       "      <td>NaN</td>\n",
       "      <td>NaN</td>\n",
       "      <td>10-Jul-20</td>\n",
       "      <td>Ames City Assessor</td>\n",
       "      <td>NaN</td>\n",
       "    </tr>\n",
       "    <tr>\n",
       "      <th>520440010</th>\n",
       "      <td>520440010</td>\n",
       "      <td>0</td>\n",
       "      <td>0</td>\n",
       "      <td>4507 EVEREST  AVE</td>\n",
       "      <td>FS-RL</td>\n",
       "      <td>NaN</td>\n",
       "      <td>NaN</td>\n",
       "      <td>NaN</td>\n",
       "      <td>RESIDENTIAL</td>\n",
       "      <td>VACANT LAND - IMPROVED OR UNIMPROVED</td>\n",
       "      <td>SCENIC VALLEY SD 4TH ADD LOT:16 \\n AMES</td>\n",
       "      <td>5</td>\n",
       "      <td>45</td>\n",
       "      <td>HUNZIKER DEVELOPMENT GROUP LLC</td>\n",
       "      <td>NaN</td>\n",
       "      <td>105 S 16TH ST</td>\n",
       "      <td>NaN</td>\n",
       "      <td>AMES</td>\n",
       "      <td>IA</td>\n",
       "      <td>50010.0</td>\n",
       "      <td>NaN</td>\n",
       "      <td>2019.0</td>\n",
       "      <td>7.0</td>\n",
       "      <td>201906213</td>\n",
       "      <td>2019.0</td>\n",
       "      <td>7.0</td>\n",
       "      <td>NaN</td>\n",
       "      <td>5700</td>\n",
       "      <td>0</td>\n",
       "      <td>0</td>\n",
       "      <td>5700</td>\n",
       "      <td>L</td>\n",
       "      <td>NaN</td>\n",
       "      <td>NaN</td>\n",
       "      <td>NaN</td>\n",
       "      <td>NaN</td>\n",
       "      <td>NaN</td>\n",
       "      <td>NaN</td>\n",
       "      <td>NaN</td>\n",
       "      <td>NaN</td>\n",
       "      <td>0</td>\n",
       "      <td>0</td>\n",
       "      <td>0</td>\n",
       "      <td>NaN</td>\n",
       "      <td>NaN</td>\n",
       "      <td>NaN</td>\n",
       "      <td>NaN</td>\n",
       "      <td>0.0</td>\n",
       "      <td>0.0</td>\n",
       "      <td>0.0</td>\n",
       "      <td>NaN</td>\n",
       "      <td>NaN</td>\n",
       "      <td>NaN</td>\n",
       "      <td>0</td>\n",
       "      <td>0</td>\n",
       "      <td>NaN</td>\n",
       "      <td>NaN</td>\n",
       "      <td>NaN</td>\n",
       "      <td>NaN</td>\n",
       "      <td>NaN</td>\n",
       "      <td>NaN</td>\n",
       "      <td>NaN</td>\n",
       "      <td>NaN</td>\n",
       "      <td>NaN</td>\n",
       "      <td>NaN</td>\n",
       "      <td>NaN</td>\n",
       "      <td>NaN</td>\n",
       "      <td>NaN</td>\n",
       "      <td>NaN</td>\n",
       "      <td>NaN</td>\n",
       "      <td>NaN</td>\n",
       "      <td>NaN</td>\n",
       "      <td>NaN</td>\n",
       "      <td>NaN</td>\n",
       "      <td>NaN</td>\n",
       "      <td>NaN</td>\n",
       "      <td>NaN</td>\n",
       "      <td>NaN</td>\n",
       "      <td>NaN</td>\n",
       "      <td>Deed</td>\n",
       "      <td>4507</td>\n",
       "      <td>NaN</td>\n",
       "      <td>EVEREST</td>\n",
       "      <td>AVE</td>\n",
       "      <td>NaN</td>\n",
       "      <td>NaN</td>\n",
       "      <td>NaN</td>\n",
       "      <td>10-Jul-20</td>\n",
       "      <td>Ames City Assessor</td>\n",
       "      <td>NaN</td>\n",
       "    </tr>\n",
       "  </tbody>\n",
       "</table>\n",
       "</div>"
      ],
      "text/plain": [
       "            GeoRefNo  Tier  Range                 Prop_Addr ZngCdPr ZngCdSc  \\\n",
       "MapRefNo                                                                      \n",
       "520400001  520400001     0      0  4599 GEORGE W CARVER AVE   FS-RL     NaN   \n",
       "520440010  520440010     0      0         4507 EVEREST  AVE   FS-RL     NaN   \n",
       "\n",
       "          ZngOLPr ZngOLSc    ClassPr_S                             ClassSc_S  \\\n",
       "MapRefNo                                                                       \n",
       "520400001     NaN     NaN  RESIDENTIAL  VACANT LAND - IMPROVED OR UNIMPROVED   \n",
       "520440010     NaN     NaN  RESIDENTIAL  VACANT LAND - IMPROVED OR UNIMPROVED   \n",
       "\n",
       "                                             Legal_Pr  SchD_S  TxD_S  \\\n",
       "MapRefNo                                                               \n",
       "520400001  SCENIC VALLEY SD 4TH ADD \\nOUTLOT V\\n AMES       5     45   \n",
       "520440010     SCENIC VALLEY SD 4TH ADD LOT:16 \\n AMES       5     45   \n",
       "\n",
       "                                 MA_Ownr1 MA_Ownr2       MA_Line1  MA_Line2  \\\n",
       "MapRefNo                                                                      \n",
       "520400001  HUNZIKER DEVELOPMENT GROUP LLC      NaN  105 S 16TH ST       NaN   \n",
       "520440010  HUNZIKER DEVELOPMENT GROUP LLC      NaN  105 S 16TH ST       NaN   \n",
       "\n",
       "          MA_City MA_State  MA_Zip1  MA_Zip2  Rcrd_Yr  Rcrd_Mo   Inst1_No  \\\n",
       "MapRefNo                                                                    \n",
       "520400001    AMES       IA  50010.0      NaN   2019.0      7.0  201906213   \n",
       "520440010    AMES       IA  50010.0      NaN   2019.0      7.0  201906213   \n",
       "\n",
       "           Inst1_Yr  Inst1_Mo Inst1TPr  LndAc_S  ImpAc_S  OthAc_S  \\\n",
       "MapRefNo                                                            \n",
       "520400001    2019.0       7.0      NaN   481100        0        0   \n",
       "520440010    2019.0       7.0      NaN     5700        0        0   \n",
       "\n",
       "           TtlVal_AsrYr ValType X1TPr_D X1TSc_D  X2TPr_D X2TSc_D X1TPr_S  \\\n",
       "MapRefNo                                                                   \n",
       "520400001        481100       L     NaN     NaN      NaN     NaN     NaN   \n",
       "520440010          5700       L     NaN     NaN      NaN     NaN     NaN   \n",
       "\n",
       "          X1TSc_S  X2TPr_S X2TSc_S  LndAcX1S  ImpAcX1S  ImpAcX2S  HSTtl_D  \\\n",
       "MapRefNo                                                                    \n",
       "520400001     NaN      NaN     NaN         0         0         0      NaN   \n",
       "520440010     NaN      NaN     NaN         0         0         0      NaN   \n",
       "\n",
       "           MilVal_D  HSTtl_S  MilVal_S  AcreX_S1  AcreGr  AcreNt_S  \\\n",
       "MapRefNo                                                             \n",
       "520400001       NaN      NaN       NaN       0.0     0.0       0.0   \n",
       "520440010       NaN      NaN       NaN       0.0     0.0       0.0   \n",
       "\n",
       "          Neighborhood  LotArea ParType  BldgNo_S  DwlgNo_S BldgType  YrBuilt  \\\n",
       "MapRefNo                                                                        \n",
       "520400001          NaN      NaN     NaN         0         0      NaN      NaN   \n",
       "520440010          NaN      NaN     NaN         0         0      NaN      NaN   \n",
       "\n",
       "          HouseStyle Foundation RoofMatl Ext1 Ext2 MasVnrType Heating  \\\n",
       "MapRefNo                                                                \n",
       "520400001        NaN        NaN      NaN  NaN  NaN        NaN     NaN   \n",
       "520440010        NaN        NaN      NaN  NaN  NaN        NaN     NaN   \n",
       "\n",
       "          Central Air  GLA  TtlBsmtSF  TotRmsAbvGrd  Fireplaces  PoolArea  \\\n",
       "MapRefNo                                                                    \n",
       "520400001         NaN  NaN        NaN           NaN         NaN       NaN   \n",
       "520440010         NaN  NaN        NaN           NaN         NaN       NaN   \n",
       "\n",
       "          GarageType  GarYrBlt  Cars  GarageArea  YrSold_YYYY  MoSold_MM  \\\n",
       "MapRefNo                                                                   \n",
       "520400001        NaN       NaN   NaN         NaN          NaN        NaN   \n",
       "520440010        NaN       NaN   NaN         NaN          NaN        NaN   \n",
       "\n",
       "           SalePrice SaleType SaleCond ParclRel PA-Nmbr PA-PreD  \\\n",
       "MapRefNo                                                          \n",
       "520400001        NaN      NaN      NaN     Deed    4599     NaN   \n",
       "520440010        NaN      NaN      NaN     Deed    4507     NaN   \n",
       "\n",
       "                   PA-Strt PA-StSfx  PA-PostD PA-UnTyp PA-UntNo       Date  \\\n",
       "MapRefNo                                                                     \n",
       "520400001  GEORGE W CARVER      AVE       NaN      NaN      NaN  10-Jul-20   \n",
       "520440010          EVEREST      AVE       NaN      NaN      NaN  10-Jul-20   \n",
       "\n",
       "                       Source  NmbrBRs  \n",
       "MapRefNo                                \n",
       "520400001  Ames City Assessor      NaN  \n",
       "520440010  Ames City Assessor      NaN  "
      ]
     },
     "execution_count": 135,
     "metadata": {},
     "output_type": "execute_result"
    }
   ],
   "source": [
    "realestate.head(2)"
   ]
  },
  {
   "cell_type": "markdown",
   "metadata": {},
   "source": [
    "## Exploration:"
   ]
  },
  {
   "cell_type": "code",
   "execution_count": 136,
   "metadata": {},
   "outputs": [
    {
     "data": {
      "text/plain": [
       "1"
      ]
     },
     "execution_count": 136,
     "metadata": {},
     "output_type": "execute_result"
    }
   ],
   "source": [
    "#seeing that there is one duplicate row in housing DF\n",
    "sum(housing['PID'].value_counts() > 1)"
   ]
  },
  {
   "cell_type": "code",
   "execution_count": 137,
   "metadata": {},
   "outputs": [
    {
     "data": {
      "text/html": [
       "<div>\n",
       "<style scoped>\n",
       "    .dataframe tbody tr th:only-of-type {\n",
       "        vertical-align: middle;\n",
       "    }\n",
       "\n",
       "    .dataframe tbody tr th {\n",
       "        vertical-align: top;\n",
       "    }\n",
       "\n",
       "    .dataframe thead th {\n",
       "        text-align: right;\n",
       "    }\n",
       "</style>\n",
       "<table border=\"1\" class=\"dataframe\">\n",
       "  <thead>\n",
       "    <tr style=\"text-align: right;\">\n",
       "      <th></th>\n",
       "      <th>PID</th>\n",
       "      <th>GrLivArea</th>\n",
       "      <th>SalePrice</th>\n",
       "      <th>MSSubClass</th>\n",
       "      <th>MSZoning</th>\n",
       "      <th>LotFrontage</th>\n",
       "      <th>LotArea</th>\n",
       "      <th>Street</th>\n",
       "      <th>Alley</th>\n",
       "      <th>LotShape</th>\n",
       "      <th>LandContour</th>\n",
       "      <th>Utilities</th>\n",
       "      <th>LotConfig</th>\n",
       "      <th>LandSlope</th>\n",
       "      <th>Neighborhood</th>\n",
       "      <th>Condition1</th>\n",
       "      <th>Condition2</th>\n",
       "      <th>BldgType</th>\n",
       "      <th>HouseStyle</th>\n",
       "      <th>OverallQual</th>\n",
       "      <th>OverallCond</th>\n",
       "      <th>YearBuilt</th>\n",
       "      <th>YearRemodAdd</th>\n",
       "      <th>RoofStyle</th>\n",
       "      <th>RoofMatl</th>\n",
       "      <th>Exterior1st</th>\n",
       "      <th>Exterior2nd</th>\n",
       "      <th>MasVnrType</th>\n",
       "      <th>MasVnrArea</th>\n",
       "      <th>ExterQual</th>\n",
       "      <th>ExterCond</th>\n",
       "      <th>Foundation</th>\n",
       "      <th>BsmtQual</th>\n",
       "      <th>BsmtCond</th>\n",
       "      <th>BsmtExposure</th>\n",
       "      <th>BsmtFinType1</th>\n",
       "      <th>BsmtFinSF1</th>\n",
       "      <th>BsmtFinType2</th>\n",
       "      <th>BsmtFinSF2</th>\n",
       "      <th>BsmtUnfSF</th>\n",
       "      <th>TotalBsmtSF</th>\n",
       "      <th>Heating</th>\n",
       "      <th>HeatingQC</th>\n",
       "      <th>CentralAir</th>\n",
       "      <th>Electrical</th>\n",
       "      <th>1stFlrSF</th>\n",
       "      <th>2ndFlrSF</th>\n",
       "      <th>LowQualFinSF</th>\n",
       "      <th>BsmtFullBath</th>\n",
       "      <th>BsmtHalfBath</th>\n",
       "      <th>FullBath</th>\n",
       "      <th>HalfBath</th>\n",
       "      <th>BedroomAbvGr</th>\n",
       "      <th>KitchenAbvGr</th>\n",
       "      <th>KitchenQual</th>\n",
       "      <th>TotRmsAbvGrd</th>\n",
       "      <th>Functional</th>\n",
       "      <th>Fireplaces</th>\n",
       "      <th>FireplaceQu</th>\n",
       "      <th>GarageType</th>\n",
       "      <th>GarageYrBlt</th>\n",
       "      <th>GarageFinish</th>\n",
       "      <th>GarageCars</th>\n",
       "      <th>GarageArea</th>\n",
       "      <th>GarageQual</th>\n",
       "      <th>GarageCond</th>\n",
       "      <th>PavedDrive</th>\n",
       "      <th>WoodDeckSF</th>\n",
       "      <th>OpenPorchSF</th>\n",
       "      <th>EnclosedPorch</th>\n",
       "      <th>3SsnPorch</th>\n",
       "      <th>ScreenPorch</th>\n",
       "      <th>PoolArea</th>\n",
       "      <th>PoolQC</th>\n",
       "      <th>Fence</th>\n",
       "      <th>MiscFeature</th>\n",
       "      <th>MiscVal</th>\n",
       "      <th>MoSold</th>\n",
       "      <th>YrSold</th>\n",
       "      <th>SaleType</th>\n",
       "      <th>SaleCondition</th>\n",
       "    </tr>\n",
       "  </thead>\n",
       "  <tbody>\n",
       "    <tr>\n",
       "      <th>817</th>\n",
       "      <td>909276070</td>\n",
       "      <td>1717</td>\n",
       "      <td>194000</td>\n",
       "      <td>50</td>\n",
       "      <td>RL</td>\n",
       "      <td>80.0</td>\n",
       "      <td>12400</td>\n",
       "      <td>Pave</td>\n",
       "      <td>NaN</td>\n",
       "      <td>Reg</td>\n",
       "      <td>HLS</td>\n",
       "      <td>AllPub</td>\n",
       "      <td>Inside</td>\n",
       "      <td>Mod</td>\n",
       "      <td>Crawfor</td>\n",
       "      <td>Norm</td>\n",
       "      <td>Norm</td>\n",
       "      <td>1Fam</td>\n",
       "      <td>1.5Fin</td>\n",
       "      <td>5</td>\n",
       "      <td>6</td>\n",
       "      <td>1940</td>\n",
       "      <td>1950</td>\n",
       "      <td>Gable</td>\n",
       "      <td>CompShg</td>\n",
       "      <td>Wd Sdng</td>\n",
       "      <td>Wd Sdng</td>\n",
       "      <td>None</td>\n",
       "      <td>0.0</td>\n",
       "      <td>TA</td>\n",
       "      <td>TA</td>\n",
       "      <td>CBlock</td>\n",
       "      <td>Gd</td>\n",
       "      <td>TA</td>\n",
       "      <td>Mn</td>\n",
       "      <td>BLQ</td>\n",
       "      <td>602.0</td>\n",
       "      <td>Unf</td>\n",
       "      <td>0.0</td>\n",
       "      <td>299.0</td>\n",
       "      <td>901.0</td>\n",
       "      <td>GasA</td>\n",
       "      <td>TA</td>\n",
       "      <td>Y</td>\n",
       "      <td>SBrkr</td>\n",
       "      <td>1125</td>\n",
       "      <td>592</td>\n",
       "      <td>0</td>\n",
       "      <td>0.0</td>\n",
       "      <td>0.0</td>\n",
       "      <td>1</td>\n",
       "      <td>1</td>\n",
       "      <td>2</td>\n",
       "      <td>1</td>\n",
       "      <td>TA</td>\n",
       "      <td>7</td>\n",
       "      <td>Typ</td>\n",
       "      <td>1</td>\n",
       "      <td>Gd</td>\n",
       "      <td>Attchd</td>\n",
       "      <td>1940.0</td>\n",
       "      <td>Unf</td>\n",
       "      <td>1.0</td>\n",
       "      <td>410.0</td>\n",
       "      <td>TA</td>\n",
       "      <td>TA</td>\n",
       "      <td>Y</td>\n",
       "      <td>0</td>\n",
       "      <td>0</td>\n",
       "      <td>0</td>\n",
       "      <td>0</td>\n",
       "      <td>113</td>\n",
       "      <td>0</td>\n",
       "      <td>NaN</td>\n",
       "      <td>NaN</td>\n",
       "      <td>NaN</td>\n",
       "      <td>0</td>\n",
       "      <td>2</td>\n",
       "      <td>2006</td>\n",
       "      <td>WD</td>\n",
       "      <td>Normal</td>\n",
       "    </tr>\n",
       "    <tr>\n",
       "      <th>1</th>\n",
       "      <td>909276070</td>\n",
       "      <td>1717</td>\n",
       "      <td>194000</td>\n",
       "      <td>50</td>\n",
       "      <td>RL</td>\n",
       "      <td>80.0</td>\n",
       "      <td>12400</td>\n",
       "      <td>Pave</td>\n",
       "      <td>NaN</td>\n",
       "      <td>Reg</td>\n",
       "      <td>HLS</td>\n",
       "      <td>AllPub</td>\n",
       "      <td>Inside</td>\n",
       "      <td>Mod</td>\n",
       "      <td>Crawfor</td>\n",
       "      <td>Norm</td>\n",
       "      <td>Norm</td>\n",
       "      <td>1Fam</td>\n",
       "      <td>1.5Fin</td>\n",
       "      <td>5</td>\n",
       "      <td>6</td>\n",
       "      <td>1940</td>\n",
       "      <td>1950</td>\n",
       "      <td>Gable</td>\n",
       "      <td>CompShg</td>\n",
       "      <td>Wd Sdng</td>\n",
       "      <td>Wd Sdng</td>\n",
       "      <td>None</td>\n",
       "      <td>0.0</td>\n",
       "      <td>TA</td>\n",
       "      <td>TA</td>\n",
       "      <td>CBlock</td>\n",
       "      <td>Gd</td>\n",
       "      <td>TA</td>\n",
       "      <td>Mn</td>\n",
       "      <td>BLQ</td>\n",
       "      <td>602.0</td>\n",
       "      <td>Unf</td>\n",
       "      <td>0.0</td>\n",
       "      <td>299.0</td>\n",
       "      <td>901.0</td>\n",
       "      <td>GasA</td>\n",
       "      <td>TA</td>\n",
       "      <td>Y</td>\n",
       "      <td>SBrkr</td>\n",
       "      <td>1125</td>\n",
       "      <td>592</td>\n",
       "      <td>0</td>\n",
       "      <td>0.0</td>\n",
       "      <td>0.0</td>\n",
       "      <td>1</td>\n",
       "      <td>1</td>\n",
       "      <td>2</td>\n",
       "      <td>1</td>\n",
       "      <td>TA</td>\n",
       "      <td>7</td>\n",
       "      <td>Typ</td>\n",
       "      <td>1</td>\n",
       "      <td>Gd</td>\n",
       "      <td>Attchd</td>\n",
       "      <td>1940.0</td>\n",
       "      <td>Unf</td>\n",
       "      <td>1.0</td>\n",
       "      <td>410.0</td>\n",
       "      <td>TA</td>\n",
       "      <td>TA</td>\n",
       "      <td>Y</td>\n",
       "      <td>0</td>\n",
       "      <td>0</td>\n",
       "      <td>0</td>\n",
       "      <td>0</td>\n",
       "      <td>113</td>\n",
       "      <td>0</td>\n",
       "      <td>NaN</td>\n",
       "      <td>NaN</td>\n",
       "      <td>NaN</td>\n",
       "      <td>0</td>\n",
       "      <td>2</td>\n",
       "      <td>2006</td>\n",
       "      <td>WD</td>\n",
       "      <td>Normal</td>\n",
       "    </tr>\n",
       "  </tbody>\n",
       "</table>\n",
       "</div>"
      ],
      "text/plain": [
       "           PID  GrLivArea  SalePrice  MSSubClass MSZoning  LotFrontage  \\\n",
       "817  909276070       1717     194000          50       RL         80.0   \n",
       "1    909276070       1717     194000          50       RL         80.0   \n",
       "\n",
       "     LotArea Street Alley LotShape LandContour Utilities LotConfig LandSlope  \\\n",
       "817    12400   Pave   NaN      Reg         HLS    AllPub    Inside       Mod   \n",
       "1      12400   Pave   NaN      Reg         HLS    AllPub    Inside       Mod   \n",
       "\n",
       "    Neighborhood Condition1 Condition2 BldgType HouseStyle  OverallQual  \\\n",
       "817      Crawfor       Norm       Norm     1Fam     1.5Fin            5   \n",
       "1        Crawfor       Norm       Norm     1Fam     1.5Fin            5   \n",
       "\n",
       "     OverallCond  YearBuilt  YearRemodAdd RoofStyle RoofMatl Exterior1st  \\\n",
       "817            6       1940          1950     Gable  CompShg     Wd Sdng   \n",
       "1              6       1940          1950     Gable  CompShg     Wd Sdng   \n",
       "\n",
       "    Exterior2nd MasVnrType  MasVnrArea ExterQual ExterCond Foundation  \\\n",
       "817     Wd Sdng       None         0.0        TA        TA     CBlock   \n",
       "1       Wd Sdng       None         0.0        TA        TA     CBlock   \n",
       "\n",
       "    BsmtQual BsmtCond BsmtExposure BsmtFinType1  BsmtFinSF1 BsmtFinType2  \\\n",
       "817       Gd       TA           Mn          BLQ       602.0          Unf   \n",
       "1         Gd       TA           Mn          BLQ       602.0          Unf   \n",
       "\n",
       "     BsmtFinSF2  BsmtUnfSF  TotalBsmtSF Heating HeatingQC CentralAir  \\\n",
       "817         0.0      299.0        901.0    GasA        TA          Y   \n",
       "1           0.0      299.0        901.0    GasA        TA          Y   \n",
       "\n",
       "    Electrical  1stFlrSF  2ndFlrSF  LowQualFinSF  BsmtFullBath  BsmtHalfBath  \\\n",
       "817      SBrkr      1125       592             0           0.0           0.0   \n",
       "1        SBrkr      1125       592             0           0.0           0.0   \n",
       "\n",
       "     FullBath  HalfBath  BedroomAbvGr  KitchenAbvGr KitchenQual  TotRmsAbvGrd  \\\n",
       "817         1         1             2             1          TA             7   \n",
       "1           1         1             2             1          TA             7   \n",
       "\n",
       "    Functional  Fireplaces FireplaceQu GarageType  GarageYrBlt GarageFinish  \\\n",
       "817        Typ           1          Gd     Attchd       1940.0          Unf   \n",
       "1          Typ           1          Gd     Attchd       1940.0          Unf   \n",
       "\n",
       "     GarageCars  GarageArea GarageQual GarageCond PavedDrive  WoodDeckSF  \\\n",
       "817         1.0       410.0         TA         TA          Y           0   \n",
       "1           1.0       410.0         TA         TA          Y           0   \n",
       "\n",
       "     OpenPorchSF  EnclosedPorch  3SsnPorch  ScreenPorch  PoolArea PoolQC  \\\n",
       "817            0              0          0          113         0    NaN   \n",
       "1              0              0          0          113         0    NaN   \n",
       "\n",
       "    Fence MiscFeature  MiscVal  MoSold  YrSold SaleType SaleCondition  \n",
       "817   NaN         NaN        0       2    2006      WD         Normal  \n",
       "1     NaN         NaN        0       2    2006      WD         Normal  "
      ]
     },
     "execution_count": 137,
     "metadata": {},
     "output_type": "execute_result"
    }
   ],
   "source": [
    "#exploring duplicate row in housing dataset \n",
    "housing[housing['PID'] == 909276070]"
   ]
  },
  {
   "cell_type": "code",
   "execution_count": 138,
   "metadata": {},
   "outputs": [
    {
     "data": {
      "text/plain": [
       "0"
      ]
     },
     "execution_count": 138,
     "metadata": {},
     "output_type": "execute_result"
    }
   ],
   "source": [
    "#removing deplicates\n",
    "housing = housing.drop_duplicates(subset = ['PID'])\n",
    "#checking\n",
    "sum(housing['PID'].value_counts() > 1)"
   ]
  },
  {
   "cell_type": "code",
   "execution_count": 139,
   "metadata": {},
   "outputs": [],
   "source": [
    "#Fill missing data\n",
    "housing = housing.fillna(0.0)"
   ]
  },
  {
   "cell_type": "markdown",
   "metadata": {},
   "source": [
    "## Trends in Data"
   ]
  },
  {
   "cell_type": "code",
   "execution_count": 140,
   "metadata": {},
   "outputs": [
    {
     "data": {
      "text/plain": [
       "<matplotlib.axes._subplots.AxesSubplot at 0x1a29b20e10>"
      ]
     },
     "execution_count": 140,
     "metadata": {},
     "output_type": "execute_result"
    },
    {
     "data": {
      "image/png": "[encoded data removed]",
      "text/plain": [
       "<Figure size 432x288 with 1 Axes>"
      ]
     },
     "metadata": {
      "needs_background": "light"
     },
     "output_type": "display_data"
    }
   ],
   "source": [
    "sns.distplot(housing.YearBuilt)\n",
    "# YearBuilt of houses are not normally distributed. Local maximums around 1923, 1960, 2005.\n",
    "# (every 40 years, a wave of new houses)"
   ]
  },
  {
   "cell_type": "code",
   "execution_count": 141,
   "metadata": {},
   "outputs": [
    {
     "data": {
      "text/plain": [
       "<matplotlib.axes._subplots.AxesSubplot at 0x1a1bc8f650>"
      ]
     },
     "execution_count": 141,
     "metadata": {},
     "output_type": "execute_result"
    },
    {
     "data": {
      "image/png": "[encoded data removed]",
      "text/plain": [
       "<Figure size 432x288 with 1 Axes>"
      ]
     },
     "metadata": {
      "needs_background": "light"
     },
     "output_type": "display_data"
    }
   ],
   "source": [
    "sns.distplot(housing.SalePrice)\n",
    "# Sale price of houses in Ames are normally distributed with mean price around $178,000 and sd $75,000\n",
    "# Right Skewed - There are probably outlier we would like to remove  "
   ]
  },
  {
   "cell_type": "code",
   "execution_count": 142,
   "metadata": {},
   "outputs": [
    {
     "data": {
      "text/plain": [
       "159900.0"
      ]
     },
     "execution_count": 142,
     "metadata": {},
     "output_type": "execute_result"
    }
   ],
   "source": [
    "housing['SalePrice'].median()"
   ]
  },
  {
   "cell_type": "code",
   "execution_count": 143,
   "metadata": {
    "scrolled": true
   },
   "outputs": [
    {
     "data": {
      "text/plain": [
       "count      2579.000000\n",
       "mean     178053.442420\n",
       "std       75044.983207\n",
       "min       12789.000000\n",
       "25%      129950.000000\n",
       "50%      159900.000000\n",
       "75%      209750.000000\n",
       "max      755000.000000\n",
       "Name: SalePrice, dtype: float64"
      ]
     },
     "execution_count": 143,
     "metadata": {},
     "output_type": "execute_result"
    }
   ],
   "source": [
    "housing['SalePrice'].describe()"
   ]
  },
  {
   "cell_type": "code",
   "execution_count": 144,
   "metadata": {},
   "outputs": [
    {
     "name": "stdout",
     "output_type": "stream",
     "text": [
      "Skewness: 1.760751\n",
      "Kurtosis: 5.430411\n"
     ]
    }
   ],
   "source": [
    "#skewness and kurtosis\n",
    "print(\"Skewness: %f\" % housing['SalePrice'].skew())\n",
    "print(\"Kurtosis: %f\" % housing['SalePrice'].kurt())"
   ]
  },
  {
   "cell_type": "code",
   "execution_count": 145,
   "metadata": {
    "scrolled": true
   },
   "outputs": [
    {
     "data": {
      "text/plain": [
       "count      2579.000000\n",
       "mean     178053.442420\n",
       "std       75044.983207\n",
       "min       12789.000000\n",
       "25%      129950.000000\n",
       "50%      159900.000000\n",
       "75%      209750.000000\n",
       "max      755000.000000\n",
       "Name: SalePrice, dtype: float64"
      ]
     },
     "execution_count": 145,
     "metadata": {},
     "output_type": "execute_result"
    },
    {
     "data": {
      "image/png": "[encoded data removed]",
      "text/plain": [
       "<Figure size 432x288 with 1 Axes>"
      ]
     },
     "metadata": {
      "needs_background": "light"
     },
     "output_type": "display_data"
    }
   ],
   "source": [
    "housing.SalePrice.plot(kind='box')\n",
    "housing.SalePrice.describe()"
   ]
  },
  {
   "cell_type": "code",
   "execution_count": 146,
   "metadata": {},
   "outputs": [
    {
     "data": {
      "text/plain": [
       "Text(0.5, 1.0, 'Building Type Distribution')"
      ]
     },
     "execution_count": 146,
     "metadata": {},
     "output_type": "execute_result"
    },
    {
     "data": {
      "image/png": "[encoded data removed]",
      "text/plain": [
       "<Figure size 216x216 with 1 Axes>"
      ]
     },
     "metadata": {
      "needs_background": "light"
     },
     "output_type": "display_data"
    }
   ],
   "source": [
    "plt.figure(figsize=(3,3))\n",
    "housing['BldgType'].value_counts().plot(kind='bar')\n",
    "plt.title('Building Type Distribution')"
   ]
  },
  {
   "cell_type": "code",
   "execution_count": 147,
   "metadata": {},
   "outputs": [
    {
     "data": {
      "text/plain": [
       "RL         2007\n",
       "RM          418\n",
       "FV          113\n",
       "RH           21\n",
       "C (all)      17\n",
       "I (all)       2\n",
       "A (agr)       1\n",
       "Name: MSZoning, dtype: int64"
      ]
     },
     "execution_count": 147,
     "metadata": {},
     "output_type": "execute_result"
    }
   ],
   "source": [
    "housing.MSZoning.value_counts()\n",
    "# decided to drop C I A\n",
    "# keeping only residential property "
   ]
  },
  {
   "cell_type": "code",
   "execution_count": 148,
   "metadata": {},
   "outputs": [
    {
     "data": {
      "text/plain": [
       "Text(0.5, 1.0, 'Distribution of Functional Features')"
      ]
     },
     "execution_count": 148,
     "metadata": {},
     "output_type": "execute_result"
    },
    {
     "data": {
      "image/png": "[encoded data removed]",
      "text/plain": [
       "<Figure size 288x288 with 1 Axes>"
      ]
     },
     "metadata": {
      "needs_background": "light"
     },
     "output_type": "display_data"
    }
   ],
   "source": [
    "plt.figure(figsize=(4,4))\n",
    "housing.Functional.value_counts().plot(kind='bar')\n",
    "plt.title('Distribution of Functional Features')\n",
    "\n",
    "# dropped housing with Moderate, Major or Salvage deductions"
   ]
  },
  {
   "cell_type": "markdown",
   "metadata": {},
   "source": [
    "### Analyzing Monthly Sale Price"
   ]
  },
  {
   "cell_type": "code",
   "execution_count": 149,
   "metadata": {
    "scrolled": false
   },
   "outputs": [
    {
     "data": {
      "text/plain": [
       "Text(0.5, 1.0, 'Monthly Sale Price')"
      ]
     },
     "execution_count": 149,
     "metadata": {},
     "output_type": "execute_result"
    },
    {
     "data": {
      "image/png": "[encoded data removed]",
      "text/plain": [
       "<Figure size 360x360 with 1 Axes>"
      ]
     },
     "metadata": {
      "needs_background": "light"
     },
     "output_type": "display_data"
    }
   ],
   "source": [
    "plt.figure(figsize=(5,5))\n",
    "housing.groupby('MoSold').agg({'SalePrice':'mean'})['SalePrice'].plot()\n",
    "plt.title('Monthly Sale Price')\n",
    "#Clear difference in price base on month sold"
   ]
  },
  {
   "cell_type": "code",
   "execution_count": 150,
   "metadata": {},
   "outputs": [
    {
     "data": {
      "text/html": [
       "<div>\n",
       "<style scoped>\n",
       "    .dataframe tbody tr th:only-of-type {\n",
       "        vertical-align: middle;\n",
       "    }\n",
       "\n",
       "    .dataframe tbody tr th {\n",
       "        vertical-align: top;\n",
       "    }\n",
       "\n",
       "    .dataframe thead th {\n",
       "        text-align: right;\n",
       "    }\n",
       "</style>\n",
       "<table border=\"1\" class=\"dataframe\">\n",
       "  <thead>\n",
       "    <tr style=\"text-align: right;\">\n",
       "      <th></th>\n",
       "      <th>MoSold</th>\n",
       "      <th>SalePrice</th>\n",
       "    </tr>\n",
       "    <tr>\n",
       "      <th>DescOrder</th>\n",
       "      <th></th>\n",
       "      <th></th>\n",
       "    </tr>\n",
       "  </thead>\n",
       "  <tbody>\n",
       "    <tr>\n",
       "      <th>0</th>\n",
       "      <td>1</td>\n",
       "      <td>193856.227723</td>\n",
       "    </tr>\n",
       "    <tr>\n",
       "      <th>1</th>\n",
       "      <td>9</td>\n",
       "      <td>183824.374046</td>\n",
       "    </tr>\n",
       "    <tr>\n",
       "      <th>2</th>\n",
       "      <td>8</td>\n",
       "      <td>183253.896373</td>\n",
       "    </tr>\n",
       "    <tr>\n",
       "      <th>3</th>\n",
       "      <td>6</td>\n",
       "      <td>181035.041394</td>\n",
       "    </tr>\n",
       "    <tr>\n",
       "      <th>4</th>\n",
       "      <td>7</td>\n",
       "      <td>180449.995000</td>\n",
       "    </tr>\n",
       "    <tr>\n",
       "      <th>5</th>\n",
       "      <td>11</td>\n",
       "      <td>179970.948718</td>\n",
       "    </tr>\n",
       "    <tr>\n",
       "      <th>6</th>\n",
       "      <td>12</td>\n",
       "      <td>179577.244186</td>\n",
       "    </tr>\n",
       "    <tr>\n",
       "      <th>7</th>\n",
       "      <td>2</td>\n",
       "      <td>177146.308333</td>\n",
       "    </tr>\n",
       "    <tr>\n",
       "      <th>8</th>\n",
       "      <td>3</td>\n",
       "      <td>174941.899522</td>\n",
       "    </tr>\n",
       "    <tr>\n",
       "      <th>9</th>\n",
       "      <td>10</td>\n",
       "      <td>173962.533784</td>\n",
       "    </tr>\n",
       "    <tr>\n",
       "      <th>10</th>\n",
       "      <td>5</td>\n",
       "      <td>172817.118457</td>\n",
       "    </tr>\n",
       "    <tr>\n",
       "      <th>11</th>\n",
       "      <td>4</td>\n",
       "      <td>167049.781746</td>\n",
       "    </tr>\n",
       "  </tbody>\n",
       "</table>\n",
       "</div>"
      ],
      "text/plain": [
       "           MoSold      SalePrice\n",
       "DescOrder                       \n",
       "0               1  193856.227723\n",
       "1               9  183824.374046\n",
       "2               8  183253.896373\n",
       "3               6  181035.041394\n",
       "4               7  180449.995000\n",
       "5              11  179970.948718\n",
       "6              12  179577.244186\n",
       "7               2  177146.308333\n",
       "8               3  174941.899522\n",
       "9              10  173962.533784\n",
       "10              5  172817.118457\n",
       "11              4  167049.781746"
      ]
     },
     "execution_count": 150,
     "metadata": {},
     "output_type": "execute_result"
    }
   ],
   "source": [
    "mo_sale = housing.groupby('MoSold').agg({'SalePrice':'mean'}).sort_values('SalePrice', ascending=False).reset_index()\n",
    "mo_sale.index.names = ['DescOrder']\n",
    "mo_sale"
   ]
  },
  {
   "cell_type": "code",
   "execution_count": 151,
   "metadata": {},
   "outputs": [
    {
     "data": {
      "text/plain": [
       "Text(0.5, 0, 'Order')"
      ]
     },
     "execution_count": 151,
     "metadata": {},
     "output_type": "execute_result"
    },
    {
     "data": {
      "image/png": "[encoded data removed]",
      "text/plain": [
       "<Figure size 432x432 with 1 Axes>"
      ]
     },
     "metadata": {
      "needs_background": "light"
     },
     "output_type": "display_data"
    }
   ],
   "source": [
    "fig, ax = plt.subplots(figsize=(6,6))\n",
    "scatter = ax.scatter(mo_sale.index, mo_sale['SalePrice'], c=mo_sale['MoSold'])\n",
    "legend1 = ax.legend(*scatter.legend_elements(),\n",
    "                    loc=\"upper right\", title=\"True Month\")\n",
    "ax.add_artist(legend1)\n",
    "plt.title('Lowest to Highest Avg Monthly Sale Price')\n",
    "plt.xlabel('Order')"
   ]
  },
  {
   "cell_type": "markdown",
   "metadata": {},
   "source": [
    "**Conclusion:** We can create a re-ordered ordinal column for month and predict when the next best month to buy a house is. In addition, mortgage rates by month are not helpful, but mortgage rates are correlated with price on an annual basis. Unfortunately, the trend is in the opposite direction than we would expect, so it may not be useful."
   ]
  },
  {
   "cell_type": "markdown",
   "metadata": {},
   "source": [
    "### Analyzing Remodeling on Sale Price"
   ]
  },
  {
   "cell_type": "code",
   "execution_count": 152,
   "metadata": {},
   "outputs": [
    {
     "data": {
      "text/plain": [
       "Text(0.5, 1.0, 'Sale Price of Remodeled vs Not Remodeled Houses')"
      ]
     },
     "execution_count": 152,
     "metadata": {},
     "output_type": "execute_result"
    },
    {
     "data": {
      "image/png": "[encoded data removed]",
      "text/plain": [
       "<Figure size 432x288 with 1 Axes>"
      ]
     },
     "metadata": {
      "needs_background": "light"
     },
     "output_type": "display_data"
    }
   ],
   "source": [
    "# look at average price per built decade without remodeling and compare with average price per built decade with remodeling\n",
    "not_remodeled_price = housing[housing.YearRemodAdd==housing.YearBuilt].groupby((housing[housing.YearRemodAdd==housing.YearBuilt].YearBuilt//10)*10)['SalePrice'].mean().reset_index()\n",
    "remodeled_price = housing[housing.YearRemodAdd!=housing.YearBuilt].groupby((housing[housing.YearRemodAdd!=housing.YearBuilt].YearBuilt//10)*10)['SalePrice'].mean().reset_index()\n",
    "remodel_and_not = remodeled_price.merge(not_remodeled_price, how = 'right', on='YearBuilt').rename(columns={'SalePrice_x':'Price_Remodeled','SalePrice_y':'Price_Not_Remodeled'})\n",
    "remodel_and_not = pd.melt(remodel_and_not,id_vars=['YearBuilt'])\n",
    "sns.barplot(data = remodel_and_not, x='YearBuilt', y='value', hue='variable')\n",
    "# group into the year built\n",
    "\n",
    "plt.title('Sale Price of Remodeled vs Not Remodeled Houses')\n"
   ]
  },
  {
   "cell_type": "markdown",
   "metadata": {},
   "source": [
    "## Compare Annual Sale Price with Mortgage Rates"
   ]
  },
  {
   "cell_type": "code",
   "execution_count": 155,
   "metadata": {},
   "outputs": [],
   "source": [
    "FRM = pd.read_csv('data/mortgage_rates.csv')\n",
    "FRM = FRM.merge(housing.groupby(['YrSold','MoSold']).agg({'SalePrice':'mean'}), left_on=['Year', 'Month'], right_on=['YrSold','MoSold'])"
   ]
  },
  {
   "cell_type": "code",
   "execution_count": 156,
   "metadata": {},
   "outputs": [
    {
     "data": {
      "text/plain": [
       "Text(0, 0.5, 'Monthly Average Sale Price')"
      ]
     },
     "execution_count": 156,
     "metadata": {},
     "output_type": "execute_result"
    },
    {
     "data": {
      "image/png": "[encoded data removed]",
      "text/plain": [
       "<Figure size 432x432 with 1 Axes>"
      ]
     },
     "metadata": {
      "needs_background": "light"
     },
     "output_type": "display_data"
    }
   ],
   "source": [
    "fig, ax = plt.subplots(figsize=(6,6))\n",
    "scatter = plt.scatter(FRM['FRM'], FRM['SalePrice'], c=FRM['Year'])\n",
    "legend1 = ax.legend(*scatter.legend_elements(),\n",
    "                    loc=\"upper left\", title=\"Year\")\n",
    "ax.add_artist(legend1)\n",
    "plt.title('Monthly Sale Price Based on Mortgage Rates')\n",
    "plt.xlabel('30 Year Fixed Interest Mortgage Rate')\n",
    "plt.ylabel('Monthly Average Sale Price')"
   ]
  },
  {
   "cell_type": "code",
   "execution_count": 157,
   "metadata": {},
   "outputs": [
    {
     "data": {
      "text/plain": [
       "Text(0, 0.5, 'Annual Average Sale Price')"
      ]
     },
     "execution_count": 157,
     "metadata": {},
     "output_type": "execute_result"
    },
    {
     "data": {
      "image/png": "[encoded data removed]",
      "text/plain": [
       "<Figure size 432x432 with 1 Axes>"
      ]
     },
     "metadata": {
      "needs_background": "light"
     },
     "output_type": "display_data"
    }
   ],
   "source": [
    "FRM2 = FRM.groupby('Year').agg({'SalePrice':'mean', 'FRM':'mean'})\n",
    "\n",
    "fig, ax = plt.subplots(figsize = (6,6))\n",
    "scatter = plt.scatter(FRM2['FRM'], FRM2['SalePrice'], c=list(FRM2.index))\n",
    "legend1 = ax.legend(*scatter.legend_elements(),\n",
    "                    loc=\"lower right\", title=\"Year\")\n",
    "ax.add_artist(legend1)\n",
    "plt.title('Annual Sale Price Based on Mortgage Rates')\n",
    "plt.xlabel('30 Year Fixed Interest Mortgage Rate')\n",
    "plt.ylabel('Annual Average Sale Price')"
   ]
  },
  {
   "cell_type": "markdown",
   "metadata": {},
   "source": [
    "## Binary Feature Analysis on Sale Price "
   ]
  },
  {
   "cell_type": "code",
   "execution_count": 158,
   "metadata": {},
   "outputs": [],
   "source": [
    "housing['BeenRemod'] = np.where(housing.YearBuilt != housing.YearRemodAdd, 1, 0)\n",
    "housing['HasFinBsmt'] = np.where(housing.BsmtFinSF1 > 0, 1, 0)\n",
    "housing['HasFinGarage'] = np.where(housing.GarageFinish == \"Fin\", 1, 0)\n",
    "housing['HasPool'] = np.where(housing.PoolArea > 0, 1, 0)\n",
    "housing['HasFireplace'] = np.where(housing.Fireplaces > 0, 1, 0)\n",
    "housing['PorchTotSF'] = housing.OpenPorchSF + housing.EnclosedPorch + housing['3SsnPorch'] + housing.ScreenPorch\n",
    "housing['HasPorch'] = np.where(housing.PorchTotSF > 0, 1, 0)\n",
    "housing['HasDeck'] = np.where(housing.WoodDeckSF > 0, 1, 0)"
   ]
  },
  {
   "cell_type": "code",
   "execution_count": 159,
   "metadata": {},
   "outputs": [],
   "source": [
    "cols = ['BeenRemod', 'HasFinBsmt', 'HasFinGarage', 'HasPool', 'HasFireplace', 'HasPorch', 'HasDeck']"
   ]
  },
  {
   "cell_type": "code",
   "execution_count": 160,
   "metadata": {},
   "outputs": [
    {
     "name": "stdout",
     "output_type": "stream",
     "text": [
      "Does BeenRemod have a significant effect?\n",
      "\n",
      "            SalePrice           \n",
      "                 mean        std\n",
      "BeenRemod                       \n",
      "0          181.818730  70.327479\n",
      "1          173.679018  79.985448\n",
      "\n",
      "Using a paired t-test, the t-score is 2.749892, and the p value is 0.006003 \n",
      "\n",
      "On average, houses with BeenRemod are worth -8 thousand more dollars.\n",
      "\n",
      "Does HasFinBsmt have a significant effect?\n",
      "\n",
      "             SalePrice           \n",
      "                  mean        std\n",
      "HasFinBsmt                       \n",
      "0           157.874156  63.300593\n",
      "1           186.722482  77.988088\n",
      "\n",
      "Using a paired t-test, the t-score is -9.091026, and the p value is 0.000000 \n",
      "\n",
      "On average, houses with HasFinBsmt are worth 29 thousand more dollars.\n",
      "\n",
      "Does HasFinGarage have a significant effect?\n",
      "\n",
      "               SalePrice           \n",
      "                    mean        std\n",
      "HasFinGarage                       \n",
      "0             160.967441  60.446614\n",
      "1             231.925248  89.751689\n",
      "\n",
      "Using a paired t-test, the t-score is -22.443402, and the p value is 0.000000 \n",
      "\n",
      "On average, houses with HasFinGarage are worth 71 thousand more dollars.\n",
      "\n",
      "Does HasPool have a significant effect?\n",
      "\n",
      "          SalePrice            \n",
      "               mean         std\n",
      "HasPool                        \n",
      "0        177.780672   74.585531\n",
      "1        255.944444  146.843974\n",
      "\n",
      "Using a paired t-test, the t-score is -3.124516, and the p value is 0.001801 \n",
      "\n",
      "On average, houses with HasPool are worth 78 thousand more dollars.\n",
      "\n",
      "Does HasFireplace have a significant effect?\n",
      "\n",
      "               SalePrice           \n",
      "                    mean        std\n",
      "HasFireplace                       \n",
      "0             140.650717  41.618137\n",
      "1             212.744610  82.157327\n",
      "\n",
      "Using a paired t-test, the t-score is -27.782606, and the p value is 0.000000 \n",
      "\n",
      "On average, houses with HasFireplace are worth 72 thousand more dollars.\n",
      "\n",
      "Does HasPorch have a significant effect?\n",
      "\n",
      "           SalePrice           \n",
      "                mean        std\n",
      "HasPorch                       \n",
      "0         145.107386  50.730329\n",
      "1         192.548972  79.318322\n",
      "\n",
      "Using a paired t-test, the t-score is -15.455684, and the p value is 0.000000 \n",
      "\n",
      "On average, houses with HasPorch are worth 47 thousand more dollars.\n",
      "\n",
      "Does HasDeck have a significant effect?\n",
      "\n",
      "          SalePrice           \n",
      "               mean        std\n",
      "HasDeck                       \n",
      "0        155.655185  59.921376\n",
      "1        202.052860  81.908945\n",
      "\n",
      "Using a paired t-test, the t-score is -16.493757, and the p value is 0.000000 \n",
      "\n",
      "On average, houses with HasDeck are worth 46 thousand more dollars.\n",
      "\n"
     ]
    }
   ],
   "source": [
    "from scipy import stats\n",
    "for col_ in cols:\n",
    "    print('Does ' + col_ + ' have a significant effect?\\n')\n",
    "    print(housing.groupby(col_).agg({'SalePrice':['mean','std']})/1000)\n",
    "    a = housing[housing[col_]==0].SalePrice\n",
    "    b = housing[housing[col_]==1].SalePrice\n",
    "    t, p = stats.ttest_ind(a, b)\n",
    "    print('\\nUsing a paired t-test, the t-score is %f, and the p value is %f \\n' % (t,p))\n",
    "    diff_ = (np.mean(b) - np.mean(a))/1000\n",
    "    print('On average, houses with ' + col_ + ' are worth %.0f thousand more dollars.\\n' % diff_)\n",
    "    "
   ]
  },
  {
   "cell_type": "markdown",
   "metadata": {},
   "source": [
    "**Conclusion:** All of these features are significantly related to the sale price. Are they correlated?"
   ]
  },
  {
   "cell_type": "code",
   "execution_count": 161,
   "metadata": {},
   "outputs": [
    {
     "data": {
      "text/html": [
       "<div>\n",
       "<style scoped>\n",
       "    .dataframe tbody tr th:only-of-type {\n",
       "        vertical-align: middle;\n",
       "    }\n",
       "\n",
       "    .dataframe tbody tr th {\n",
       "        vertical-align: top;\n",
       "    }\n",
       "\n",
       "    .dataframe thead th {\n",
       "        text-align: right;\n",
       "    }\n",
       "</style>\n",
       "<table border=\"1\" class=\"dataframe\">\n",
       "  <thead>\n",
       "    <tr style=\"text-align: right;\">\n",
       "      <th></th>\n",
       "      <th>BeenRemod</th>\n",
       "      <th>HasFinBsmt</th>\n",
       "      <th>HasFinGarage</th>\n",
       "      <th>HasPool</th>\n",
       "      <th>HasFireplace</th>\n",
       "      <th>HasPorch</th>\n",
       "      <th>HasDeck</th>\n",
       "      <th>SalePrice</th>\n",
       "    </tr>\n",
       "  </thead>\n",
       "  <tbody>\n",
       "    <tr>\n",
       "      <th>BeenRemod</th>\n",
       "      <td>1.000000</td>\n",
       "      <td>-0.134847</td>\n",
       "      <td>-0.056864</td>\n",
       "      <td>-0.041715</td>\n",
       "      <td>0.020335</td>\n",
       "      <td>0.108918</td>\n",
       "      <td>-0.043444</td>\n",
       "      <td>-0.054091</td>\n",
       "    </tr>\n",
       "    <tr>\n",
       "      <th>HasFinBsmt</th>\n",
       "      <td>-0.134847</td>\n",
       "      <td>1.000000</td>\n",
       "      <td>0.072421</td>\n",
       "      <td>-0.004237</td>\n",
       "      <td>0.094915</td>\n",
       "      <td>-0.058379</td>\n",
       "      <td>0.093301</td>\n",
       "      <td>0.176279</td>\n",
       "    </tr>\n",
       "    <tr>\n",
       "      <th>HasFinGarage</th>\n",
       "      <td>-0.056864</td>\n",
       "      <td>0.072421</td>\n",
       "      <td>1.000000</td>\n",
       "      <td>0.028187</td>\n",
       "      <td>0.286452</td>\n",
       "      <td>0.133369</td>\n",
       "      <td>0.229059</td>\n",
       "      <td>0.404356</td>\n",
       "    </tr>\n",
       "    <tr>\n",
       "      <th>HasPool</th>\n",
       "      <td>-0.041715</td>\n",
       "      <td>-0.004237</td>\n",
       "      <td>0.028187</td>\n",
       "      <td>1.000000</td>\n",
       "      <td>0.043832</td>\n",
       "      <td>-0.003570</td>\n",
       "      <td>0.034939</td>\n",
       "      <td>0.061433</td>\n",
       "    </tr>\n",
       "    <tr>\n",
       "      <th>HasFireplace</th>\n",
       "      <td>0.020335</td>\n",
       "      <td>0.094915</td>\n",
       "      <td>0.286452</td>\n",
       "      <td>0.043832</td>\n",
       "      <td>1.000000</td>\n",
       "      <td>0.227131</td>\n",
       "      <td>0.219110</td>\n",
       "      <td>0.480091</td>\n",
       "    </tr>\n",
       "    <tr>\n",
       "      <th>HasPorch</th>\n",
       "      <td>0.108918</td>\n",
       "      <td>-0.058379</td>\n",
       "      <td>0.133369</td>\n",
       "      <td>-0.003570</td>\n",
       "      <td>0.227131</td>\n",
       "      <td>1.000000</td>\n",
       "      <td>0.041108</td>\n",
       "      <td>0.291260</td>\n",
       "    </tr>\n",
       "    <tr>\n",
       "      <th>HasDeck</th>\n",
       "      <td>-0.043444</td>\n",
       "      <td>0.093301</td>\n",
       "      <td>0.229059</td>\n",
       "      <td>0.034939</td>\n",
       "      <td>0.219110</td>\n",
       "      <td>0.041108</td>\n",
       "      <td>1.000000</td>\n",
       "      <td>0.309008</td>\n",
       "    </tr>\n",
       "    <tr>\n",
       "      <th>SalePrice</th>\n",
       "      <td>-0.054091</td>\n",
       "      <td>0.176279</td>\n",
       "      <td>0.404356</td>\n",
       "      <td>0.061433</td>\n",
       "      <td>0.480091</td>\n",
       "      <td>0.291260</td>\n",
       "      <td>0.309008</td>\n",
       "      <td>1.000000</td>\n",
       "    </tr>\n",
       "  </tbody>\n",
       "</table>\n",
       "</div>"
      ],
      "text/plain": [
       "              BeenRemod  HasFinBsmt  HasFinGarage   HasPool  HasFireplace  \\\n",
       "BeenRemod      1.000000   -0.134847     -0.056864 -0.041715      0.020335   \n",
       "HasFinBsmt    -0.134847    1.000000      0.072421 -0.004237      0.094915   \n",
       "HasFinGarage  -0.056864    0.072421      1.000000  0.028187      0.286452   \n",
       "HasPool       -0.041715   -0.004237      0.028187  1.000000      0.043832   \n",
       "HasFireplace   0.020335    0.094915      0.286452  0.043832      1.000000   \n",
       "HasPorch       0.108918   -0.058379      0.133369 -0.003570      0.227131   \n",
       "HasDeck       -0.043444    0.093301      0.229059  0.034939      0.219110   \n",
       "SalePrice     -0.054091    0.176279      0.404356  0.061433      0.480091   \n",
       "\n",
       "              HasPorch   HasDeck  SalePrice  \n",
       "BeenRemod     0.108918 -0.043444  -0.054091  \n",
       "HasFinBsmt   -0.058379  0.093301   0.176279  \n",
       "HasFinGarage  0.133369  0.229059   0.404356  \n",
       "HasPool      -0.003570  0.034939   0.061433  \n",
       "HasFireplace  0.227131  0.219110   0.480091  \n",
       "HasPorch      1.000000  0.041108   0.291260  \n",
       "HasDeck       0.041108  1.000000   0.309008  \n",
       "SalePrice     0.291260  0.309008   1.000000  "
      ]
     },
     "execution_count": 161,
     "metadata": {},
     "output_type": "execute_result"
    }
   ],
   "source": [
    "corr = pd.concat([housing[cols], housing['SalePrice']], axis=1).corr()\n",
    "corr"
   ]
  },
  {
   "cell_type": "markdown",
   "metadata": {},
   "source": [
    "**Conclusion:** Sales Price has a moderate correlation w HasFireplace and HasFinGarage, weak corr and w HasPorch and HasDeck"
   ]
  },
  {
   "cell_type": "markdown",
   "metadata": {},
   "source": [
    "## Analysis of Quality "
   ]
  },
  {
   "cell_type": "code",
   "execution_count": 162,
   "metadata": {},
   "outputs": [],
   "source": [
    "quality = housing.copy()"
   ]
  },
  {
   "cell_type": "code",
   "execution_count": 163,
   "metadata": {},
   "outputs": [
    {
     "data": {
      "text/plain": [
       "SalePrice        1.000000\n",
       "OverallQual      0.790661\n",
       "GrLivArea        0.719980\n",
       "TotalBsmtSF      0.652540\n",
       "1stFlrSF         0.642623\n",
       "GarageCars       0.638640\n",
       "GarageArea       0.634706\n",
       "YearBuilt        0.544569\n",
       "FullBath         0.535175\n",
       "YearRemodAdd     0.514720\n",
       "MasVnrArea       0.498513\n",
       "TotRmsAbvGrd     0.490206\n",
       "Fireplaces       0.488173\n",
       "HasFireplace     0.480091\n",
       "BsmtFinSF1       0.461056\n",
       "HasFinGarage     0.404356\n",
       "WoodDeckSF       0.333332\n",
       "HasDeck          0.309008\n",
       "OpenPorchSF      0.306629\n",
       "HasPorch         0.291260\n",
       "BsmtFullBath     0.290867\n",
       "HalfBath         0.285861\n",
       "LotArea          0.274427\n",
       "2ndFlrSF         0.263115\n",
       "GarageYrBlt      0.245690\n",
       "PorchTotSF       0.186712\n",
       "LotFrontage      0.177141\n",
       "HasFinBsmt       0.176279\n",
       "BsmtUnfSF        0.168118\n",
       "BedroomAbvGr     0.151924\n",
       "ScreenPorch      0.121392\n",
       "HasPool          0.061433\n",
       "3SsnPorch        0.031269\n",
       "PoolArea         0.030849\n",
       "BsmtFinSF2       0.022694\n",
       "MoSold           0.012725\n",
       "YrSold          -0.001261\n",
       "MiscVal         -0.018869\n",
       "LowQualFinSF    -0.030827\n",
       "BsmtHalfBath    -0.033766\n",
       "BeenRemod       -0.054091\n",
       "MSSubClass      -0.084574\n",
       "OverallCond     -0.101123\n",
       "KitchenAbvGr    -0.113962\n",
       "EnclosedPorch   -0.123209\n",
       "Name: SalePrice, dtype: float64"
      ]
     },
     "execution_count": 163,
     "metadata": {},
     "output_type": "execute_result"
    }
   ],
   "source": [
    "#checking correlation between all features and target (sale price)\n",
    "#overall quality highest correlated\n",
    "#overall condition in the least 3 correlated\n",
    "\n",
    "correlations = quality[quality.columns[1:]].corr()['SalePrice'][:]\n",
    "correlations.sort_values(ascending=False)"
   ]
  },
  {
   "cell_type": "code",
   "execution_count": 164,
   "metadata": {},
   "outputs": [],
   "source": [
    "sale_log = np.log10(quality['SalePrice'])"
   ]
  },
  {
   "cell_type": "code",
   "execution_count": 165,
   "metadata": {},
   "outputs": [
    {
     "data": {
      "text/plain": [
       "<matplotlib.axes._subplots.AxesSubplot at 0x1a2aeb9e90>"
      ]
     },
     "execution_count": 165,
     "metadata": {},
     "output_type": "execute_result"
    },
    {
     "data": {
      "image/png": "[encoded data removed]",
      "text/plain": [
       "<Figure size 432x288 with 1 Axes>"
      ]
     },
     "metadata": {
      "needs_background": "light"
     },
     "output_type": "display_data"
    }
   ],
   "source": [
    "sns.boxplot(x='OverallQual', y=sale_log, data=housing)"
   ]
  },
  {
   "cell_type": "code",
   "execution_count": 166,
   "metadata": {},
   "outputs": [],
   "source": [
    "# Creating a quality only dataframe\n",
    "only_quality = quality.filter(regex='Qual$|Qu$|QC$|Fence$|Type1$|Type2$')\n",
    "only_quality.isnull().sum(axis=0)\n",
    "only_quality = only_quality.replace(np.nan, 0)\n",
    "only_quality = only_quality.replace({\"Po\":1, \"Fa\":2, \"TA\":3, \"Gd\":4,\\\n",
    "                                     \"Ex\":5})\n",
    "only_quality = only_quality.replace({\"Unf\":1, \"LwQ\":2,\\\n",
    "                                     \"Rec\":3, \"BLQ\":4, \"ALQ\":5, \"GLQ\":6})\n",
    "only_quality = only_quality.drop('Fence', 1)"
   ]
  },
  {
   "cell_type": "code",
   "execution_count": 167,
   "metadata": {},
   "outputs": [],
   "source": [
    "from sklearn.linear_model import LinearRegression\n",
    "continuous_features = ['ExterQual', 'BsmtQual', 'BsmtFinType1',\\\n",
    "                       'BsmtFinType2', 'HeatingQC', 'KitchenQual',\\\n",
    "                       'FireplaceQu', 'GarageQual', 'PoolQC']\n",
    "scores = {}\n",
    "ols4 = LinearRegression()\n",
    "from sklearn.metrics import r2_score\n",
    "for feature_name in continuous_features:\n",
    "                df2     = only_quality.copy()\n",
    "                feature = df2[feature_name].copy()\n",
    "                df2.drop(feature_name, axis=1, inplace=True)\n",
    "                ols4.fit(df2, feature)\n",
    "                scores[feature_name] = ols4.score(df2, feature)    "
   ]
  },
  {
   "cell_type": "code",
   "execution_count": 168,
   "metadata": {},
   "outputs": [
    {
     "data": {
      "text/plain": [
       "Text(0.5, 1.0, '$R^2$ of a continuous feature against the other features')"
      ]
     },
     "execution_count": 168,
     "metadata": {},
     "output_type": "execute_result"
    },
    {
     "data": {
      "image/png": "[encoded data removed]",
      "text/plain": [
       "<Figure size 432x288 with 1 Axes>"
      ]
     },
     "metadata": {
      "needs_background": "light"
     },
     "output_type": "display_data"
    }
   ],
   "source": [
    "sns.barplot(x='R2', y='index', data=pd.DataFrame(scores, index=['R2'])\\\n",
    "            .T.reset_index())\n",
    "plt.title('$R^2$ of a continuous feature against the other features')"
   ]
  },
  {
   "cell_type": "code",
   "execution_count": 169,
   "metadata": {},
   "outputs": [
    {
     "data": {
      "text/html": [
       "<div>\n",
       "<style scoped>\n",
       "    .dataframe tbody tr th:only-of-type {\n",
       "        vertical-align: middle;\n",
       "    }\n",
       "\n",
       "    .dataframe tbody tr th {\n",
       "        vertical-align: top;\n",
       "    }\n",
       "\n",
       "    .dataframe thead th {\n",
       "        text-align: right;\n",
       "    }\n",
       "</style>\n",
       "<table border=\"1\" class=\"dataframe\">\n",
       "  <thead>\n",
       "    <tr style=\"text-align: right;\">\n",
       "      <th></th>\n",
       "      <th>OverallQual</th>\n",
       "      <th>ExterQual</th>\n",
       "      <th>BsmtQual</th>\n",
       "      <th>BsmtFinType1</th>\n",
       "      <th>BsmtFinType2</th>\n",
       "      <th>HeatingQC</th>\n",
       "      <th>KitchenQual</th>\n",
       "      <th>FireplaceQu</th>\n",
       "      <th>GarageQual</th>\n",
       "      <th>PoolQC</th>\n",
       "    </tr>\n",
       "  </thead>\n",
       "  <tbody>\n",
       "    <tr>\n",
       "      <th>OverallQual</th>\n",
       "      <td>1.000000</td>\n",
       "      <td>0.714085</td>\n",
       "      <td>0.622998</td>\n",
       "      <td>0.293914</td>\n",
       "      <td>-0.001121</td>\n",
       "      <td>0.441285</td>\n",
       "      <td>0.653743</td>\n",
       "      <td>0.466695</td>\n",
       "      <td>0.290455</td>\n",
       "      <td>0.026078</td>\n",
       "    </tr>\n",
       "    <tr>\n",
       "      <th>ExterQual</th>\n",
       "      <td>0.714085</td>\n",
       "      <td>1.000000</td>\n",
       "      <td>0.544884</td>\n",
       "      <td>0.258688</td>\n",
       "      <td>-0.013605</td>\n",
       "      <td>0.500316</td>\n",
       "      <td>0.697743</td>\n",
       "      <td>0.334523</td>\n",
       "      <td>0.207424</td>\n",
       "      <td>0.024423</td>\n",
       "    </tr>\n",
       "    <tr>\n",
       "      <th>BsmtQual</th>\n",
       "      <td>0.622998</td>\n",
       "      <td>0.544884</td>\n",
       "      <td>1.000000</td>\n",
       "      <td>0.440736</td>\n",
       "      <td>0.115553</td>\n",
       "      <td>0.393713</td>\n",
       "      <td>0.490431</td>\n",
       "      <td>0.289751</td>\n",
       "      <td>0.200149</td>\n",
       "      <td>-0.004088</td>\n",
       "    </tr>\n",
       "    <tr>\n",
       "      <th>BsmtFinType1</th>\n",
       "      <td>0.293914</td>\n",
       "      <td>0.258688</td>\n",
       "      <td>0.440736</td>\n",
       "      <td>1.000000</td>\n",
       "      <td>0.093068</td>\n",
       "      <td>0.167707</td>\n",
       "      <td>0.265547</td>\n",
       "      <td>0.124405</td>\n",
       "      <td>0.178585</td>\n",
       "      <td>-0.003114</td>\n",
       "    </tr>\n",
       "    <tr>\n",
       "      <th>BsmtFinType2</th>\n",
       "      <td>-0.001121</td>\n",
       "      <td>-0.013605</td>\n",
       "      <td>0.115553</td>\n",
       "      <td>0.093068</td>\n",
       "      <td>1.000000</td>\n",
       "      <td>-0.023023</td>\n",
       "      <td>-0.009335</td>\n",
       "      <td>-0.013758</td>\n",
       "      <td>0.071155</td>\n",
       "      <td>0.017877</td>\n",
       "    </tr>\n",
       "    <tr>\n",
       "      <th>HeatingQC</th>\n",
       "      <td>0.441285</td>\n",
       "      <td>0.500316</td>\n",
       "      <td>0.393713</td>\n",
       "      <td>0.167707</td>\n",
       "      <td>-0.023023</td>\n",
       "      <td>1.000000</td>\n",
       "      <td>0.481260</td>\n",
       "      <td>0.196599</td>\n",
       "      <td>0.128300</td>\n",
       "      <td>-0.006233</td>\n",
       "    </tr>\n",
       "    <tr>\n",
       "      <th>KitchenQual</th>\n",
       "      <td>0.653743</td>\n",
       "      <td>0.697743</td>\n",
       "      <td>0.490431</td>\n",
       "      <td>0.265547</td>\n",
       "      <td>-0.009335</td>\n",
       "      <td>0.481260</td>\n",
       "      <td>1.000000</td>\n",
       "      <td>0.315236</td>\n",
       "      <td>0.201239</td>\n",
       "      <td>0.031693</td>\n",
       "    </tr>\n",
       "    <tr>\n",
       "      <th>FireplaceQu</th>\n",
       "      <td>0.466695</td>\n",
       "      <td>0.334523</td>\n",
       "      <td>0.289751</td>\n",
       "      <td>0.124405</td>\n",
       "      <td>-0.013758</td>\n",
       "      <td>0.196599</td>\n",
       "      <td>0.315236</td>\n",
       "      <td>1.000000</td>\n",
       "      <td>0.207576</td>\n",
       "      <td>0.020789</td>\n",
       "    </tr>\n",
       "    <tr>\n",
       "      <th>GarageQual</th>\n",
       "      <td>0.290455</td>\n",
       "      <td>0.207424</td>\n",
       "      <td>0.200149</td>\n",
       "      <td>0.178585</td>\n",
       "      <td>0.071155</td>\n",
       "      <td>0.128300</td>\n",
       "      <td>0.201239</td>\n",
       "      <td>0.207576</td>\n",
       "      <td>1.000000</td>\n",
       "      <td>0.028308</td>\n",
       "    </tr>\n",
       "    <tr>\n",
       "      <th>PoolQC</th>\n",
       "      <td>0.026078</td>\n",
       "      <td>0.024423</td>\n",
       "      <td>-0.004088</td>\n",
       "      <td>-0.003114</td>\n",
       "      <td>0.017877</td>\n",
       "      <td>-0.006233</td>\n",
       "      <td>0.031693</td>\n",
       "      <td>0.020789</td>\n",
       "      <td>0.028308</td>\n",
       "      <td>1.000000</td>\n",
       "    </tr>\n",
       "  </tbody>\n",
       "</table>\n",
       "</div>"
      ],
      "text/plain": [
       "              OverallQual  ExterQual  BsmtQual  BsmtFinType1  BsmtFinType2  \\\n",
       "OverallQual      1.000000   0.714085  0.622998      0.293914     -0.001121   \n",
       "ExterQual        0.714085   1.000000  0.544884      0.258688     -0.013605   \n",
       "BsmtQual         0.622998   0.544884  1.000000      0.440736      0.115553   \n",
       "BsmtFinType1     0.293914   0.258688  0.440736      1.000000      0.093068   \n",
       "BsmtFinType2    -0.001121  -0.013605  0.115553      0.093068      1.000000   \n",
       "HeatingQC        0.441285   0.500316  0.393713      0.167707     -0.023023   \n",
       "KitchenQual      0.653743   0.697743  0.490431      0.265547     -0.009335   \n",
       "FireplaceQu      0.466695   0.334523  0.289751      0.124405     -0.013758   \n",
       "GarageQual       0.290455   0.207424  0.200149      0.178585      0.071155   \n",
       "PoolQC           0.026078   0.024423 -0.004088     -0.003114      0.017877   \n",
       "\n",
       "              HeatingQC  KitchenQual  FireplaceQu  GarageQual    PoolQC  \n",
       "OverallQual    0.441285     0.653743     0.466695    0.290455  0.026078  \n",
       "ExterQual      0.500316     0.697743     0.334523    0.207424  0.024423  \n",
       "BsmtQual       0.393713     0.490431     0.289751    0.200149 -0.004088  \n",
       "BsmtFinType1   0.167707     0.265547     0.124405    0.178585 -0.003114  \n",
       "BsmtFinType2  -0.023023    -0.009335    -0.013758    0.071155  0.017877  \n",
       "HeatingQC      1.000000     0.481260     0.196599    0.128300 -0.006233  \n",
       "KitchenQual    0.481260     1.000000     0.315236    0.201239  0.031693  \n",
       "FireplaceQu    0.196599     0.315236     1.000000    0.207576  0.020789  \n",
       "GarageQual     0.128300     0.201239     0.207576    1.000000  0.028308  \n",
       "PoolQC        -0.006233     0.031693     0.020789    0.028308  1.000000  "
      ]
     },
     "execution_count": 169,
     "metadata": {},
     "output_type": "execute_result"
    }
   ],
   "source": [
    "only_quality[['OverallQual']+['ExterQual', 'BsmtQual', 'BsmtFinType1',\\\n",
    "                              'BsmtFinType2','HeatingQC','KitchenQual',\\\n",
    "                              'FireplaceQu','GarageQual','PoolQC']].corr()"
   ]
  },
  {
   "cell_type": "code",
   "execution_count": 170,
   "metadata": {},
   "outputs": [
    {
     "data": {
      "text/plain": [
       "<matplotlib.axes._subplots.AxesSubplot at 0x1a2c8d7650>"
      ]
     },
     "execution_count": 170,
     "metadata": {},
     "output_type": "execute_result"
    },
    {
     "data": {
      "image/png": "[encoded data removed]",
      "text/plain": [
       "<Figure size 432x288 with 1 Axes>"
      ]
     },
     "metadata": {
      "needs_background": "light"
     },
     "output_type": "display_data"
    }
   ],
   "source": [
    "features = ['ExterQual','BsmtQual','BsmtFinType1','BsmtFinType2',\\\n",
    "            'HeatingQC','KitchenQual','FireplaceQu','GarageQual','PoolQC']\n",
    "corr = only_quality[['OverallQual'] + features].corr()\n",
    "\n",
    "corr = corr.sort_values('OverallQual', ascending=False)\n",
    "sns.barplot( corr.OverallQual[1:], corr.index[1:], orient='h')"
   ]
  },
  {
   "cell_type": "markdown",
   "metadata": {},
   "source": [
    "### How Does Price/SqrFt Play a Role in Housing Data Analytics?"
   ]
  },
  {
   "cell_type": "code",
   "execution_count": null,
   "metadata": {},
   "outputs": [],
   "source": []
  },
  {
   "cell_type": "code",
   "execution_count": 171,
   "metadata": {},
   "outputs": [],
   "source": [
    "from sklearn.feature_selection import f_regression\n",
    "from sklearn.linear_model import LinearRegression"
   ]
  },
  {
   "cell_type": "code",
   "execution_count": 172,
   "metadata": {
    "scrolled": true
   },
   "outputs": [
    {
     "data": {
      "text/html": [
       "<div>\n",
       "<style scoped>\n",
       "    .dataframe tbody tr th:only-of-type {\n",
       "        vertical-align: middle;\n",
       "    }\n",
       "\n",
       "    .dataframe tbody tr th {\n",
       "        vertical-align: top;\n",
       "    }\n",
       "\n",
       "    .dataframe thead th {\n",
       "        text-align: right;\n",
       "    }\n",
       "</style>\n",
       "<table border=\"1\" class=\"dataframe\">\n",
       "  <thead>\n",
       "    <tr style=\"text-align: right;\">\n",
       "      <th></th>\n",
       "      <th>GrLivArea</th>\n",
       "      <th>LotArea</th>\n",
       "      <th>MasVnrArea</th>\n",
       "      <th>BsmtUnfSF</th>\n",
       "      <th>TotalBsmtSF</th>\n",
       "      <th>1stFlrSF</th>\n",
       "      <th>2ndFlrSF</th>\n",
       "      <th>LowQualFinSF</th>\n",
       "      <th>GarageArea</th>\n",
       "      <th>WoodDeckSF</th>\n",
       "      <th>OpenPorchSF</th>\n",
       "      <th>PoolArea</th>\n",
       "      <th>PorchTotSF</th>\n",
       "    </tr>\n",
       "  </thead>\n",
       "  <tbody>\n",
       "    <tr>\n",
       "      <th>1</th>\n",
       "      <td>856</td>\n",
       "      <td>7890</td>\n",
       "      <td>0.0</td>\n",
       "      <td>618.0</td>\n",
       "      <td>856.0</td>\n",
       "      <td>856</td>\n",
       "      <td>0</td>\n",
       "      <td>0</td>\n",
       "      <td>399.0</td>\n",
       "      <td>0</td>\n",
       "      <td>0</td>\n",
       "      <td>0</td>\n",
       "      <td>166</td>\n",
       "    </tr>\n",
       "    <tr>\n",
       "      <th>2</th>\n",
       "      <td>1049</td>\n",
       "      <td>4235</td>\n",
       "      <td>149.0</td>\n",
       "      <td>104.0</td>\n",
       "      <td>1049.0</td>\n",
       "      <td>1049</td>\n",
       "      <td>0</td>\n",
       "      <td>0</td>\n",
       "      <td>266.0</td>\n",
       "      <td>0</td>\n",
       "      <td>105</td>\n",
       "      <td>0</td>\n",
       "      <td>105</td>\n",
       "    </tr>\n",
       "    <tr>\n",
       "      <th>3</th>\n",
       "      <td>1001</td>\n",
       "      <td>6060</td>\n",
       "      <td>0.0</td>\n",
       "      <td>100.0</td>\n",
       "      <td>837.0</td>\n",
       "      <td>1001</td>\n",
       "      <td>0</td>\n",
       "      <td>0</td>\n",
       "      <td>216.0</td>\n",
       "      <td>154</td>\n",
       "      <td>0</td>\n",
       "      <td>0</td>\n",
       "      <td>128</td>\n",
       "    </tr>\n",
       "    <tr>\n",
       "      <th>4</th>\n",
       "      <td>1039</td>\n",
       "      <td>8146</td>\n",
       "      <td>0.0</td>\n",
       "      <td>405.0</td>\n",
       "      <td>405.0</td>\n",
       "      <td>717</td>\n",
       "      <td>322</td>\n",
       "      <td>0</td>\n",
       "      <td>281.0</td>\n",
       "      <td>0</td>\n",
       "      <td>0</td>\n",
       "      <td>0</td>\n",
       "      <td>279</td>\n",
       "    </tr>\n",
       "    <tr>\n",
       "      <th>5</th>\n",
       "      <td>1665</td>\n",
       "      <td>8400</td>\n",
       "      <td>0.0</td>\n",
       "      <td>167.0</td>\n",
       "      <td>810.0</td>\n",
       "      <td>810</td>\n",
       "      <td>855</td>\n",
       "      <td>0</td>\n",
       "      <td>528.0</td>\n",
       "      <td>0</td>\n",
       "      <td>45</td>\n",
       "      <td>0</td>\n",
       "      <td>45</td>\n",
       "    </tr>\n",
       "  </tbody>\n",
       "</table>\n",
       "</div>"
      ],
      "text/plain": [
       "   GrLivArea  LotArea  MasVnrArea  BsmtUnfSF  TotalBsmtSF  1stFlrSF  2ndFlrSF  \\\n",
       "1        856     7890         0.0      618.0        856.0       856         0   \n",
       "2       1049     4235       149.0      104.0       1049.0      1049         0   \n",
       "3       1001     6060         0.0      100.0        837.0      1001         0   \n",
       "4       1039     8146         0.0      405.0        405.0       717       322   \n",
       "5       1665     8400         0.0      167.0        810.0       810       855   \n",
       "\n",
       "   LowQualFinSF  GarageArea  WoodDeckSF  OpenPorchSF  PoolArea  PorchTotSF  \n",
       "1             0       399.0           0            0         0         166  \n",
       "2             0       266.0           0          105         0         105  \n",
       "3             0       216.0         154            0         0         128  \n",
       "4             0       281.0           0            0         0         279  \n",
       "5             0       528.0           0           45         0          45  "
      ]
     },
     "execution_count": 172,
     "metadata": {},
     "output_type": "execute_result"
    }
   ],
   "source": [
    "price        = housing['SalePrice']\n",
    "size_related = housing.filter(regex='SF$|Area$')\n",
    "size_related.head()"
   ]
  },
  {
   "cell_type": "code",
   "execution_count": 173,
   "metadata": {},
   "outputs": [
    {
     "data": {
      "text/plain": [
       "GrLivArea       0\n",
       "LotArea         0\n",
       "MasVnrArea      0\n",
       "BsmtUnfSF       0\n",
       "TotalBsmtSF     0\n",
       "1stFlrSF        0\n",
       "2ndFlrSF        0\n",
       "LowQualFinSF    0\n",
       "GarageArea      0\n",
       "WoodDeckSF      0\n",
       "OpenPorchSF     0\n",
       "PoolArea        0\n",
       "PorchTotSF      0\n",
       "dtype: int64"
      ]
     },
     "execution_count": 173,
     "metadata": {},
     "output_type": "execute_result"
    }
   ],
   "source": [
    "size_related.isnull().sum(axis=0)"
   ]
  },
  {
   "cell_type": "markdown",
   "metadata": {},
   "source": [
    "### Performing Unary Feature Selection"
   ]
  },
  {
   "cell_type": "code",
   "execution_count": 174,
   "metadata": {},
   "outputs": [
    {
     "data": {
      "text/plain": [
       "GrLivArea        0.000000e+00\n",
       "TotalBsmtSF     8.439132e-313\n",
       "1stFlrSF        2.049975e-300\n",
       "GarageArea      7.507245e-291\n",
       "MasVnrArea      4.179944e-162\n",
       "WoodDeckSF       5.792391e-68\n",
       "OpenPorchSF      2.847805e-57\n",
       "LotArea          8.746597e-46\n",
       "2ndFlrSF         4.242748e-42\n",
       "PorchTotSF       1.159921e-21\n",
       "BsmtUnfSF        8.342658e-18\n",
       "PoolArea         1.172888e-01\n",
       "LowQualFinSF     1.175484e-01\n",
       "dtype: float64"
      ]
     },
     "execution_count": 174,
     "metadata": {},
     "output_type": "execute_result"
    }
   ],
   "source": [
    "size_related = size_related.fillna(0.0)  # We fill the very minor missing values by 0.0\n",
    "F_values, p_values = f_regression(size_related, housing['SalePrice'])\n",
    "\n",
    "pd.Series(p_values, index=size_related.columns).sort_values()"
   ]
  },
  {
   "cell_type": "code",
   "execution_count": 175,
   "metadata": {},
   "outputs": [
    {
     "data": {
      "text/html": [
       "<div>\n",
       "<style scoped>\n",
       "    .dataframe tbody tr th:only-of-type {\n",
       "        vertical-align: middle;\n",
       "    }\n",
       "\n",
       "    .dataframe tbody tr th {\n",
       "        vertical-align: top;\n",
       "    }\n",
       "\n",
       "    .dataframe thead th {\n",
       "        text-align: right;\n",
       "    }\n",
       "</style>\n",
       "<table border=\"1\" class=\"dataframe\">\n",
       "  <thead>\n",
       "    <tr style=\"text-align: right;\">\n",
       "      <th></th>\n",
       "      <th>GrLivArea</th>\n",
       "      <th>LotArea</th>\n",
       "      <th>MasVnrArea</th>\n",
       "      <th>BsmtUnfSF</th>\n",
       "      <th>TotalBsmtSF</th>\n",
       "      <th>1stFlrSF</th>\n",
       "      <th>2ndFlrSF</th>\n",
       "      <th>LowQualFinSF</th>\n",
       "      <th>GarageArea</th>\n",
       "      <th>WoodDeckSF</th>\n",
       "      <th>OpenPorchSF</th>\n",
       "      <th>PoolArea</th>\n",
       "      <th>PorchTotSF</th>\n",
       "      <th>SalePrice</th>\n",
       "    </tr>\n",
       "  </thead>\n",
       "  <tbody>\n",
       "    <tr>\n",
       "      <th>GrLivArea</th>\n",
       "      <td>1.000000</td>\n",
       "      <td>0.260286</td>\n",
       "      <td>0.386041</td>\n",
       "      <td>0.246122</td>\n",
       "      <td>0.410456</td>\n",
       "      <td>0.539168</td>\n",
       "      <td>0.664967</td>\n",
       "      <td>0.088953</td>\n",
       "      <td>0.476107</td>\n",
       "      <td>0.247890</td>\n",
       "      <td>0.321950</td>\n",
       "      <td>0.057947</td>\n",
       "      <td>0.251975</td>\n",
       "      <td>0.719980</td>\n",
       "    </tr>\n",
       "    <tr>\n",
       "      <th>LotArea</th>\n",
       "      <td>0.260286</td>\n",
       "      <td>1.000000</td>\n",
       "      <td>0.103584</td>\n",
       "      <td>0.020047</td>\n",
       "      <td>0.222304</td>\n",
       "      <td>0.313097</td>\n",
       "      <td>0.022371</td>\n",
       "      <td>-0.000324</td>\n",
       "      <td>0.199195</td>\n",
       "      <td>0.155787</td>\n",
       "      <td>0.085048</td>\n",
       "      <td>0.052643</td>\n",
       "      <td>0.095504</td>\n",
       "      <td>0.274427</td>\n",
       "    </tr>\n",
       "    <tr>\n",
       "      <th>MasVnrArea</th>\n",
       "      <td>0.386041</td>\n",
       "      <td>0.103584</td>\n",
       "      <td>1.000000</td>\n",
       "      <td>0.080236</td>\n",
       "      <td>0.360684</td>\n",
       "      <td>0.361930</td>\n",
       "      <td>0.129587</td>\n",
       "      <td>-0.053828</td>\n",
       "      <td>0.347420</td>\n",
       "      <td>0.149846</td>\n",
       "      <td>0.118963</td>\n",
       "      <td>-0.003649</td>\n",
       "      <td>0.049467</td>\n",
       "      <td>0.498513</td>\n",
       "    </tr>\n",
       "    <tr>\n",
       "      <th>BsmtUnfSF</th>\n",
       "      <td>0.246122</td>\n",
       "      <td>0.020047</td>\n",
       "      <td>0.080236</td>\n",
       "      <td>1.000000</td>\n",
       "      <td>0.422121</td>\n",
       "      <td>0.303100</td>\n",
       "      <td>0.009823</td>\n",
       "      <td>0.048283</td>\n",
       "      <td>0.150629</td>\n",
       "      <td>-0.040559</td>\n",
       "      <td>0.116343</td>\n",
       "      <td>-0.032383</td>\n",
       "      <td>0.058665</td>\n",
       "      <td>0.168118</td>\n",
       "    </tr>\n",
       "    <tr>\n",
       "      <th>TotalBsmtSF</th>\n",
       "      <td>0.410456</td>\n",
       "      <td>0.222304</td>\n",
       "      <td>0.360684</td>\n",
       "      <td>0.422121</td>\n",
       "      <td>1.000000</td>\n",
       "      <td>0.784280</td>\n",
       "      <td>-0.219726</td>\n",
       "      <td>-0.025298</td>\n",
       "      <td>0.465294</td>\n",
       "      <td>0.224125</td>\n",
       "      <td>0.214012</td>\n",
       "      <td>0.009400</td>\n",
       "      <td>0.132039</td>\n",
       "      <td>0.652540</td>\n",
       "    </tr>\n",
       "    <tr>\n",
       "      <th>1stFlrSF</th>\n",
       "      <td>0.539168</td>\n",
       "      <td>0.313097</td>\n",
       "      <td>0.361930</td>\n",
       "      <td>0.303100</td>\n",
       "      <td>0.784280</td>\n",
       "      <td>1.000000</td>\n",
       "      <td>-0.264351</td>\n",
       "      <td>-0.009217</td>\n",
       "      <td>0.480197</td>\n",
       "      <td>0.224621</td>\n",
       "      <td>0.211434</td>\n",
       "      <td>0.076172</td>\n",
       "      <td>0.156212</td>\n",
       "      <td>0.642623</td>\n",
       "    </tr>\n",
       "    <tr>\n",
       "      <th>2ndFlrSF</th>\n",
       "      <td>0.664967</td>\n",
       "      <td>0.022371</td>\n",
       "      <td>0.129587</td>\n",
       "      <td>0.009823</td>\n",
       "      <td>-0.219726</td>\n",
       "      <td>-0.264351</td>\n",
       "      <td>1.000000</td>\n",
       "      <td>0.005958</td>\n",
       "      <td>0.126359</td>\n",
       "      <td>0.087288</td>\n",
       "      <td>0.183883</td>\n",
       "      <td>-0.000213</td>\n",
       "      <td>0.147383</td>\n",
       "      <td>0.263115</td>\n",
       "    </tr>\n",
       "    <tr>\n",
       "      <th>LowQualFinSF</th>\n",
       "      <td>0.088953</td>\n",
       "      <td>-0.000324</td>\n",
       "      <td>-0.053828</td>\n",
       "      <td>0.048283</td>\n",
       "      <td>-0.025298</td>\n",
       "      <td>-0.009217</td>\n",
       "      <td>0.005958</td>\n",
       "      <td>1.000000</td>\n",
       "      <td>-0.033245</td>\n",
       "      <td>-0.007573</td>\n",
       "      <td>-0.003394</td>\n",
       "      <td>-0.005241</td>\n",
       "      <td>0.042702</td>\n",
       "      <td>-0.030827</td>\n",
       "    </tr>\n",
       "    <tr>\n",
       "      <th>GarageArea</th>\n",
       "      <td>0.476107</td>\n",
       "      <td>0.199195</td>\n",
       "      <td>0.347420</td>\n",
       "      <td>0.150629</td>\n",
       "      <td>0.465294</td>\n",
       "      <td>0.480197</td>\n",
       "      <td>0.126359</td>\n",
       "      <td>-0.033245</td>\n",
       "      <td>1.000000</td>\n",
       "      <td>0.239895</td>\n",
       "      <td>0.216026</td>\n",
       "      <td>0.026977</td>\n",
       "      <td>0.106825</td>\n",
       "      <td>0.634706</td>\n",
       "    </tr>\n",
       "    <tr>\n",
       "      <th>WoodDeckSF</th>\n",
       "      <td>0.247890</td>\n",
       "      <td>0.155787</td>\n",
       "      <td>0.149846</td>\n",
       "      <td>-0.040559</td>\n",
       "      <td>0.224125</td>\n",
       "      <td>0.224621</td>\n",
       "      <td>0.087288</td>\n",
       "      <td>-0.007573</td>\n",
       "      <td>0.239895</td>\n",
       "      <td>1.000000</td>\n",
       "      <td>0.032444</td>\n",
       "      <td>0.080737</td>\n",
       "      <td>-0.079960</td>\n",
       "      <td>0.333332</td>\n",
       "    </tr>\n",
       "    <tr>\n",
       "      <th>OpenPorchSF</th>\n",
       "      <td>0.321950</td>\n",
       "      <td>0.085048</td>\n",
       "      <td>0.118963</td>\n",
       "      <td>0.116343</td>\n",
       "      <td>0.214012</td>\n",
       "      <td>0.211434</td>\n",
       "      <td>0.183883</td>\n",
       "      <td>-0.003394</td>\n",
       "      <td>0.216026</td>\n",
       "      <td>0.032444</td>\n",
       "      <td>1.000000</td>\n",
       "      <td>0.038734</td>\n",
       "      <td>0.605541</td>\n",
       "      <td>0.306629</td>\n",
       "    </tr>\n",
       "    <tr>\n",
       "      <th>PoolArea</th>\n",
       "      <td>0.057947</td>\n",
       "      <td>0.052643</td>\n",
       "      <td>-0.003649</td>\n",
       "      <td>-0.032383</td>\n",
       "      <td>0.009400</td>\n",
       "      <td>0.076172</td>\n",
       "      <td>-0.000213</td>\n",
       "      <td>-0.005241</td>\n",
       "      <td>0.026977</td>\n",
       "      <td>0.080737</td>\n",
       "      <td>0.038734</td>\n",
       "      <td>1.000000</td>\n",
       "      <td>0.091428</td>\n",
       "      <td>0.030849</td>\n",
       "    </tr>\n",
       "    <tr>\n",
       "      <th>PorchTotSF</th>\n",
       "      <td>0.251975</td>\n",
       "      <td>0.095504</td>\n",
       "      <td>0.049467</td>\n",
       "      <td>0.058665</td>\n",
       "      <td>0.132039</td>\n",
       "      <td>0.156212</td>\n",
       "      <td>0.147383</td>\n",
       "      <td>0.042702</td>\n",
       "      <td>0.106825</td>\n",
       "      <td>-0.079960</td>\n",
       "      <td>0.605541</td>\n",
       "      <td>0.091428</td>\n",
       "      <td>1.000000</td>\n",
       "      <td>0.186712</td>\n",
       "    </tr>\n",
       "    <tr>\n",
       "      <th>SalePrice</th>\n",
       "      <td>0.719980</td>\n",
       "      <td>0.274427</td>\n",
       "      <td>0.498513</td>\n",
       "      <td>0.168118</td>\n",
       "      <td>0.652540</td>\n",
       "      <td>0.642623</td>\n",
       "      <td>0.263115</td>\n",
       "      <td>-0.030827</td>\n",
       "      <td>0.634706</td>\n",
       "      <td>0.333332</td>\n",
       "      <td>0.306629</td>\n",
       "      <td>0.030849</td>\n",
       "      <td>0.186712</td>\n",
       "      <td>1.000000</td>\n",
       "    </tr>\n",
       "  </tbody>\n",
       "</table>\n",
       "</div>"
      ],
      "text/plain": [
       "              GrLivArea   LotArea  MasVnrArea  BsmtUnfSF  TotalBsmtSF  \\\n",
       "GrLivArea      1.000000  0.260286    0.386041   0.246122     0.410456   \n",
       "LotArea        0.260286  1.000000    0.103584   0.020047     0.222304   \n",
       "MasVnrArea     0.386041  0.103584    1.000000   0.080236     0.360684   \n",
       "BsmtUnfSF      0.246122  0.020047    0.080236   1.000000     0.422121   \n",
       "TotalBsmtSF    0.410456  0.222304    0.360684   0.422121     1.000000   \n",
       "1stFlrSF       0.539168  0.313097    0.361930   0.303100     0.784280   \n",
       "2ndFlrSF       0.664967  0.022371    0.129587   0.009823    -0.219726   \n",
       "LowQualFinSF   0.088953 -0.000324   -0.053828   0.048283    -0.025298   \n",
       "GarageArea     0.476107  0.199195    0.347420   0.150629     0.465294   \n",
       "WoodDeckSF     0.247890  0.155787    0.149846  -0.040559     0.224125   \n",
       "OpenPorchSF    0.321950  0.085048    0.118963   0.116343     0.214012   \n",
       "PoolArea       0.057947  0.052643   -0.003649  -0.032383     0.009400   \n",
       "PorchTotSF     0.251975  0.095504    0.049467   0.058665     0.132039   \n",
       "SalePrice      0.719980  0.274427    0.498513   0.168118     0.652540   \n",
       "\n",
       "              1stFlrSF  2ndFlrSF  LowQualFinSF  GarageArea  WoodDeckSF  \\\n",
       "GrLivArea     0.539168  0.664967      0.088953    0.476107    0.247890   \n",
       "LotArea       0.313097  0.022371     -0.000324    0.199195    0.155787   \n",
       "MasVnrArea    0.361930  0.129587     -0.053828    0.347420    0.149846   \n",
       "BsmtUnfSF     0.303100  0.009823      0.048283    0.150629   -0.040559   \n",
       "TotalBsmtSF   0.784280 -0.219726     -0.025298    0.465294    0.224125   \n",
       "1stFlrSF      1.000000 -0.264351     -0.009217    0.480197    0.224621   \n",
       "2ndFlrSF     -0.264351  1.000000      0.005958    0.126359    0.087288   \n",
       "LowQualFinSF -0.009217  0.005958      1.000000   -0.033245   -0.007573   \n",
       "GarageArea    0.480197  0.126359     -0.033245    1.000000    0.239895   \n",
       "WoodDeckSF    0.224621  0.087288     -0.007573    0.239895    1.000000   \n",
       "OpenPorchSF   0.211434  0.183883     -0.003394    0.216026    0.032444   \n",
       "PoolArea      0.076172 -0.000213     -0.005241    0.026977    0.080737   \n",
       "PorchTotSF    0.156212  0.147383      0.042702    0.106825   -0.079960   \n",
       "SalePrice     0.642623  0.263115     -0.030827    0.634706    0.333332   \n",
       "\n",
       "              OpenPorchSF  PoolArea  PorchTotSF  SalePrice  \n",
       "GrLivArea        0.321950  0.057947    0.251975   0.719980  \n",
       "LotArea          0.085048  0.052643    0.095504   0.274427  \n",
       "MasVnrArea       0.118963 -0.003649    0.049467   0.498513  \n",
       "BsmtUnfSF        0.116343 -0.032383    0.058665   0.168118  \n",
       "TotalBsmtSF      0.214012  0.009400    0.132039   0.652540  \n",
       "1stFlrSF         0.211434  0.076172    0.156212   0.642623  \n",
       "2ndFlrSF         0.183883 -0.000213    0.147383   0.263115  \n",
       "LowQualFinSF    -0.003394 -0.005241    0.042702  -0.030827  \n",
       "GarageArea       0.216026  0.026977    0.106825   0.634706  \n",
       "WoodDeckSF       0.032444  0.080737   -0.079960   0.333332  \n",
       "OpenPorchSF      1.000000  0.038734    0.605541   0.306629  \n",
       "PoolArea         0.038734  1.000000    0.091428   0.030849  \n",
       "PorchTotSF       0.605541  0.091428    1.000000   0.186712  \n",
       "SalePrice        0.306629  0.030849    0.186712   1.000000  "
      ]
     },
     "execution_count": 175,
     "metadata": {},
     "output_type": "execute_result"
    }
   ],
   "source": [
    "corr = pd.concat([size_related, housing['SalePrice']], axis=1).corr()\n",
    "corr"
   ]
  },
  {
   "cell_type": "code",
   "execution_count": 176,
   "metadata": {},
   "outputs": [
    {
     "data": {
      "text/plain": [
       "<matplotlib.axes._subplots.AxesSubplot at 0x1a246ac2d0>"
      ]
     },
     "execution_count": 176,
     "metadata": {},
     "output_type": "execute_result"
    },
    {
     "data": {
      "image/png": "[encoded data removed]",
      "text/plain": [
       "<Figure size 432x288 with 2 Axes>"
      ]
     },
     "metadata": {
      "needs_background": "light"
     },
     "output_type": "display_data"
    }
   ],
   "source": [
    "sns.heatmap(corr) #using seasborn imported above"
   ]
  },
  {
   "cell_type": "markdown",
   "metadata": {},
   "source": [
    "### GrLivArea \n",
    "\n",
    "Most of the size related columns have significant p-values on their correlations with **SalePrice**. The **Gross Living Area** (GrLivArea) has a vanishing p-value, which indicates a very strong statistical relationship. We will focus our research on **GrLivArea**.\n",
    "\n",
    "\n",
    "**question: what do they mean by vanishing p-value?**"
   ]
  },
  {
   "cell_type": "code",
   "execution_count": 177,
   "metadata": {},
   "outputs": [
    {
     "data": {
      "text/plain": [
       "<matplotlib.axes._subplots.AxesSubplot at 0x1a24792990>"
      ]
     },
     "execution_count": 177,
     "metadata": {},
     "output_type": "execute_result"
    },
    {
     "data": {
      "image/png": "[encoded data removed]",
      "text/plain": [
       "<Figure size 432x288 with 1 Axes>"
      ]
     },
     "metadata": {
      "needs_background": "light"
     },
     "output_type": "display_data"
    }
   ],
   "source": [
    "housing[['GrLivArea', 'SalePrice']].plot(kind='scatter', x='GrLivArea', y='SalePrice')\n"
   ]
  },
  {
   "cell_type": "code",
   "execution_count": 178,
   "metadata": {},
   "outputs": [
    {
     "data": {
      "text/plain": [
       "0.5183711142112821"
      ]
     },
     "execution_count": 178,
     "metadata": {},
     "output_type": "execute_result"
    }
   ],
   "source": [
    "lm = LinearRegression()\n",
    "grLivArea = size_related[['GrLivArea']]\n",
    "lm.fit(grLivArea, price)\n",
    "lm.score(grLivArea, price)"
   ]
  },
  {
   "cell_type": "code",
   "execution_count": 179,
   "metadata": {},
   "outputs": [
    {
     "data": {
      "text/plain": [
       "0.540066390354783"
      ]
     },
     "execution_count": 179,
     "metadata": {},
     "output_type": "execute_result"
    }
   ],
   "source": [
    "lm.fit(np.log10(grLivArea), np.log10(price))\n",
    "lm.score(np.log10(grLivArea), np.log10(price))\n",
    "\n",
    "#slight better score with log of liv area"
   ]
  },
  {
   "cell_type": "code",
   "execution_count": 180,
   "metadata": {},
   "outputs": [
    {
     "data": {
      "text/plain": [
       "(2.4423189330356907, array([0.88111154]))"
      ]
     },
     "execution_count": 180,
     "metadata": {},
     "output_type": "execute_result"
    }
   ],
   "source": [
    "lm.intercept_, lm.coef_"
   ]
  },
  {
   "cell_type": "markdown",
   "metadata": {},
   "source": [
    "# Linear Regression"
   ]
  },
  {
   "cell_type": "code",
   "execution_count": 181,
   "metadata": {},
   "outputs": [
    {
     "data": {
      "image/png": "[encoded data removed]",
      "text/plain": [
       "<Figure size 720x288 with 3 Axes>"
      ]
     },
     "metadata": {
      "needs_background": "light"
     },
     "output_type": "display_data"
    }
   ],
   "source": [
    "## load data into pandas dataframe\n",
    "import pandas as pd\n",
    "housing.head()\n",
    "## Visualizing data, shown are Sales vs TV, Radio and Newspaper\n",
    "fig, axes = plt.subplots(nrows=1, ncols=3, figsize=(10, 4))\n",
    "housing.plot(ax=axes[0], kind='scatter', x='GrLivArea', y='SalePrice',c='b')\n",
    "housing.plot(ax=axes[1], kind='scatter', x='TotalBsmtSF', y='SalePrice',c='r')\n",
    "housing.plot(ax=axes[2], kind='scatter', x='1stFlrSF', y='SalePrice',c='g')\n",
    "plt.show()"
   ]
  },
  {
   "cell_type": "markdown",
   "metadata": {},
   "source": [
    "- GrLivArea, TotalBsmtSF, and 1stFlrSF all seem to have a positive linear relationship with sales price"
   ]
  },
  {
   "cell_type": "code",
   "execution_count": 182,
   "metadata": {},
   "outputs": [
    {
     "name": "stdout",
     "output_type": "stream",
     "text": [
      "Intercept: -25700.362963\n",
      "Coefficients: [83.49422388 76.89150007]\n",
      "R^2: 0.671660\n"
     ]
    }
   ],
   "source": [
    "from sklearn.linear_model import LinearRegression\n",
    "ols = LinearRegression()\n",
    "## separate the input variables and output variables\n",
    "X = housing[['GrLivArea', 'TotalBsmtSF']]  # input varialbe\n",
    "Y = housing['SalePrice']  # output variable\n",
    "ols.fit(X, Y)\n",
    "print(\"Intercept: %f\" %ols.intercept_)\n",
    "print(\"Coefficients: %s\" %str(ols.coef_))\n",
    "print(\"R^2: %f\" %(ols.score(X, Y)))"
   ]
  },
  {
   "cell_type": "code",
   "execution_count": 183,
   "metadata": {},
   "outputs": [
    {
     "data": {
      "text/plain": [
       "Index(['GrLivArea', 'LotArea', 'MasVnrArea', 'BsmtUnfSF', 'TotalBsmtSF',\n",
       "       '1stFlrSF', '2ndFlrSF', 'LowQualFinSF', 'GarageArea', 'WoodDeckSF',\n",
       "       'OpenPorchSF', 'PoolArea', 'PorchTotSF'],\n",
       "      dtype='object')"
      ]
     },
     "execution_count": 183,
     "metadata": {},
     "output_type": "execute_result"
    }
   ],
   "source": [
    "X = housing.filter(regex='SF$|Area$')\n",
    "y = housing['SalePrice']\n",
    "\n",
    "X.columns"
   ]
  },
  {
   "cell_type": "code",
   "execution_count": 184,
   "metadata": {},
   "outputs": [
    {
     "name": "stdout",
     "output_type": "stream",
     "text": [
      "Intercept: -20816.479517\n",
      "Coefficients: [ 32.42176586   0.18273133  51.81376248 -23.56263136  66.97282731\n",
      "  30.26853424  33.65218061 -31.49894899  76.31645375  39.09395647\n",
      "  59.63924748 -32.78913961 -10.21641342]\n",
      "R^2: 0.756963\n"
     ]
    }
   ],
   "source": [
    "ols.fit(X, y)\n",
    "print(\"Intercept: %f\" %ols.intercept_)\n",
    "print(\"Coefficients: %s\" %str(ols.coef_))\n",
    "print(\"R^2: %f\" %(ols.score(X, y)))\n",
    "# print(\"Predicted Sale Price: %f\" %(ols.predict([[1486, 1036, 1145]])))"
   ]
  },
  {
   "cell_type": "code",
   "execution_count": 185,
   "metadata": {},
   "outputs": [
    {
     "name": "stdout",
     "output_type": "stream",
     "text": [
      "R^2 for train set: 0.752815\n",
      "--------------------------------------------------\n",
      "R^2 for test  set: 0.767473\n"
     ]
    }
   ],
   "source": [
    "from sklearn.linear_model import LinearRegression \n",
    "\n",
    "ols = LinearRegression()\n",
    "\n",
    "from sklearn.model_selection import train_test_split\n",
    "# np.random.seed(100)  # changing the random seed can produce different scenarios which lead to exceptions\n",
    "X_train, X_test, y_train, y_test = train_test_split(X, y, random_state = 42, test_size=0.2)\n",
    "\n",
    "\n",
    "ols.fit(X_train, y_train)\n",
    "\n",
    "print(\"R^2 for train set: %f\" %ols.score(X_train, y_train))\n",
    "\n",
    "print('-'*50)\n",
    "\n",
    "print(\"R^2 for test  set: %f\" %ols.score(X_test, y_test))\n"
   ]
  },
  {
   "cell_type": "code",
   "execution_count": 186,
   "metadata": {},
   "outputs": [
    {
     "name": "stdout",
     "output_type": "stream",
     "text": [
      "Intercept: -24411.338907\n",
      "Coefficients: [ 47.57421091 105.19086847  34.81395194 -92.4306095 ]\n",
      "R^2: 0.615239\n"
     ]
    }
   ],
   "source": [
    "X_GL = housing[['GrLivArea', '1stFlrSF', '2ndFlrSF', 'LowQualFinSF']]  # input varialbe\n",
    "Y_GL = housing['SalePrice']  # output variable\n",
    "ols.fit(X_GL, Y_GL)\n",
    "\n",
    "print(\"Intercept: %f\" %ols.intercept_)\n",
    "print(\"Coefficients: %s\" %str(ols.coef_))\n",
    "print(\"R^2: %f\" %(ols.score(X_GL, Y_GL)))\n"
   ]
  },
  {
   "cell_type": "markdown",
   "metadata": {},
   "source": [
    "## Bathroom Analysis"
   ]
  },
  {
   "cell_type": "markdown",
   "metadata": {},
   "source": [
    "Do home buyers value upstairs bathrooms and basement bathrooms equally? Do they price 'half-bath' as one half of a full bath? Based on your finding, how would you design an aggregate bathroom feature?\n",
    "- 'BsmtFullBath', 'BsmtHalfBath', 'FullBath', 'HalfBath'\n",
    "\n",
    "‘Bathrooms’ = BsmtFullBath + BsmtHalfBath * 0.5 + FullBath + HalfBath * 0.5\n",
    "\n",
    "\n",
    "‘Bathrooms’ = FullBath + HalfBath(0.5) + BsmtFullBath(.6) + BsmtHalfBath(0.2) \n",
    "\n"
   ]
  },
  {
   "cell_type": "code",
   "execution_count": 190,
   "metadata": {},
   "outputs": [
    {
     "data": {
      "text/html": [
       "<div>\n",
       "<style scoped>\n",
       "    .dataframe tbody tr th:only-of-type {\n",
       "        vertical-align: middle;\n",
       "    }\n",
       "\n",
       "    .dataframe tbody tr th {\n",
       "        vertical-align: top;\n",
       "    }\n",
       "\n",
       "    .dataframe thead th {\n",
       "        text-align: right;\n",
       "    }\n",
       "</style>\n",
       "<table border=\"1\" class=\"dataframe\">\n",
       "  <thead>\n",
       "    <tr style=\"text-align: right;\">\n",
       "      <th></th>\n",
       "      <th>BsmtFullBath</th>\n",
       "      <th>BsmtHalfBath</th>\n",
       "      <th>FullBath</th>\n",
       "      <th>HalfBath</th>\n",
       "    </tr>\n",
       "  </thead>\n",
       "  <tbody>\n",
       "    <tr>\n",
       "      <th>1</th>\n",
       "      <td>1.0</td>\n",
       "      <td>0.0</td>\n",
       "      <td>1</td>\n",
       "      <td>0</td>\n",
       "    </tr>\n",
       "    <tr>\n",
       "      <th>2</th>\n",
       "      <td>1.0</td>\n",
       "      <td>0.0</td>\n",
       "      <td>2</td>\n",
       "      <td>0</td>\n",
       "    </tr>\n",
       "    <tr>\n",
       "      <th>3</th>\n",
       "      <td>0.0</td>\n",
       "      <td>0.0</td>\n",
       "      <td>1</td>\n",
       "      <td>0</td>\n",
       "    </tr>\n",
       "    <tr>\n",
       "      <th>4</th>\n",
       "      <td>0.0</td>\n",
       "      <td>0.0</td>\n",
       "      <td>1</td>\n",
       "      <td>0</td>\n",
       "    </tr>\n",
       "    <tr>\n",
       "      <th>5</th>\n",
       "      <td>1.0</td>\n",
       "      <td>0.0</td>\n",
       "      <td>2</td>\n",
       "      <td>1</td>\n",
       "    </tr>\n",
       "  </tbody>\n",
       "</table>\n",
       "</div>"
      ],
      "text/plain": [
       "   BsmtFullBath  BsmtHalfBath  FullBath  HalfBath\n",
       "1           1.0           0.0         1         0\n",
       "2           1.0           0.0         2         0\n",
       "3           0.0           0.0         1         0\n",
       "4           0.0           0.0         1         0\n",
       "5           1.0           0.0         2         1"
      ]
     },
     "execution_count": 190,
     "metadata": {},
     "output_type": "execute_result"
    }
   ],
   "source": [
    "## separate the input variables and output variables\n",
    "X2 = housing[['BsmtFullBath', 'BsmtHalfBath', 'FullBath', 'HalfBath']]  # input varialbe\n",
    "y2 = housing['SalePrice']  # output variable\n",
    "\n",
    "X2.head()"
   ]
  },
  {
   "cell_type": "code",
   "execution_count": 191,
   "metadata": {},
   "outputs": [
    {
     "name": "stdout",
     "output_type": "stream",
     "text": [
      "Intercept: 36248.405682\n",
      "Coefficients: [46632.9473865  16377.01117954 69719.20079549 32713.74134136]\n"
     ]
    }
   ],
   "source": [
    "ols.fit(X2, y2)\n",
    "print(\"Intercept: %f\" %ols.intercept_)\n",
    "print(\"Coefficients: %s\" %str(ols.coef_))\n"
   ]
  },
  {
   "cell_type": "markdown",
   "metadata": {},
   "source": [
    "- 'BsmtFullBath', 46581.74 \n",
    "- 'BsmtHalfBath', 16327.75\n",
    "- 'FullBath', 69639.06\n",
    "- 'HalfBath' 32755.75"
   ]
  },
  {
   "cell_type": "code",
   "execution_count": 193,
   "metadata": {},
   "outputs": [],
   "source": [
    "housing['HalfBath2'] = housing['HalfBath'].fillna(0.0)*0.5\n",
    "housing['BsmtFullBath2'] = housing['BsmtFullBath'].fillna(0.0)*.6 \n",
    "housing['BsmtHalfBath2'] = housing['BsmtHalfBath'].fillna(0.0)*.2"
   ]
  },
  {
   "cell_type": "code",
   "execution_count": 195,
   "metadata": {},
   "outputs": [],
   "source": [
    "housing['bathroom'] = housing['FullBath'] + housing['HalfBath2'] + housing['BsmtFullBath2'] + housing['BsmtHalfBath2']\n",
    "\n",
    "#FullBath + HalfBath(0.5) + BsmtFullBath(.6) + BsmtHalfBath(0.2)\n",
    "\n"
   ]
  },
  {
   "cell_type": "markdown",
   "metadata": {},
   "source": [
    "## Neighborhood Analysis"
   ]
  },
  {
   "cell_type": "markdown",
   "metadata": {},
   "source": [
    "### Merging DataFrames and deleting duplicates"
   ]
  },
  {
   "cell_type": "code",
   "execution_count": 196,
   "metadata": {},
   "outputs": [],
   "source": [
    "#adding separate long lat column"
   ]
  },
  {
   "cell_type": "code",
   "execution_count": 197,
   "metadata": {},
   "outputs": [],
   "source": [
    "#making index a column \n",
    "realestate['MapRefNo'] = realestate.index"
   ]
  },
  {
   "cell_type": "code",
   "execution_count": 198,
   "metadata": {},
   "outputs": [],
   "source": [
    "# creating a new dataframe with only necessary columns \n",
    "realestate1 = realestate[['MapRefNo', 'GeoRefNo', 'Prop_Addr', 'Neighborhood', 'ClassPr_S', 'SchD_S', 'TxD_S']]"
   ]
  },
  {
   "cell_type": "code",
   "execution_count": 199,
   "metadata": {},
   "outputs": [],
   "source": [
    "#renamed realestate MapRefNo to PID to Merge on PID \n",
    "realestate1.rename(columns = {'MapRefNo':'PID'}, inplace = True) \n"
   ]
  },
  {
   "cell_type": "code",
   "execution_count": 200,
   "metadata": {},
   "outputs": [],
   "source": [
    "#Merging Dataframes on PID\n",
    "real_housing= pd.merge(housing, realestate1, on = 'PID', how='left')"
   ]
  },
  {
   "cell_type": "code",
   "execution_count": 201,
   "metadata": {},
   "outputs": [
    {
     "data": {
      "text/plain": [
       "(2579, 99)"
      ]
     },
     "execution_count": 201,
     "metadata": {},
     "output_type": "execute_result"
    }
   ],
   "source": [
    "#dropping duplicates \n",
    "real_housing = real_housing.drop_duplicates(subset = ['PID'])\n",
    "real_housing.shape #checking shape"
   ]
  },
  {
   "cell_type": "code",
   "execution_count": 202,
   "metadata": {},
   "outputs": [
    {
     "data": {
      "text/plain": [
       "0"
      ]
     },
     "execution_count": 202,
     "metadata": {},
     "output_type": "execute_result"
    }
   ],
   "source": [
    "#check for duplicates\n",
    "sum(real_housing['PID'].value_counts() > 1)"
   ]
  },
  {
   "cell_type": "code",
   "execution_count": 203,
   "metadata": {},
   "outputs": [
    {
     "data": {
      "text/plain": [
       "Neighborhood_y\n",
       "HaydnLk    396717.050000\n",
       "NoRidge    326114.298507\n",
       "NRidgHt    313662.495868\n",
       "Veenker    251263.043478\n",
       "Timber     243523.346154\n",
       "Somerst    228761.853147\n",
       "Stonebr    225821.739130\n",
       "ClearCr    216020.512821\n",
       "Crawfor    202075.782609\n",
       "CollgCr    198133.169492\n",
       "Blmngtn    196237.173913\n",
       "Greens     193531.250000\n",
       "NW Ames    190372.398374\n",
       "Gilbert    189439.867133\n",
       "SawyerW    189178.803571\n",
       "Mitchel    163443.203883\n",
       "N Ames     145088.911765\n",
       "Bluestm    143590.000000\n",
       "NoPkVil    140743.181818\n",
       "Sawyer     137492.863309\n",
       "S&W ISU    132945.121951\n",
       "Edwards    132040.619632\n",
       "OldTown    126526.014423\n",
       "BrkSide    126029.854369\n",
       "IDOT&RR    110875.985915\n",
       "Br'Dale    106094.827586\n",
       "MeadowV     96836.470588\n",
       "Name: SalePrice, dtype: float64"
      ]
     },
     "execution_count": 203,
     "metadata": {},
     "output_type": "execute_result"
    }
   ],
   "source": [
    "# neighborhood_y based on sales price\n",
    "real_housing.groupby('Neighborhood_y')['SalePrice'].mean()\\\n",
    "      .sort_values(ascending=False)\n"
   ]
  },
  {
   "cell_type": "code",
   "execution_count": 204,
   "metadata": {},
   "outputs": [
    {
     "data": {
      "text/plain": [
       "Text(0.5, 1.0, 'Nieghborhood Distribution after merge')"
      ]
     },
     "execution_count": 204,
     "metadata": {},
     "output_type": "execute_result"
    },
    {
     "data": {
      "image/png": "[encoded data removed]",
      "text/plain": [
       "<Figure size 432x432 with 1 Axes>"
      ]
     },
     "metadata": {
      "needs_background": "light"
     },
     "output_type": "display_data"
    }
   ],
   "source": [
    "plt.figure(figsize=(6,6))\n",
    "real_housing['Neighborhood_y'].value_counts().plot(kind='barh')\n",
    "plt.title('Nieghborhood Distribution after merge')"
   ]
  },
  {
   "cell_type": "code",
   "execution_count": 206,
   "metadata": {},
   "outputs": [
    {
     "data": {
      "text/html": [
       "<div>\n",
       "<style scoped>\n",
       "    .dataframe tbody tr th:only-of-type {\n",
       "        vertical-align: middle;\n",
       "    }\n",
       "\n",
       "    .dataframe tbody tr th {\n",
       "        vertical-align: top;\n",
       "    }\n",
       "\n",
       "    .dataframe thead th {\n",
       "        text-align: right;\n",
       "    }\n",
       "</style>\n",
       "<table border=\"1\" class=\"dataframe\">\n",
       "  <thead>\n",
       "    <tr style=\"text-align: right;\">\n",
       "      <th></th>\n",
       "      <th>PID</th>\n",
       "      <th>GrLivArea</th>\n",
       "      <th>SalePrice</th>\n",
       "      <th>MSSubClass</th>\n",
       "      <th>MSZoning</th>\n",
       "      <th>LotFrontage</th>\n",
       "      <th>LotArea</th>\n",
       "      <th>Street</th>\n",
       "      <th>Alley</th>\n",
       "      <th>LotShape</th>\n",
       "      <th>LandContour</th>\n",
       "      <th>Utilities</th>\n",
       "      <th>LotConfig</th>\n",
       "      <th>LandSlope</th>\n",
       "      <th>Neighborhood_x</th>\n",
       "      <th>Condition1</th>\n",
       "      <th>Condition2</th>\n",
       "      <th>BldgType</th>\n",
       "      <th>HouseStyle</th>\n",
       "      <th>OverallQual</th>\n",
       "      <th>OverallCond</th>\n",
       "      <th>YearBuilt</th>\n",
       "      <th>YearRemodAdd</th>\n",
       "      <th>RoofStyle</th>\n",
       "      <th>RoofMatl</th>\n",
       "      <th>Exterior1st</th>\n",
       "      <th>Exterior2nd</th>\n",
       "      <th>MasVnrType</th>\n",
       "      <th>MasVnrArea</th>\n",
       "      <th>ExterQual</th>\n",
       "      <th>ExterCond</th>\n",
       "      <th>Foundation</th>\n",
       "      <th>BsmtQual</th>\n",
       "      <th>BsmtCond</th>\n",
       "      <th>BsmtExposure</th>\n",
       "      <th>BsmtFinType1</th>\n",
       "      <th>BsmtFinSF1</th>\n",
       "      <th>BsmtFinType2</th>\n",
       "      <th>BsmtFinSF2</th>\n",
       "      <th>BsmtUnfSF</th>\n",
       "      <th>TotalBsmtSF</th>\n",
       "      <th>Heating</th>\n",
       "      <th>HeatingQC</th>\n",
       "      <th>CentralAir</th>\n",
       "      <th>Electrical</th>\n",
       "      <th>1stFlrSF</th>\n",
       "      <th>2ndFlrSF</th>\n",
       "      <th>LowQualFinSF</th>\n",
       "      <th>BsmtFullBath</th>\n",
       "      <th>BsmtHalfBath</th>\n",
       "      <th>FullBath</th>\n",
       "      <th>HalfBath</th>\n",
       "      <th>BedroomAbvGr</th>\n",
       "      <th>KitchenAbvGr</th>\n",
       "      <th>KitchenQual</th>\n",
       "      <th>TotRmsAbvGrd</th>\n",
       "      <th>Functional</th>\n",
       "      <th>Fireplaces</th>\n",
       "      <th>FireplaceQu</th>\n",
       "      <th>GarageType</th>\n",
       "      <th>GarageYrBlt</th>\n",
       "      <th>GarageFinish</th>\n",
       "      <th>GarageCars</th>\n",
       "      <th>GarageArea</th>\n",
       "      <th>GarageQual</th>\n",
       "      <th>GarageCond</th>\n",
       "      <th>PavedDrive</th>\n",
       "      <th>WoodDeckSF</th>\n",
       "      <th>OpenPorchSF</th>\n",
       "      <th>EnclosedPorch</th>\n",
       "      <th>3SsnPorch</th>\n",
       "      <th>ScreenPorch</th>\n",
       "      <th>PoolArea</th>\n",
       "      <th>PoolQC</th>\n",
       "      <th>Fence</th>\n",
       "      <th>MiscFeature</th>\n",
       "      <th>MiscVal</th>\n",
       "      <th>MoSold</th>\n",
       "      <th>YrSold</th>\n",
       "      <th>SaleType</th>\n",
       "      <th>SaleCondition</th>\n",
       "      <th>GeoRefNo</th>\n",
       "      <th>Prop_Addr</th>\n",
       "      <th>Neighborhood_y</th>\n",
       "      <th>ClassPr_S</th>\n",
       "      <th>SchD_S</th>\n",
       "      <th>TxD_S</th>\n",
       "      <th>address_lat_log</th>\n",
       "      <th>highschool_dist</th>\n",
       "      <th>college_dist</th>\n",
       "      <th>latitude</th>\n",
       "      <th>longitude</th>\n",
       "    </tr>\n",
       "  </thead>\n",
       "  <tbody>\n",
       "    <tr>\n",
       "      <th>0</th>\n",
       "      <td>909176150</td>\n",
       "      <td>856</td>\n",
       "      <td>126000</td>\n",
       "      <td>30</td>\n",
       "      <td>RL</td>\n",
       "      <td>NaN</td>\n",
       "      <td>7890</td>\n",
       "      <td>Pave</td>\n",
       "      <td>NaN</td>\n",
       "      <td>Reg</td>\n",
       "      <td>Lvl</td>\n",
       "      <td>AllPub</td>\n",
       "      <td>Corner</td>\n",
       "      <td>Gtl</td>\n",
       "      <td>SWISU</td>\n",
       "      <td>Norm</td>\n",
       "      <td>Norm</td>\n",
       "      <td>1Fam</td>\n",
       "      <td>1Story</td>\n",
       "      <td>6</td>\n",
       "      <td>6</td>\n",
       "      <td>1939</td>\n",
       "      <td>1950</td>\n",
       "      <td>Gable</td>\n",
       "      <td>CompShg</td>\n",
       "      <td>Wd Sdng</td>\n",
       "      <td>Wd Sdng</td>\n",
       "      <td>None</td>\n",
       "      <td>0.0</td>\n",
       "      <td>TA</td>\n",
       "      <td>TA</td>\n",
       "      <td>CBlock</td>\n",
       "      <td>TA</td>\n",
       "      <td>TA</td>\n",
       "      <td>No</td>\n",
       "      <td>Rec</td>\n",
       "      <td>238.0</td>\n",
       "      <td>Unf</td>\n",
       "      <td>0.0</td>\n",
       "      <td>618.0</td>\n",
       "      <td>856.0</td>\n",
       "      <td>GasA</td>\n",
       "      <td>TA</td>\n",
       "      <td>Y</td>\n",
       "      <td>SBrkr</td>\n",
       "      <td>856</td>\n",
       "      <td>0</td>\n",
       "      <td>0</td>\n",
       "      <td>1.0</td>\n",
       "      <td>0.0</td>\n",
       "      <td>1</td>\n",
       "      <td>0</td>\n",
       "      <td>2</td>\n",
       "      <td>1</td>\n",
       "      <td>TA</td>\n",
       "      <td>4</td>\n",
       "      <td>Typ</td>\n",
       "      <td>1</td>\n",
       "      <td>Gd</td>\n",
       "      <td>Detchd</td>\n",
       "      <td>1939.0</td>\n",
       "      <td>Unf</td>\n",
       "      <td>2.0</td>\n",
       "      <td>399.0</td>\n",
       "      <td>TA</td>\n",
       "      <td>TA</td>\n",
       "      <td>Y</td>\n",
       "      <td>0</td>\n",
       "      <td>0</td>\n",
       "      <td>0</td>\n",
       "      <td>0</td>\n",
       "      <td>166</td>\n",
       "      <td>0</td>\n",
       "      <td>NaN</td>\n",
       "      <td>NaN</td>\n",
       "      <td>NaN</td>\n",
       "      <td>0</td>\n",
       "      <td>3</td>\n",
       "      <td>2010</td>\n",
       "      <td>WD</td>\n",
       "      <td>Normal</td>\n",
       "      <td>909176150.0</td>\n",
       "      <td>436 HAYWARD AVE</td>\n",
       "      <td>S&amp;W ISU</td>\n",
       "      <td>RESIDENTIAL</td>\n",
       "      <td>1.0</td>\n",
       "      <td>1.0</td>\n",
       "      <td>(42.01856448979592, -93.65161918367347)</td>\n",
       "      <td>1.748507</td>\n",
       "      <td>0.467930</td>\n",
       "      <td>42.018564</td>\n",
       "      <td>-93.651619</td>\n",
       "    </tr>\n",
       "    <tr>\n",
       "      <th>1</th>\n",
       "      <td>905476230</td>\n",
       "      <td>1049</td>\n",
       "      <td>139500</td>\n",
       "      <td>120</td>\n",
       "      <td>RL</td>\n",
       "      <td>42.0</td>\n",
       "      <td>4235</td>\n",
       "      <td>Pave</td>\n",
       "      <td>NaN</td>\n",
       "      <td>Reg</td>\n",
       "      <td>Lvl</td>\n",
       "      <td>AllPub</td>\n",
       "      <td>Inside</td>\n",
       "      <td>Gtl</td>\n",
       "      <td>Edwards</td>\n",
       "      <td>Norm</td>\n",
       "      <td>Norm</td>\n",
       "      <td>TwnhsE</td>\n",
       "      <td>1Story</td>\n",
       "      <td>5</td>\n",
       "      <td>5</td>\n",
       "      <td>1984</td>\n",
       "      <td>1984</td>\n",
       "      <td>Gable</td>\n",
       "      <td>CompShg</td>\n",
       "      <td>HdBoard</td>\n",
       "      <td>HdBoard</td>\n",
       "      <td>BrkFace</td>\n",
       "      <td>149.0</td>\n",
       "      <td>Gd</td>\n",
       "      <td>TA</td>\n",
       "      <td>CBlock</td>\n",
       "      <td>Gd</td>\n",
       "      <td>TA</td>\n",
       "      <td>Mn</td>\n",
       "      <td>GLQ</td>\n",
       "      <td>552.0</td>\n",
       "      <td>ALQ</td>\n",
       "      <td>393.0</td>\n",
       "      <td>104.0</td>\n",
       "      <td>1049.0</td>\n",
       "      <td>GasA</td>\n",
       "      <td>TA</td>\n",
       "      <td>Y</td>\n",
       "      <td>SBrkr</td>\n",
       "      <td>1049</td>\n",
       "      <td>0</td>\n",
       "      <td>0</td>\n",
       "      <td>1.0</td>\n",
       "      <td>0.0</td>\n",
       "      <td>2</td>\n",
       "      <td>0</td>\n",
       "      <td>2</td>\n",
       "      <td>1</td>\n",
       "      <td>Gd</td>\n",
       "      <td>5</td>\n",
       "      <td>Typ</td>\n",
       "      <td>0</td>\n",
       "      <td>NaN</td>\n",
       "      <td>Attchd</td>\n",
       "      <td>1984.0</td>\n",
       "      <td>Fin</td>\n",
       "      <td>1.0</td>\n",
       "      <td>266.0</td>\n",
       "      <td>TA</td>\n",
       "      <td>TA</td>\n",
       "      <td>Y</td>\n",
       "      <td>0</td>\n",
       "      <td>105</td>\n",
       "      <td>0</td>\n",
       "      <td>0</td>\n",
       "      <td>0</td>\n",
       "      <td>0</td>\n",
       "      <td>NaN</td>\n",
       "      <td>NaN</td>\n",
       "      <td>NaN</td>\n",
       "      <td>0</td>\n",
       "      <td>2</td>\n",
       "      <td>2009</td>\n",
       "      <td>WD</td>\n",
       "      <td>Normal</td>\n",
       "      <td>905476230.0</td>\n",
       "      <td>3416 WEST ST</td>\n",
       "      <td>Edwards</td>\n",
       "      <td>RESIDENTIAL</td>\n",
       "      <td>1.0</td>\n",
       "      <td>1.0</td>\n",
       "      <td>(42.024855315930424, -93.66367099341755)</td>\n",
       "      <td>1.852690</td>\n",
       "      <td>0.749722</td>\n",
       "      <td>42.024855</td>\n",
       "      <td>-93.663671</td>\n",
       "    </tr>\n",
       "    <tr>\n",
       "      <th>4</th>\n",
       "      <td>535377150</td>\n",
       "      <td>1039</td>\n",
       "      <td>114000</td>\n",
       "      <td>70</td>\n",
       "      <td>RL</td>\n",
       "      <td>80.0</td>\n",
       "      <td>8146</td>\n",
       "      <td>Pave</td>\n",
       "      <td>NaN</td>\n",
       "      <td>Reg</td>\n",
       "      <td>Lvl</td>\n",
       "      <td>AllPub</td>\n",
       "      <td>Corner</td>\n",
       "      <td>Gtl</td>\n",
       "      <td>OldTown</td>\n",
       "      <td>Norm</td>\n",
       "      <td>Norm</td>\n",
       "      <td>1Fam</td>\n",
       "      <td>2Story</td>\n",
       "      <td>4</td>\n",
       "      <td>8</td>\n",
       "      <td>1900</td>\n",
       "      <td>2003</td>\n",
       "      <td>Gable</td>\n",
       "      <td>CompShg</td>\n",
       "      <td>MetalSd</td>\n",
       "      <td>MetalSd</td>\n",
       "      <td>None</td>\n",
       "      <td>0.0</td>\n",
       "      <td>Gd</td>\n",
       "      <td>Gd</td>\n",
       "      <td>BrkTil</td>\n",
       "      <td>Fa</td>\n",
       "      <td>TA</td>\n",
       "      <td>No</td>\n",
       "      <td>Unf</td>\n",
       "      <td>0.0</td>\n",
       "      <td>Unf</td>\n",
       "      <td>0.0</td>\n",
       "      <td>405.0</td>\n",
       "      <td>405.0</td>\n",
       "      <td>GasA</td>\n",
       "      <td>Gd</td>\n",
       "      <td>Y</td>\n",
       "      <td>SBrkr</td>\n",
       "      <td>717</td>\n",
       "      <td>322</td>\n",
       "      <td>0</td>\n",
       "      <td>0.0</td>\n",
       "      <td>0.0</td>\n",
       "      <td>1</td>\n",
       "      <td>0</td>\n",
       "      <td>2</td>\n",
       "      <td>1</td>\n",
       "      <td>TA</td>\n",
       "      <td>6</td>\n",
       "      <td>Typ</td>\n",
       "      <td>0</td>\n",
       "      <td>NaN</td>\n",
       "      <td>Detchd</td>\n",
       "      <td>1940.0</td>\n",
       "      <td>Unf</td>\n",
       "      <td>1.0</td>\n",
       "      <td>281.0</td>\n",
       "      <td>TA</td>\n",
       "      <td>TA</td>\n",
       "      <td>N</td>\n",
       "      <td>0</td>\n",
       "      <td>0</td>\n",
       "      <td>168</td>\n",
       "      <td>0</td>\n",
       "      <td>111</td>\n",
       "      <td>0</td>\n",
       "      <td>NaN</td>\n",
       "      <td>NaN</td>\n",
       "      <td>NaN</td>\n",
       "      <td>0</td>\n",
       "      <td>5</td>\n",
       "      <td>2009</td>\n",
       "      <td>WD</td>\n",
       "      <td>Normal</td>\n",
       "      <td>535377150.0</td>\n",
       "      <td>1524 DOUGLAS AVE</td>\n",
       "      <td>OldTown</td>\n",
       "      <td>RESIDENTIAL</td>\n",
       "      <td>1.0</td>\n",
       "      <td>1.0</td>\n",
       "      <td>(42.03739146938776, -93.61220695918368)</td>\n",
       "      <td>1.152991</td>\n",
       "      <td>2.080107</td>\n",
       "      <td>42.037391</td>\n",
       "      <td>-93.612207</td>\n",
       "    </tr>\n",
       "    <tr>\n",
       "      <th>5</th>\n",
       "      <td>534177230</td>\n",
       "      <td>1665</td>\n",
       "      <td>227000</td>\n",
       "      <td>60</td>\n",
       "      <td>RL</td>\n",
       "      <td>70.0</td>\n",
       "      <td>8400</td>\n",
       "      <td>Pave</td>\n",
       "      <td>NaN</td>\n",
       "      <td>Reg</td>\n",
       "      <td>Lvl</td>\n",
       "      <td>AllPub</td>\n",
       "      <td>Inside</td>\n",
       "      <td>Gtl</td>\n",
       "      <td>NWAmes</td>\n",
       "      <td>Norm</td>\n",
       "      <td>Norm</td>\n",
       "      <td>1Fam</td>\n",
       "      <td>2Story</td>\n",
       "      <td>8</td>\n",
       "      <td>6</td>\n",
       "      <td>2001</td>\n",
       "      <td>2001</td>\n",
       "      <td>Gable</td>\n",
       "      <td>CompShg</td>\n",
       "      <td>VinylSd</td>\n",
       "      <td>VinylSd</td>\n",
       "      <td>None</td>\n",
       "      <td>0.0</td>\n",
       "      <td>Gd</td>\n",
       "      <td>TA</td>\n",
       "      <td>PConc</td>\n",
       "      <td>Gd</td>\n",
       "      <td>TA</td>\n",
       "      <td>No</td>\n",
       "      <td>GLQ</td>\n",
       "      <td>643.0</td>\n",
       "      <td>Unf</td>\n",
       "      <td>0.0</td>\n",
       "      <td>167.0</td>\n",
       "      <td>810.0</td>\n",
       "      <td>GasA</td>\n",
       "      <td>Ex</td>\n",
       "      <td>Y</td>\n",
       "      <td>SBrkr</td>\n",
       "      <td>810</td>\n",
       "      <td>855</td>\n",
       "      <td>0</td>\n",
       "      <td>1.0</td>\n",
       "      <td>0.0</td>\n",
       "      <td>2</td>\n",
       "      <td>1</td>\n",
       "      <td>3</td>\n",
       "      <td>1</td>\n",
       "      <td>Gd</td>\n",
       "      <td>6</td>\n",
       "      <td>Typ</td>\n",
       "      <td>0</td>\n",
       "      <td>NaN</td>\n",
       "      <td>Attchd</td>\n",
       "      <td>2001.0</td>\n",
       "      <td>Fin</td>\n",
       "      <td>2.0</td>\n",
       "      <td>528.0</td>\n",
       "      <td>TA</td>\n",
       "      <td>TA</td>\n",
       "      <td>Y</td>\n",
       "      <td>0</td>\n",
       "      <td>45</td>\n",
       "      <td>0</td>\n",
       "      <td>0</td>\n",
       "      <td>0</td>\n",
       "      <td>0</td>\n",
       "      <td>NaN</td>\n",
       "      <td>NaN</td>\n",
       "      <td>NaN</td>\n",
       "      <td>0</td>\n",
       "      <td>11</td>\n",
       "      <td>2009</td>\n",
       "      <td>WD</td>\n",
       "      <td>Normal</td>\n",
       "      <td>534177230.0</td>\n",
       "      <td>2304 FILLMORE AVE</td>\n",
       "      <td>NW Ames</td>\n",
       "      <td>RESIDENTIAL</td>\n",
       "      <td>1.0</td>\n",
       "      <td>1.0</td>\n",
       "      <td>(42.04455376067282, -93.63181831620726)</td>\n",
       "      <td>0.316567</td>\n",
       "      <td>1.611707</td>\n",
       "      <td>42.044554</td>\n",
       "      <td>-93.631818</td>\n",
       "    </tr>\n",
       "    <tr>\n",
       "      <th>6</th>\n",
       "      <td>908128060</td>\n",
       "      <td>1922</td>\n",
       "      <td>198500</td>\n",
       "      <td>85</td>\n",
       "      <td>RL</td>\n",
       "      <td>64.0</td>\n",
       "      <td>7301</td>\n",
       "      <td>Pave</td>\n",
       "      <td>NaN</td>\n",
       "      <td>Reg</td>\n",
       "      <td>Lvl</td>\n",
       "      <td>AllPub</td>\n",
       "      <td>Corner</td>\n",
       "      <td>Gtl</td>\n",
       "      <td>Edwards</td>\n",
       "      <td>Norm</td>\n",
       "      <td>Norm</td>\n",
       "      <td>1Fam</td>\n",
       "      <td>SFoyer</td>\n",
       "      <td>7</td>\n",
       "      <td>5</td>\n",
       "      <td>2003</td>\n",
       "      <td>2003</td>\n",
       "      <td>Gable</td>\n",
       "      <td>CompShg</td>\n",
       "      <td>HdBoard</td>\n",
       "      <td>HdBoard</td>\n",
       "      <td>BrkFace</td>\n",
       "      <td>500.0</td>\n",
       "      <td>Gd</td>\n",
       "      <td>TA</td>\n",
       "      <td>Slab</td>\n",
       "      <td>NaN</td>\n",
       "      <td>NaN</td>\n",
       "      <td>NaN</td>\n",
       "      <td>NaN</td>\n",
       "      <td>0.0</td>\n",
       "      <td>NaN</td>\n",
       "      <td>0.0</td>\n",
       "      <td>0.0</td>\n",
       "      <td>0.0</td>\n",
       "      <td>GasA</td>\n",
       "      <td>Ex</td>\n",
       "      <td>Y</td>\n",
       "      <td>SBrkr</td>\n",
       "      <td>495</td>\n",
       "      <td>1427</td>\n",
       "      <td>0</td>\n",
       "      <td>0.0</td>\n",
       "      <td>0.0</td>\n",
       "      <td>3</td>\n",
       "      <td>0</td>\n",
       "      <td>4</td>\n",
       "      <td>1</td>\n",
       "      <td>Gd</td>\n",
       "      <td>7</td>\n",
       "      <td>Typ</td>\n",
       "      <td>1</td>\n",
       "      <td>Ex</td>\n",
       "      <td>BuiltIn</td>\n",
       "      <td>2003.0</td>\n",
       "      <td>RFn</td>\n",
       "      <td>2.0</td>\n",
       "      <td>672.0</td>\n",
       "      <td>TA</td>\n",
       "      <td>TA</td>\n",
       "      <td>Y</td>\n",
       "      <td>0</td>\n",
       "      <td>0</td>\n",
       "      <td>177</td>\n",
       "      <td>0</td>\n",
       "      <td>0</td>\n",
       "      <td>0</td>\n",
       "      <td>NaN</td>\n",
       "      <td>NaN</td>\n",
       "      <td>NaN</td>\n",
       "      <td>0</td>\n",
       "      <td>7</td>\n",
       "      <td>2009</td>\n",
       "      <td>ConLD</td>\n",
       "      <td>Normal</td>\n",
       "      <td>908128060.0</td>\n",
       "      <td>4003 MARIGOLD DR</td>\n",
       "      <td>Edwards</td>\n",
       "      <td>RESIDENTIAL</td>\n",
       "      <td>1.0</td>\n",
       "      <td>1.0</td>\n",
       "      <td>(42.01900877172312, -93.67298690279817)</td>\n",
       "      <td>2.477665</td>\n",
       "      <td>1.298492</td>\n",
       "      <td>42.019009</td>\n",
       "      <td>-93.672987</td>\n",
       "    </tr>\n",
       "  </tbody>\n",
       "</table>\n",
       "</div>"
      ],
      "text/plain": [
       "         PID  GrLivArea  SalePrice  MSSubClass MSZoning  LotFrontage  LotArea  \\\n",
       "0  909176150        856     126000          30       RL          NaN     7890   \n",
       "1  905476230       1049     139500         120       RL         42.0     4235   \n",
       "4  535377150       1039     114000          70       RL         80.0     8146   \n",
       "5  534177230       1665     227000          60       RL         70.0     8400   \n",
       "6  908128060       1922     198500          85       RL         64.0     7301   \n",
       "\n",
       "  Street Alley LotShape LandContour Utilities LotConfig LandSlope  \\\n",
       "0   Pave   NaN      Reg         Lvl    AllPub    Corner       Gtl   \n",
       "1   Pave   NaN      Reg         Lvl    AllPub    Inside       Gtl   \n",
       "4   Pave   NaN      Reg         Lvl    AllPub    Corner       Gtl   \n",
       "5   Pave   NaN      Reg         Lvl    AllPub    Inside       Gtl   \n",
       "6   Pave   NaN      Reg         Lvl    AllPub    Corner       Gtl   \n",
       "\n",
       "  Neighborhood_x Condition1 Condition2 BldgType HouseStyle  OverallQual  \\\n",
       "0          SWISU       Norm       Norm     1Fam     1Story            6   \n",
       "1        Edwards       Norm       Norm   TwnhsE     1Story            5   \n",
       "4        OldTown       Norm       Norm     1Fam     2Story            4   \n",
       "5         NWAmes       Norm       Norm     1Fam     2Story            8   \n",
       "6        Edwards       Norm       Norm     1Fam     SFoyer            7   \n",
       "\n",
       "   OverallCond  YearBuilt  YearRemodAdd RoofStyle RoofMatl Exterior1st  \\\n",
       "0            6       1939          1950     Gable  CompShg     Wd Sdng   \n",
       "1            5       1984          1984     Gable  CompShg     HdBoard   \n",
       "4            8       1900          2003     Gable  CompShg     MetalSd   \n",
       "5            6       2001          2001     Gable  CompShg     VinylSd   \n",
       "6            5       2003          2003     Gable  CompShg     HdBoard   \n",
       "\n",
       "  Exterior2nd MasVnrType  MasVnrArea ExterQual ExterCond Foundation BsmtQual  \\\n",
       "0     Wd Sdng       None         0.0        TA        TA     CBlock       TA   \n",
       "1     HdBoard    BrkFace       149.0        Gd        TA     CBlock       Gd   \n",
       "4     MetalSd       None         0.0        Gd        Gd     BrkTil       Fa   \n",
       "5     VinylSd       None         0.0        Gd        TA      PConc       Gd   \n",
       "6     HdBoard    BrkFace       500.0        Gd        TA       Slab      NaN   \n",
       "\n",
       "  BsmtCond BsmtExposure BsmtFinType1  BsmtFinSF1 BsmtFinType2  BsmtFinSF2  \\\n",
       "0       TA           No          Rec       238.0          Unf         0.0   \n",
       "1       TA           Mn          GLQ       552.0          ALQ       393.0   \n",
       "4       TA           No          Unf         0.0          Unf         0.0   \n",
       "5       TA           No          GLQ       643.0          Unf         0.0   \n",
       "6      NaN          NaN          NaN         0.0          NaN         0.0   \n",
       "\n",
       "   BsmtUnfSF  TotalBsmtSF Heating HeatingQC CentralAir Electrical  1stFlrSF  \\\n",
       "0      618.0        856.0    GasA        TA          Y      SBrkr       856   \n",
       "1      104.0       1049.0    GasA        TA          Y      SBrkr      1049   \n",
       "4      405.0        405.0    GasA        Gd          Y      SBrkr       717   \n",
       "5      167.0        810.0    GasA        Ex          Y      SBrkr       810   \n",
       "6        0.0          0.0    GasA        Ex          Y      SBrkr       495   \n",
       "\n",
       "   2ndFlrSF  LowQualFinSF  BsmtFullBath  BsmtHalfBath  FullBath  HalfBath  \\\n",
       "0         0             0           1.0           0.0         1         0   \n",
       "1         0             0           1.0           0.0         2         0   \n",
       "4       322             0           0.0           0.0         1         0   \n",
       "5       855             0           1.0           0.0         2         1   \n",
       "6      1427             0           0.0           0.0         3         0   \n",
       "\n",
       "   BedroomAbvGr  KitchenAbvGr KitchenQual  TotRmsAbvGrd Functional  \\\n",
       "0             2             1          TA             4        Typ   \n",
       "1             2             1          Gd             5        Typ   \n",
       "4             2             1          TA             6        Typ   \n",
       "5             3             1          Gd             6        Typ   \n",
       "6             4             1          Gd             7        Typ   \n",
       "\n",
       "   Fireplaces FireplaceQu GarageType  GarageYrBlt GarageFinish  GarageCars  \\\n",
       "0           1          Gd     Detchd       1939.0          Unf         2.0   \n",
       "1           0         NaN     Attchd       1984.0          Fin         1.0   \n",
       "4           0         NaN     Detchd       1940.0          Unf         1.0   \n",
       "5           0         NaN     Attchd       2001.0          Fin         2.0   \n",
       "6           1          Ex    BuiltIn       2003.0          RFn         2.0   \n",
       "\n",
       "   GarageArea GarageQual GarageCond PavedDrive  WoodDeckSF  OpenPorchSF  \\\n",
       "0       399.0         TA         TA          Y           0            0   \n",
       "1       266.0         TA         TA          Y           0          105   \n",
       "4       281.0         TA         TA          N           0            0   \n",
       "5       528.0         TA         TA          Y           0           45   \n",
       "6       672.0         TA         TA          Y           0            0   \n",
       "\n",
       "   EnclosedPorch  3SsnPorch  ScreenPorch  PoolArea PoolQC Fence MiscFeature  \\\n",
       "0              0          0          166         0    NaN   NaN         NaN   \n",
       "1              0          0            0         0    NaN   NaN         NaN   \n",
       "4            168          0          111         0    NaN   NaN         NaN   \n",
       "5              0          0            0         0    NaN   NaN         NaN   \n",
       "6            177          0            0         0    NaN   NaN         NaN   \n",
       "\n",
       "   MiscVal  MoSold  YrSold SaleType SaleCondition     GeoRefNo  \\\n",
       "0        0       3    2010      WD         Normal  909176150.0   \n",
       "1        0       2    2009      WD         Normal  905476230.0   \n",
       "4        0       5    2009      WD         Normal  535377150.0   \n",
       "5        0      11    2009      WD         Normal  534177230.0   \n",
       "6        0       7    2009    ConLD        Normal  908128060.0   \n",
       "\n",
       "           Prop_Addr Neighborhood_y    ClassPr_S  SchD_S  TxD_S  \\\n",
       "0    436 HAYWARD AVE        S&W ISU  RESIDENTIAL     1.0    1.0   \n",
       "1       3416 WEST ST        Edwards  RESIDENTIAL     1.0    1.0   \n",
       "4   1524 DOUGLAS AVE        OldTown  RESIDENTIAL     1.0    1.0   \n",
       "5  2304 FILLMORE AVE        NW Ames  RESIDENTIAL     1.0    1.0   \n",
       "6   4003 MARIGOLD DR        Edwards  RESIDENTIAL     1.0    1.0   \n",
       "\n",
       "                            address_lat_log  highschool_dist  college_dist  \\\n",
       "0   (42.01856448979592, -93.65161918367347)         1.748507      0.467930   \n",
       "1  (42.024855315930424, -93.66367099341755)         1.852690      0.749722   \n",
       "4   (42.03739146938776, -93.61220695918368)         1.152991      2.080107   \n",
       "5   (42.04455376067282, -93.63181831620726)         0.316567      1.611707   \n",
       "6   (42.01900877172312, -93.67298690279817)         2.477665      1.298492   \n",
       "\n",
       "    latitude  longitude  \n",
       "0  42.018564 -93.651619  \n",
       "1  42.024855 -93.663671  \n",
       "4  42.037391 -93.612207  \n",
       "5  42.044554 -93.631818  \n",
       "6  42.019009 -93.672987  "
      ]
     },
     "execution_count": 206,
     "metadata": {},
     "output_type": "execute_result"
    }
   ],
   "source": [
    "# Getting dataframe with Lat and Long columns added using Geopy\n",
    "lat_long_df = pd.read_pickle('clean_Res_latlog.pkl')\n",
    "lat_long_df.head()"
   ]
  },
  {
   "cell_type": "markdown",
   "metadata": {},
   "source": [
    "### Sale Price based on Neighborhood"
   ]
  },
  {
   "cell_type": "code",
   "execution_count": 207,
   "metadata": {},
   "outputs": [
    {
     "data": {
      "image/png": "[encoded data removed]",
      "text/plain": [
       "<Figure size 432x288 with 1 Axes>"
      ]
     },
     "metadata": {
      "needs_background": "light"
     },
     "output_type": "display_data"
    }
   ],
   "source": [
    "x2 = lat_long_df.groupby('Neighborhood_y')['SalePrice'].mean().sort_values(ascending=True)\n",
    "x2.plot(kind ='bar')\n",
    "plt.title('SalePrice by Neighborhoods in Ames Iowa')\n",
    "plt.xlabel('Neighborhood')\n",
    "plt.ylabel('SalePrice')\n",
    "plt.show()"
   ]
  },
  {
   "cell_type": "markdown",
   "metadata": {},
   "source": [
    "## Popularity of Type of house Based on Neighborhood "
   ]
  },
  {
   "cell_type": "code",
   "execution_count": 208,
   "metadata": {},
   "outputs": [],
   "source": [
    "# HouseStyle - CHANGE to binary 0 =ranch, 1 = colonial \n",
    "lat_long_df.HouseStyle = lat_long_df.HouseStyle.replace({'1.5Unf':0,'1.5Fin':0, 'SFoyer':1, 'SLvl':1, '1Story':0, '2.5Unf':1, '2Story':1, '2.5Fin':1})\n"
   ]
  },
  {
   "cell_type": "code",
   "execution_count": 209,
   "metadata": {},
   "outputs": [
    {
     "data": {
      "text/plain": [
       "0.3841344275107464"
      ]
     },
     "execution_count": 209,
     "metadata": {},
     "output_type": "execute_result"
    }
   ],
   "source": [
    "lat_long_df.HouseStyle.sum()/2559"
   ]
  },
  {
   "cell_type": "code",
   "execution_count": 210,
   "metadata": {},
   "outputs": [
    {
     "data": {
      "text/plain": [
       "0.3841344275107464"
      ]
     },
     "execution_count": 210,
     "metadata": {},
     "output_type": "execute_result"
    }
   ],
   "source": [
    "lat_long_df.HouseStyle.mean()"
   ]
  },
  {
   "cell_type": "code",
   "execution_count": 211,
   "metadata": {},
   "outputs": [
    {
     "data": {
      "image/png": "[encoded data removed]",
      "text/plain": [
       "<Figure size 432x288 with 1 Axes>"
      ]
     },
     "metadata": {
      "needs_background": "light"
     },
     "output_type": "display_data"
    }
   ],
   "source": [
    "x1 = lat_long_df.groupby('Neighborhood_y')['HouseStyle'].mean().sort_values(ascending=True)\n",
    "x1.plot(kind ='bar')\n",
    "plt.title('Percentage Colonial Style by Neighborhoods in Ames Iowa')\n",
    "plt.xlabel('Neighborhood')\n",
    "plt.ylabel('Percentage Colonial Style')\n",
    "plt.show()"
   ]
  },
  {
   "cell_type": "markdown",
   "metadata": {},
   "source": [
    "## Sale Price based on Distance to College"
   ]
  },
  {
   "cell_type": "code",
   "execution_count": 212,
   "metadata": {},
   "outputs": [],
   "source": [
    "df_d = lat_long_df.loc[(lat_long_df['college_dist']<6000)]"
   ]
  },
  {
   "cell_type": "code",
   "execution_count": 213,
   "metadata": {},
   "outputs": [
    {
     "data": {
      "image/png": "[encoded data removed]",
      "text/plain": [
       "<Figure size 432x288 with 1 Axes>"
      ]
     },
     "metadata": {
      "needs_background": "light"
     },
     "output_type": "display_data"
    }
   ],
   "source": [
    "x3 = df_d.groupby('Neighborhood_y')['college_dist'].mean().sort_values(ascending=True)\n",
    "x3.plot(kind ='bar')\n",
    "plt.title('SalePrice by Neighborhoods in Ames Iowa')\n",
    "plt.xlabel('Neighborhood')\n",
    "plt.ylabel('SalePrice')\n",
    "plt.show()"
   ]
  },
  {
   "cell_type": "markdown",
   "metadata": {},
   "source": [
    "## Sale Price based on Overall Quality and Affluent vs Poor Neighborhoods"
   ]
  },
  {
   "cell_type": "code",
   "execution_count": 214,
   "metadata": {},
   "outputs": [
    {
     "data": {
      "text/plain": [
       "160000.0"
      ]
     },
     "execution_count": 214,
     "metadata": {},
     "output_type": "execute_result"
    }
   ],
   "source": [
    "lat_long_df['SalePrice'].median()"
   ]
  },
  {
   "cell_type": "code",
   "execution_count": 215,
   "metadata": {},
   "outputs": [],
   "source": [
    "lat_long_df['Neighborhood Rank'] = lat_long_df.SalePrice.apply(lambda x: 1 if x >= 160000 else(0))\n"
   ]
  },
  {
   "cell_type": "code",
   "execution_count": 216,
   "metadata": {},
   "outputs": [
    {
     "data": {
      "text/plain": [
       "1    1286\n",
       "0    1273\n",
       "Name: Neighborhood Rank, dtype: int64"
      ]
     },
     "execution_count": 216,
     "metadata": {},
     "output_type": "execute_result"
    }
   ],
   "source": [
    "lat_long_df['Neighborhood Rank'].value_counts()"
   ]
  },
  {
   "cell_type": "code",
   "execution_count": 217,
   "metadata": {},
   "outputs": [
    {
     "data": {
      "text/html": [
       "<div>\n",
       "<style scoped>\n",
       "    .dataframe tbody tr th:only-of-type {\n",
       "        vertical-align: middle;\n",
       "    }\n",
       "\n",
       "    .dataframe tbody tr th {\n",
       "        vertical-align: top;\n",
       "    }\n",
       "\n",
       "    .dataframe thead th {\n",
       "        text-align: right;\n",
       "    }\n",
       "</style>\n",
       "<table border=\"1\" class=\"dataframe\">\n",
       "  <thead>\n",
       "    <tr style=\"text-align: right;\">\n",
       "      <th></th>\n",
       "      <th>SalePrice</th>\n",
       "      <th>OverallQual</th>\n",
       "      <th>Neighborhood Rank</th>\n",
       "    </tr>\n",
       "    <tr>\n",
       "      <th>Neighborhood_y</th>\n",
       "      <th></th>\n",
       "      <th></th>\n",
       "      <th></th>\n",
       "    </tr>\n",
       "  </thead>\n",
       "  <tbody>\n",
       "    <tr>\n",
       "      <th>HaydnLk</th>\n",
       "      <td>396717.050000</td>\n",
       "      <td>8.650000</td>\n",
       "      <td>1.000000</td>\n",
       "    </tr>\n",
       "    <tr>\n",
       "      <th>NoRidge</th>\n",
       "      <td>326114.298507</td>\n",
       "      <td>7.910448</td>\n",
       "      <td>1.000000</td>\n",
       "    </tr>\n",
       "    <tr>\n",
       "      <th>NRidgHt</th>\n",
       "      <td>313662.495868</td>\n",
       "      <td>8.214876</td>\n",
       "      <td>0.983471</td>\n",
       "    </tr>\n",
       "    <tr>\n",
       "      <th>Veenker</th>\n",
       "      <td>251263.043478</td>\n",
       "      <td>7.173913</td>\n",
       "      <td>0.956522</td>\n",
       "    </tr>\n",
       "    <tr>\n",
       "      <th>Timber</th>\n",
       "      <td>243523.346154</td>\n",
       "      <td>7.038462</td>\n",
       "      <td>0.980769</td>\n",
       "    </tr>\n",
       "    <tr>\n",
       "      <th>Somerst</th>\n",
       "      <td>228761.853147</td>\n",
       "      <td>7.384615</td>\n",
       "      <td>0.916084</td>\n",
       "    </tr>\n",
       "    <tr>\n",
       "      <th>Stonebr</th>\n",
       "      <td>225821.739130</td>\n",
       "      <td>7.913043</td>\n",
       "      <td>0.956522</td>\n",
       "    </tr>\n",
       "    <tr>\n",
       "      <th>ClearCr</th>\n",
       "      <td>216020.512821</td>\n",
       "      <td>6.051282</td>\n",
       "      <td>0.897436</td>\n",
       "    </tr>\n",
       "    <tr>\n",
       "      <th>Crawfor</th>\n",
       "      <td>202075.782609</td>\n",
       "      <td>6.152174</td>\n",
       "      <td>0.695652</td>\n",
       "    </tr>\n",
       "    <tr>\n",
       "      <th>CollgCr</th>\n",
       "      <td>198133.169492</td>\n",
       "      <td>6.627119</td>\n",
       "      <td>0.733051</td>\n",
       "    </tr>\n",
       "    <tr>\n",
       "      <th>Blmngtn</th>\n",
       "      <td>196237.173913</td>\n",
       "      <td>7.130435</td>\n",
       "      <td>0.956522</td>\n",
       "    </tr>\n",
       "    <tr>\n",
       "      <th>Greens</th>\n",
       "      <td>193531.250000</td>\n",
       "      <td>8.000000</td>\n",
       "      <td>0.875000</td>\n",
       "    </tr>\n",
       "    <tr>\n",
       "      <th>NW Ames</th>\n",
       "      <td>190372.398374</td>\n",
       "      <td>6.341463</td>\n",
       "      <td>0.813008</td>\n",
       "    </tr>\n",
       "    <tr>\n",
       "      <th>Gilbert</th>\n",
       "      <td>189439.867133</td>\n",
       "      <td>6.503497</td>\n",
       "      <td>0.944056</td>\n",
       "    </tr>\n",
       "    <tr>\n",
       "      <th>SawyerW</th>\n",
       "      <td>189178.803571</td>\n",
       "      <td>6.446429</td>\n",
       "      <td>0.687500</td>\n",
       "    </tr>\n",
       "    <tr>\n",
       "      <th>Mitchel</th>\n",
       "      <td>163443.203883</td>\n",
       "      <td>5.572816</td>\n",
       "      <td>0.446602</td>\n",
       "    </tr>\n",
       "    <tr>\n",
       "      <th>N Ames</th>\n",
       "      <td>145088.911765</td>\n",
       "      <td>5.328431</td>\n",
       "      <td>0.220588</td>\n",
       "    </tr>\n",
       "    <tr>\n",
       "      <th>Bluestm</th>\n",
       "      <td>143590.000000</td>\n",
       "      <td>6.600000</td>\n",
       "      <td>0.300000</td>\n",
       "    </tr>\n",
       "    <tr>\n",
       "      <th>NoPkVil</th>\n",
       "      <td>140743.181818</td>\n",
       "      <td>6.272727</td>\n",
       "      <td>0.000000</td>\n",
       "    </tr>\n",
       "    <tr>\n",
       "      <th>Sawyer</th>\n",
       "      <td>137492.863309</td>\n",
       "      <td>5.064748</td>\n",
       "      <td>0.136691</td>\n",
       "    </tr>\n",
       "    <tr>\n",
       "      <th>S&amp;W ISU</th>\n",
       "      <td>132945.121951</td>\n",
       "      <td>5.463415</td>\n",
       "      <td>0.219512</td>\n",
       "    </tr>\n",
       "    <tr>\n",
       "      <th>Edwards</th>\n",
       "      <td>132040.619632</td>\n",
       "      <td>5.000000</td>\n",
       "      <td>0.147239</td>\n",
       "    </tr>\n",
       "    <tr>\n",
       "      <th>OldTown</th>\n",
       "      <td>126820.441748</td>\n",
       "      <td>5.242718</td>\n",
       "      <td>0.116505</td>\n",
       "    </tr>\n",
       "    <tr>\n",
       "      <th>BrkSide</th>\n",
       "      <td>126029.854369</td>\n",
       "      <td>5.145631</td>\n",
       "      <td>0.135922</td>\n",
       "    </tr>\n",
       "    <tr>\n",
       "      <th>IDOT&amp;RR</th>\n",
       "      <td>117372.137931</td>\n",
       "      <td>5.189655</td>\n",
       "      <td>0.086207</td>\n",
       "    </tr>\n",
       "    <tr>\n",
       "      <th>Br'Dale</th>\n",
       "      <td>106094.827586</td>\n",
       "      <td>5.724138</td>\n",
       "      <td>0.000000</td>\n",
       "    </tr>\n",
       "    <tr>\n",
       "      <th>MeadowV</th>\n",
       "      <td>96836.470588</td>\n",
       "      <td>4.382353</td>\n",
       "      <td>0.000000</td>\n",
       "    </tr>\n",
       "  </tbody>\n",
       "</table>\n",
       "</div>"
      ],
      "text/plain": [
       "                    SalePrice  OverallQual  Neighborhood Rank\n",
       "Neighborhood_y                                               \n",
       "HaydnLk         396717.050000     8.650000           1.000000\n",
       "NoRidge         326114.298507     7.910448           1.000000\n",
       "NRidgHt         313662.495868     8.214876           0.983471\n",
       "Veenker         251263.043478     7.173913           0.956522\n",
       "Timber          243523.346154     7.038462           0.980769\n",
       "Somerst         228761.853147     7.384615           0.916084\n",
       "Stonebr         225821.739130     7.913043           0.956522\n",
       "ClearCr         216020.512821     6.051282           0.897436\n",
       "Crawfor         202075.782609     6.152174           0.695652\n",
       "CollgCr         198133.169492     6.627119           0.733051\n",
       "Blmngtn         196237.173913     7.130435           0.956522\n",
       "Greens          193531.250000     8.000000           0.875000\n",
       "NW Ames         190372.398374     6.341463           0.813008\n",
       "Gilbert         189439.867133     6.503497           0.944056\n",
       "SawyerW         189178.803571     6.446429           0.687500\n",
       "Mitchel         163443.203883     5.572816           0.446602\n",
       "N Ames          145088.911765     5.328431           0.220588\n",
       "Bluestm         143590.000000     6.600000           0.300000\n",
       "NoPkVil         140743.181818     6.272727           0.000000\n",
       "Sawyer          137492.863309     5.064748           0.136691\n",
       "S&W ISU         132945.121951     5.463415           0.219512\n",
       "Edwards         132040.619632     5.000000           0.147239\n",
       "OldTown         126820.441748     5.242718           0.116505\n",
       "BrkSide         126029.854369     5.145631           0.135922\n",
       "IDOT&RR         117372.137931     5.189655           0.086207\n",
       "Br'Dale         106094.827586     5.724138           0.000000\n",
       "MeadowV          96836.470588     4.382353           0.000000"
      ]
     },
     "execution_count": 217,
     "metadata": {},
     "output_type": "execute_result"
    }
   ],
   "source": [
    "qual_neigh = lat_long_df.groupby('Neighborhood_y').agg({\"SalePrice\":\"mean\", \"OverallQual\": \"mean\", \"Neighborhood Rank\": \"mean\"})\\\n",
    "      .sort_values(by = 'SalePrice', ascending=False)\n",
    "qual_neigh"
   ]
  },
  {
   "cell_type": "code",
   "execution_count": 218,
   "metadata": {},
   "outputs": [],
   "source": [
    "qual_neigh['Neighborhood Rank'] = qual_neigh.SalePrice.apply(lambda x: 1 if x >= 160000 else(0))\n"
   ]
  },
  {
   "cell_type": "code",
   "execution_count": 219,
   "metadata": {},
   "outputs": [
    {
     "data": {
      "text/plain": [
       "Text(0.5, 0, 'OverallQual')"
      ]
     },
     "execution_count": 219,
     "metadata": {},
     "output_type": "execute_result"
    },
    {
     "data": {
      "image/png": "[encoded data removed]",
      "text/plain": [
       "<Figure size 432x432 with 1 Axes>"
      ]
     },
     "metadata": {
      "needs_background": "light"
     },
     "output_type": "display_data"
    }
   ],
   "source": [
    "fig, ax = plt.subplots(figsize=(6,6))\n",
    "scatter = ax.scatter(qual_neigh['OverallQual'], qual_neigh['SalePrice'], c=qual_neigh['Neighborhood Rank'])\n",
    "legend1 = ax.legend(*scatter.legend_elements(),\n",
    "                    loc=\"upper left\", title=\"Neighborhood Rank\")\n",
    "ax.add_artist(legend1)\n",
    "plt.title('Overall Quality based on Price')\n",
    "plt.xlabel('OverallQual')\n"
   ]
  },
  {
   "cell_type": "markdown",
   "metadata": {},
   "source": [
    "# KNN"
   ]
  },
  {
   "cell_type": "code",
   "execution_count": 220,
   "metadata": {},
   "outputs": [],
   "source": [
    "#importing libraries\n",
    "import numpy as np\n",
    "import matplotlib.pyplot as plt\n",
    "import pandas as pd"
   ]
  },
  {
   "cell_type": "code",
   "execution_count": 221,
   "metadata": {},
   "outputs": [],
   "source": [
    "clean_df = pd.read_pickle('clean_df.pkl')"
   ]
  },
  {
   "cell_type": "code",
   "execution_count": 222,
   "metadata": {},
   "outputs": [
    {
     "data": {
      "text/plain": [
       "(2549, 47)"
      ]
     },
     "execution_count": 222,
     "metadata": {},
     "output_type": "execute_result"
    }
   ],
   "source": [
    "clean_df = clean_df.dropna(subset=['latitude', 'longitude'])\n",
    "clean_df.shape"
   ]
  },
  {
   "cell_type": "code",
   "execution_count": 223,
   "metadata": {},
   "outputs": [],
   "source": [
    "#removing outliers from GrLivArea & LotArea & TotalBsmtSF\n",
    "clean_df = clean_df.loc[(clean_df['GrLivArea']<4000) & (clean_df['LotArea']<100000)\\\n",
    "                        & (clean_df['TotalBsmtSF']<3000) & (clean_df['SalePrice'] < 500000)]"
   ]
  },
  {
   "cell_type": "code",
   "execution_count": 224,
   "metadata": {},
   "outputs": [],
   "source": [
    "clean_df['SalePriceLog'] = np.log10(clean_df['SalePrice'])\n",
    "clean_df['SalePriceLog'] = clean_df['SalePriceLog'].astype(np.int64)"
   ]
  },
  {
   "cell_type": "code",
   "execution_count": 225,
   "metadata": {},
   "outputs": [
    {
     "data": {
      "text/plain": [
       "(array([ 233., 1587.,  543.,  136.,   40.]),\n",
       " array([ 12789., 106045., 199301., 292557., 385813., 479069.]),\n",
       " <a list of 5 Patch objects>)"
      ]
     },
     "execution_count": 225,
     "metadata": {},
     "output_type": "execute_result"
    },
    {
     "data": {
      "image/png": "[encoded data removed]",
      "text/plain": [
       "<Figure size 432x288 with 1 Axes>"
      ]
     },
     "metadata": {
      "needs_background": "light"
     },
     "output_type": "display_data"
    }
   ],
   "source": [
    "plt.hist(clean_df['SalePrice'], bins= 5)"
   ]
  },
  {
   "cell_type": "code",
   "execution_count": 231,
   "metadata": {},
   "outputs": [
    {
     "data": {
      "text/plain": [
       "159900.0"
      ]
     },
     "execution_count": 231,
     "metadata": {},
     "output_type": "execute_result"
    }
   ],
   "source": [
    "clean_df['SalePrice'].median()"
   ]
  },
  {
   "cell_type": "code",
   "execution_count": 227,
   "metadata": {},
   "outputs": [],
   "source": [
    "clean_df['SalePrice2'] = clean_df.SalePrice.apply(lambda x: \"Affluent\" if x >= 160000 else(\"Poor\"))\n",
    "    \n",
    "    "
   ]
  },
  {
   "cell_type": "code",
   "execution_count": 228,
   "metadata": {},
   "outputs": [
    {
     "data": {
      "text/plain": [
       "Poor        1272\n",
       "Affluent    1267\n",
       "Name: SalePrice2, dtype: int64"
      ]
     },
     "execution_count": 228,
     "metadata": {},
     "output_type": "execute_result"
    }
   ],
   "source": [
    "clean_df['SalePrice2'].value_counts()"
   ]
  },
  {
   "cell_type": "code",
   "execution_count": 232,
   "metadata": {},
   "outputs": [],
   "source": [
    "#preprocessing\n",
    "X = np.array([clean_df[\"latitude\"], clean_df['longitude']])\n",
    "             \n",
    "y = clean_df[\"SalePrice2\"]"
   ]
  },
  {
   "cell_type": "code",
   "execution_count": 233,
   "metadata": {},
   "outputs": [
    {
     "data": {
      "text/plain": [
       "(2, 2539)"
      ]
     },
     "execution_count": 233,
     "metadata": {},
     "output_type": "execute_result"
    }
   ],
   "source": [
    "X.shape"
   ]
  },
  {
   "cell_type": "code",
   "execution_count": 234,
   "metadata": {},
   "outputs": [
    {
     "data": {
      "text/plain": [
       "(2539,)"
      ]
     },
     "execution_count": 234,
     "metadata": {},
     "output_type": "execute_result"
    }
   ],
   "source": [
    "y.shape"
   ]
  },
  {
   "cell_type": "code",
   "execution_count": 235,
   "metadata": {},
   "outputs": [],
   "source": [
    "X = X.transpose()"
   ]
  },
  {
   "cell_type": "code",
   "execution_count": 236,
   "metadata": {},
   "outputs": [
    {
     "data": {
      "text/plain": [
       "(2539, 2)"
      ]
     },
     "execution_count": 236,
     "metadata": {},
     "output_type": "execute_result"
    }
   ],
   "source": [
    "X.shape"
   ]
  },
  {
   "cell_type": "code",
   "execution_count": 237,
   "metadata": {},
   "outputs": [],
   "source": [
    "#train test split\n",
    "\n",
    "from sklearn.model_selection import train_test_split\n",
    "X_train, X_test, y_train, y_test = train_test_split(X, y, test_size=0.20)\n",
    "# X_train, X_test, y_train, y_test,  = train_test_split(X,y,test_size=1/3, random_state=0) \n"
   ]
  },
  {
   "cell_type": "code",
   "execution_count": 238,
   "metadata": {},
   "outputs": [],
   "source": [
    "#Feature Scaling\n",
    "from sklearn.preprocessing import StandardScaler\n",
    "scaler = StandardScaler()\n",
    "scaler.fit(X_train)\n",
    "\n",
    "X_train = scaler.transform(X_train)\n",
    "X_test = scaler.transform(X_test)"
   ]
  },
  {
   "cell_type": "code",
   "execution_count": 239,
   "metadata": {
    "scrolled": true
   },
   "outputs": [
    {
     "data": {
      "text/plain": [
       "KNeighborsClassifier(algorithm='auto', leaf_size=30, metric='minkowski',\n",
       "                     metric_params=None, n_jobs=None, n_neighbors=4, p=2,\n",
       "                     weights='uniform')"
      ]
     },
     "execution_count": 239,
     "metadata": {},
     "output_type": "execute_result"
    }
   ],
   "source": [
    "#training\n",
    "from sklearn.neighbors import KNeighborsClassifier\n",
    "\n",
    "classifier = KNeighborsClassifier(n_neighbors=4)\n",
    "\n",
    "classifier.fit(X_train, y_train)"
   ]
  },
  {
   "cell_type": "code",
   "execution_count": 240,
   "metadata": {},
   "outputs": [],
   "source": [
    "#predict\n",
    "y_pred = classifier.predict(X_test)"
   ]
  },
  {
   "cell_type": "code",
   "execution_count": 241,
   "metadata": {},
   "outputs": [
    {
     "name": "stdout",
     "output_type": "stream",
     "text": [
      "[[231  32]\n",
      " [ 51 194]]\n",
      "              precision    recall  f1-score   support\n",
      "\n",
      "    Affluent       0.82      0.88      0.85       263\n",
      "        Poor       0.86      0.79      0.82       245\n",
      "\n",
      "    accuracy                           0.84       508\n",
      "   macro avg       0.84      0.84      0.84       508\n",
      "weighted avg       0.84      0.84      0.84       508\n",
      "\n"
     ]
    }
   ],
   "source": [
    "#Evaluating the Algorithm\n",
    "from sklearn.metrics import classification_report, confusion_matrix\n",
    "\n",
    "print(confusion_matrix(y_test, y_pred))\n",
    "print(classification_report(y_test, y_pred))"
   ]
  },
  {
   "cell_type": "code",
   "execution_count": 117,
   "metadata": {},
   "outputs": [],
   "source": [
    "#Comparing Error Rate with the K Value\n",
    "error = []\n",
    "\n",
    "# Calculating error for K values between 1 and 40\n",
    "for i in range(1, 40):\n",
    "    knn = KNeighborsClassifier(n_neighbors=i)\n",
    "    knn.fit(X_train, y_train)\n",
    "    pred_i = knn.predict(X_test)\n",
    "    error.append(np.mean(pred_i != y_test))"
   ]
  },
  {
   "cell_type": "code",
   "execution_count": 118,
   "metadata": {},
   "outputs": [
    {
     "data": {
      "text/plain": [
       "Text(0, 0.5, 'Mean Error')"
      ]
     },
     "execution_count": 118,
     "metadata": {},
     "output_type": "execute_result"
    },
    {
     "data": {
      "image/png": "[encoded data removed]",
      "text/plain": [
       "<Figure size 864x432 with 1 Axes>"
      ]
     },
     "metadata": {
      "needs_background": "light"
     },
     "output_type": "display_data"
    }
   ],
   "source": [
    "#plot error\n",
    "plt.figure(figsize=(12, 6))\n",
    "plt.plot(range(1, 40), error, color='red', linestyle='dashed', marker='o',\n",
    "         markerfacecolor='blue', markersize=10)\n",
    "plt.title('Error Rate K Value')\n",
    "plt.xlabel('K Value')\n",
    "plt.ylabel('Mean Error')"
   ]
  },
  {
   "cell_type": "code",
   "execution_count": null,
   "metadata": {},
   "outputs": [],
   "source": []
  }
 ],
 "metadata": {
  "kernelspec": {
   "display_name": "Python 3",
   "language": "python",
   "name": "python3"
  },
  "language_info": {
   "codemirror_mode": {
    "name": "ipython",
    "version": 3
   },
   "file_extension": ".py",
   "mimetype": "text/x-python",
   "name": "python",
   "nbconvert_exporter": "python",
   "pygments_lexer": "ipython3",
   "version": "3.7.6"
  }
 },
 "nbformat": 4,
 "nbformat_minor": 4
}

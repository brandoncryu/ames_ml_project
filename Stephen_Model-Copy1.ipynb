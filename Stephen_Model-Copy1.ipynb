{
 "cells": [
  {
   "cell_type": "markdown",
   "metadata": {},
   "source": [
    "# House Hunters Linear Model"
   ]
  },
  {
   "cell_type": "markdown",
   "metadata": {},
   "source": [
    "Linear regression model of human-interpretable features that will make recommendations for people looking to buy or sell a house."
   ]
  },
  {
   "cell_type": "markdown",
   "metadata": {},
   "source": [
    "## Pre-Processing"
   ]
  },
  {
   "cell_type": "code",
   "execution_count": 138,
   "metadata": {},
   "outputs": [],
   "source": [
    "# import necessary packages\n",
    "import numpy as np\n",
    "import pandas as pd\n",
    "import matplotlib.pyplot as plt\n",
    "\n",
    "# set display options\n",
    "pd.set_option('display.max_columns', None)"
   ]
  },
  {
   "cell_type": "code",
   "execution_count": 139,
   "metadata": {},
   "outputs": [],
   "source": [
    "# import dataset\n",
    "housing = pd.read_csv('Ames_HousePrice.csv', index_col=0)\n",
    "# real_estate = pd.read_csv('./data/Ames_Real_Estate_Data.csv')"
   ]
  },
  {
   "cell_type": "markdown",
   "metadata": {},
   "source": [
    "#### Feature Cleaning"
   ]
  },
  {
   "cell_type": "code",
   "execution_count": 140,
   "metadata": {},
   "outputs": [],
   "source": [
    "#Remove Outliers\n",
    "housing = housing[np.logical_and(housing.SalePrice >= 40000, housing.SalePrice <= 750000)]\n",
    "\n",
    "# #Remove Bad Classes\n",
    "housing = housing[housing.Neighborhood != 'Landmrk']\n",
    "housing.SaleType = housing.SaleType.astype('string')\n",
    "housing. SaleType = housing.SaleType.str.strip()\n",
    "housing = housing[housing.SaleType == 'WD']\n",
    "housing = housing[housing.SaleCondition == 'Normal']\n",
    "\n",
    "\n",
    "#Replace NAs\n",
    "housing = housing.fillna(0)"
   ]
  },
  {
   "cell_type": "markdown",
   "metadata": {},
   "source": [
    "#### Feature Engineering"
   ]
  },
  {
   "cell_type": "code",
   "execution_count": 141,
   "metadata": {},
   "outputs": [],
   "source": [
    "#Log Transforms\n",
    "housing['LogSalePrice'] = np.log(housing.SalePrice)\n",
    "# housing['LogGrLivArea'] = np.log(housing.GrLivArea)\n",
    "\n",
    "#Area Calculations\n",
    "housing['PorchTotSF'] = housing.OpenPorchSF + housing.EnclosedPorch + housing['3SsnPorch'] + housing.ScreenPorch\n",
    "\n",
    "#Binary HasBLANK Categories\n",
    "housing['HasGarage'] = np.where(housing.GarageCars > 0, 1, 0)\n",
    "housing['HasPool'] = np.where(housing.PoolArea > 0, 1, 0)\n",
    "housing['HasPorch'] = np.where(housing.PorchTotSF > 0, 1, 0)\n",
    "housing['HasDeck'] = np.where(housing.WoodDeckSF > 0, 1, 0)\n",
    "housing['HasFinBsmt'] = np.where(housing.BsmtFinSF1 > 0, 1, 0)\n",
    "housing['HasFireplace'] = np.where(housing.Fireplaces > 0, 1, 0)\n",
    "housing['HasFence'] = np.where(housing.Fence.notna(), 1, 0)\n",
    "housing.Neighborhood = housing.Neighborhood.replace({'MeadowV':1,'BrDale':2, 'IDOTRR':3, 'BrkSide':4, 'OldTown':5, 'Edwards':6, 'SWISU':7, 'Landmrk':8, 'Sawyer':9,\\\n",
    "                           'NPkVill':10, 'Blueste':11, 'NAmes':12, 'Mitchel':13, 'SawyerW':14, 'Gilbert':15, 'NWAmes':16, 'Greens':17, 'Blmngtn':18,\\\n",
    "                           'CollgCr':19, 'Crawfor':20, 'ClearCr':21, 'Somerst':22, 'Timber':23, 'Veenker':24, 'GrnHill':25, 'StoneBr':26,'NridgHt':27, 'NoRidge':28})\n",
    "\n",
    "#Binary Quality/Cond Categories\n",
    "housing['GarageFinish_Fin']= np.where(housing.GarageFinish == 'Unf', 0, 1)"
   ]
  },
  {
   "cell_type": "markdown",
   "metadata": {},
   "source": [
    "#### Feature Selection"
   ]
  },
  {
   "cell_type": "code",
   "execution_count": 142,
   "metadata": {},
   "outputs": [],
   "source": [
    "keep = ['LogSalePrice', 'GrLivArea', 'HasGarage', 'HasPool','HasFireplace','OverallQual','OverallCond','Neighborhood','GarageCars']\n",
    "housing = housing[keep]\n",
    "\n",
    "\n",
    "# , 'HasPorch','HasFence'"
   ]
  },
  {
   "cell_type": "code",
   "execution_count": 143,
   "metadata": {},
   "outputs": [
    {
     "data": {
      "text/html": [
       "<div>\n",
       "<style scoped>\n",
       "    .dataframe tbody tr th:only-of-type {\n",
       "        vertical-align: middle;\n",
       "    }\n",
       "\n",
       "    .dataframe tbody tr th {\n",
       "        vertical-align: top;\n",
       "    }\n",
       "\n",
       "    .dataframe thead th {\n",
       "        text-align: right;\n",
       "    }\n",
       "</style>\n",
       "<table border=\"1\" class=\"dataframe\">\n",
       "  <thead>\n",
       "    <tr style=\"text-align: right;\">\n",
       "      <th></th>\n",
       "      <th>LogSalePrice</th>\n",
       "      <th>GrLivArea</th>\n",
       "      <th>HasGarage</th>\n",
       "      <th>HasPool</th>\n",
       "      <th>HasFireplace</th>\n",
       "      <th>OverallQual</th>\n",
       "      <th>OverallCond</th>\n",
       "      <th>Neighborhood</th>\n",
       "      <th>GarageCars</th>\n",
       "    </tr>\n",
       "  </thead>\n",
       "  <tbody>\n",
       "    <tr>\n",
       "      <th>1</th>\n",
       "      <td>11.744037</td>\n",
       "      <td>856</td>\n",
       "      <td>1</td>\n",
       "      <td>0</td>\n",
       "      <td>1</td>\n",
       "      <td>6</td>\n",
       "      <td>6</td>\n",
       "      <td>7</td>\n",
       "      <td>2.0</td>\n",
       "    </tr>\n",
       "    <tr>\n",
       "      <th>2</th>\n",
       "      <td>11.845820</td>\n",
       "      <td>1049</td>\n",
       "      <td>1</td>\n",
       "      <td>0</td>\n",
       "      <td>0</td>\n",
       "      <td>5</td>\n",
       "      <td>5</td>\n",
       "      <td>6</td>\n",
       "      <td>1.0</td>\n",
       "    </tr>\n",
       "    <tr>\n",
       "      <th>3</th>\n",
       "      <td>11.735269</td>\n",
       "      <td>1001</td>\n",
       "      <td>1</td>\n",
       "      <td>0</td>\n",
       "      <td>0</td>\n",
       "      <td>5</td>\n",
       "      <td>9</td>\n",
       "      <td>3</td>\n",
       "      <td>1.0</td>\n",
       "    </tr>\n",
       "    <tr>\n",
       "      <th>4</th>\n",
       "      <td>11.643954</td>\n",
       "      <td>1039</td>\n",
       "      <td>1</td>\n",
       "      <td>0</td>\n",
       "      <td>0</td>\n",
       "      <td>4</td>\n",
       "      <td>8</td>\n",
       "      <td>5</td>\n",
       "      <td>1.0</td>\n",
       "    </tr>\n",
       "    <tr>\n",
       "      <th>5</th>\n",
       "      <td>12.332705</td>\n",
       "      <td>1665</td>\n",
       "      <td>1</td>\n",
       "      <td>0</td>\n",
       "      <td>0</td>\n",
       "      <td>8</td>\n",
       "      <td>6</td>\n",
       "      <td>16</td>\n",
       "      <td>2.0</td>\n",
       "    </tr>\n",
       "    <tr>\n",
       "      <th>...</th>\n",
       "      <td>...</td>\n",
       "      <td>...</td>\n",
       "      <td>...</td>\n",
       "      <td>...</td>\n",
       "      <td>...</td>\n",
       "      <td>...</td>\n",
       "      <td>...</td>\n",
       "      <td>...</td>\n",
       "      <td>...</td>\n",
       "    </tr>\n",
       "    <tr>\n",
       "      <th>759</th>\n",
       "      <td>11.703546</td>\n",
       "      <td>952</td>\n",
       "      <td>1</td>\n",
       "      <td>0</td>\n",
       "      <td>1</td>\n",
       "      <td>6</td>\n",
       "      <td>6</td>\n",
       "      <td>4</td>\n",
       "      <td>1.0</td>\n",
       "    </tr>\n",
       "    <tr>\n",
       "      <th>760</th>\n",
       "      <td>11.846536</td>\n",
       "      <td>1733</td>\n",
       "      <td>1</td>\n",
       "      <td>0</td>\n",
       "      <td>1</td>\n",
       "      <td>3</td>\n",
       "      <td>5</td>\n",
       "      <td>6</td>\n",
       "      <td>2.0</td>\n",
       "    </tr>\n",
       "    <tr>\n",
       "      <th>761</th>\n",
       "      <td>11.884489</td>\n",
       "      <td>2002</td>\n",
       "      <td>1</td>\n",
       "      <td>0</td>\n",
       "      <td>0</td>\n",
       "      <td>5</td>\n",
       "      <td>6</td>\n",
       "      <td>20</td>\n",
       "      <td>3.0</td>\n",
       "    </tr>\n",
       "    <tr>\n",
       "      <th>762</th>\n",
       "      <td>12.289954</td>\n",
       "      <td>1842</td>\n",
       "      <td>1</td>\n",
       "      <td>0</td>\n",
       "      <td>1</td>\n",
       "      <td>7</td>\n",
       "      <td>5</td>\n",
       "      <td>19</td>\n",
       "      <td>2.0</td>\n",
       "    </tr>\n",
       "    <tr>\n",
       "      <th>763</th>\n",
       "      <td>12.278393</td>\n",
       "      <td>1911</td>\n",
       "      <td>1</td>\n",
       "      <td>0</td>\n",
       "      <td>1</td>\n",
       "      <td>8</td>\n",
       "      <td>5</td>\n",
       "      <td>14</td>\n",
       "      <td>2.0</td>\n",
       "    </tr>\n",
       "  </tbody>\n",
       "</table>\n",
       "<p>2323 rows × 9 columns</p>\n",
       "</div>"
      ],
      "text/plain": [
       "     LogSalePrice  GrLivArea  HasGarage  HasPool  HasFireplace  OverallQual  \\\n",
       "1       11.744037        856          1        0             1            6   \n",
       "2       11.845820       1049          1        0             0            5   \n",
       "3       11.735269       1001          1        0             0            5   \n",
       "4       11.643954       1039          1        0             0            4   \n",
       "5       12.332705       1665          1        0             0            8   \n",
       "..            ...        ...        ...      ...           ...          ...   \n",
       "759     11.703546        952          1        0             1            6   \n",
       "760     11.846536       1733          1        0             1            3   \n",
       "761     11.884489       2002          1        0             0            5   \n",
       "762     12.289954       1842          1        0             1            7   \n",
       "763     12.278393       1911          1        0             1            8   \n",
       "\n",
       "     OverallCond  Neighborhood  GarageCars  \n",
       "1              6             7         2.0  \n",
       "2              5             6         1.0  \n",
       "3              9             3         1.0  \n",
       "4              8             5         1.0  \n",
       "5              6            16         2.0  \n",
       "..           ...           ...         ...  \n",
       "759            6             4         1.0  \n",
       "760            5             6         2.0  \n",
       "761            6            20         3.0  \n",
       "762            5            19         2.0  \n",
       "763            5            14         2.0  \n",
       "\n",
       "[2323 rows x 9 columns]"
      ]
     },
     "execution_count": 143,
     "metadata": {},
     "output_type": "execute_result"
    }
   ],
   "source": [
    "housing"
   ]
  },
  {
   "cell_type": "markdown",
   "metadata": {},
   "source": [
    "## Model Generation"
   ]
  },
  {
   "cell_type": "code",
   "execution_count": 145,
   "metadata": {},
   "outputs": [],
   "source": [
    "from sklearn.linear_model import LinearRegression\n",
    "from sklearn import model_selection"
   ]
  },
  {
   "cell_type": "code",
   "execution_count": 146,
   "metadata": {},
   "outputs": [
    {
     "name": "stdout",
     "output_type": "stream",
     "text": [
      "0.8645743184439679\n",
      "0.8520100375641695\n",
      "[0.0002462  0.0105743  0.05976766 0.06164137 0.08697679 0.03761453\n",
      " 0.01574873 0.0805717 ]\n"
     ]
    }
   ],
   "source": [
    "y = housing['LogSalePrice']\n",
    "x = housing.drop('LogSalePrice', axis=1)\n",
    "\n",
    "x_train, x_test, y_train, y_test = model_selection.train_test_split(x, y, test_size=.2, random_state=0)\n",
    "\n",
    "lm = LinearRegression()\n",
    "lm.fit(x_train, y_train)\n",
    "\n",
    "print(lm.score(x_train, y_train))\n",
    "print(lm.score(x_test, y_test))\n",
    "print(lm.coef_)"
   ]
  },
  {
   "cell_type": "markdown",
   "metadata": {},
   "source": [
    "## Model Deployment"
   ]
  },
  {
   "cell_type": "markdown",
   "metadata": {},
   "source": [
    "#### Buyer Profile:"
   ]
  },
  {
   "cell_type": "code",
   "execution_count": 248,
   "metadata": {},
   "outputs": [],
   "source": [
    "Budget = 150000\n",
    "LivArea = 1000\n",
    "HasGarage = 1\n",
    "HasPool = 0\n",
    "HasPorch = 1\n",
    "HasFireplace = 1\n",
    "HasFence = 1\n",
    "OverallQual = 6\n",
    "OverallCond = 6\n",
    "Neighborhood = 3\n",
    "GarageCars =1\n",
    "\n",
    "buyer_data = [[np.log(Budget), LivArea, HasGarage, HasPool, HasFireplace, OverallQual, OverallCond,Neighborhood,GarageCars]]\n",
    "\n",
    "buyer = pd.DataFrame(data = buyer_data, columns = keep)"
   ]
  },
  {
   "cell_type": "code",
   "execution_count": null,
   "metadata": {},
   "outputs": [],
   "source": []
  },
  {
   "cell_type": "code",
   "execution_count": 249,
   "metadata": {},
   "outputs": [
    {
     "data": {
      "text/html": [
       "<div>\n",
       "<style scoped>\n",
       "    .dataframe tbody tr th:only-of-type {\n",
       "        vertical-align: middle;\n",
       "    }\n",
       "\n",
       "    .dataframe tbody tr th {\n",
       "        vertical-align: top;\n",
       "    }\n",
       "\n",
       "    .dataframe thead th {\n",
       "        text-align: right;\n",
       "    }\n",
       "</style>\n",
       "<table border=\"1\" class=\"dataframe\">\n",
       "  <thead>\n",
       "    <tr style=\"text-align: right;\">\n",
       "      <th></th>\n",
       "      <th>LogSalePrice</th>\n",
       "      <th>GrLivArea</th>\n",
       "      <th>HasGarage</th>\n",
       "      <th>HasPool</th>\n",
       "      <th>HasFireplace</th>\n",
       "      <th>OverallQual</th>\n",
       "      <th>OverallCond</th>\n",
       "      <th>Neighborhood</th>\n",
       "      <th>GarageCars</th>\n",
       "    </tr>\n",
       "  </thead>\n",
       "  <tbody>\n",
       "    <tr>\n",
       "      <th>0</th>\n",
       "      <td>11.918391</td>\n",
       "      <td>1000</td>\n",
       "      <td>1</td>\n",
       "      <td>0</td>\n",
       "      <td>1</td>\n",
       "      <td>6</td>\n",
       "      <td>6</td>\n",
       "      <td>3</td>\n",
       "      <td>1</td>\n",
       "    </tr>\n",
       "  </tbody>\n",
       "</table>\n",
       "</div>"
      ],
      "text/plain": [
       "   LogSalePrice  GrLivArea  HasGarage  HasPool  HasFireplace  OverallQual  \\\n",
       "0     11.918391       1000          1        0             1            6   \n",
       "\n",
       "   OverallCond  Neighborhood  GarageCars  \n",
       "0            6             3           1  "
      ]
     },
     "execution_count": 249,
     "metadata": {},
     "output_type": "execute_result"
    }
   ],
   "source": [
    "# buyer_x = buyer.drop('LogSalePrice', axis=1)\n",
    "# base_value = np.exp(lm.predict(buyer_x)[0])\n",
    "\n",
    "buyer"
   ]
  },
  {
   "cell_type": "markdown",
   "metadata": {},
   "source": [
    "#### Buyer Recomendation Tool:"
   ]
  },
  {
   "cell_type": "code",
   "execution_count": 252,
   "metadata": {},
   "outputs": [
    {
     "name": "stdout",
     "output_type": "stream",
     "text": [
      "Your budget is:  149999.99999999994\n",
      "Based on your profile, the house you want will cost:  121245.30727384084\n",
      "you are underbudget\n",
      "\n",
      "If you add these features: ['HasPool']\n",
      "Increased cost:  -7467.48205302532\n",
      "Updated price:  128712.78932686616\n"
     ]
    }
   ],
   "source": [
    "from math import exp\n",
    "\n",
    "def buyer_recommendation(buyer, model):\n",
    "    \n",
    "    #generate intial estimate\n",
    "    budget = buyer['LogSalePrice']\n",
    "    buyer_x = buyer.drop('LogSalePrice', axis=1)\n",
    "    predicted_price = np.exp(lm.predict(buyer_x)[0])\n",
    "    \n",
    "    print('Your budget is: ', np.exp(budget[0]))\n",
    "    print('Based on your profile, the house you want will cost: ', predicted_price)\n",
    "    \n",
    "    #search for ways to find a good deal\n",
    "    recommendation = []\n",
    "    discard_features = ['HasPool','HasGarage','HasFireplace']\n",
    "    removed_feature = []\n",
    "\n",
    "#     Overbudget!! Lower our cost\n",
    "    if predicted_price>np.exp(budget[0]):\n",
    "        print('')\n",
    "        print('\\nYou are over budget')\n",
    "        for feature in discard_features:\n",
    "            if buyer_x[feature][0]>0:\n",
    "                buyer_x[feature]=0\n",
    "                updated_price = np.exp(lm.predict(buyer_x)[0])\n",
    "                difference = predicted_price-updated_price\n",
    "                removed_feature.append(feature)\n",
    "                print('\\nIf you remove these features:',removed_feature)\n",
    "                print('Saving: ',difference)\n",
    "                print('Updated price: ',updated_price)\n",
    "            \n",
    "\n",
    "#   Underbudget!! Increase features\n",
    "    if predicted_price<np.exp(budget[0]):\n",
    "        print('\\nYou are underbudget')\n",
    "        for feature in discard_features:\n",
    "            if buyer_x[feature][0]==0:\n",
    "                buyer_x[feature]=1\n",
    "                updated_price = np.exp(lm.predict(buyer_x)[0])\n",
    "                difference = predicted_price-updated_price\n",
    "                removed_feature.append(feature)\n",
    "                print('\\nIf you add these features:',removed_feature)\n",
    "                print('Increased cost: ',difference)\n",
    "                print('Updated price: ',updated_price)\n",
    "        \n",
    "    \n",
    "buyer_recommendation(buyer,lm)"
   ]
  },
  {
   "cell_type": "markdown",
   "metadata": {},
   "source": [
    "#### Seller Profile:"
   ]
  },
  {
   "cell_type": "code",
   "execution_count": null,
   "metadata": {},
   "outputs": [],
   "source": [
    "LivArea = 100000\n",
    "HasGarage = 0\n",
    "HasPool = 1\n",
    "HasPorch = 1\n",
    "\n",
    "seller_data = [np.log(LivArea), HasGarage, HasPool, HasPorch]\n",
    "seller_cols = keep[1:]\n",
    "\n",
    "buyer = pd.DataFrame(data = seller_data, columns = seller_cols)"
   ]
  },
  {
   "cell_type": "markdown",
   "metadata": {},
   "source": [
    "#### Seller Recommedation Tool:"
   ]
  },
  {
   "cell_type": "code",
   "execution_count": null,
   "metadata": {},
   "outputs": [],
   "source": [
    "def seller_recommendation(seller, model):\n",
    "    \n",
    "    #generate intial estimate\n",
    "    budget = buyer['LogSalePrice']\n",
    "    buyer = buyer.drop('LogSalePrice', axis=1)\n",
    "    base_value = exp(model.predict(buyer))\n",
    "    \n",
    "    print('Your budget is: ', budget)\n",
    "    print('Based on your profile, the house you want will cost: ', base_value)\n",
    "    \n",
    "    #search for ways to find a good deal\n",
    "    recommendation = []\n",
    "    \n",
    "    #if over budget, do a grid search for ways to reduce cost\n",
    "        #for feature in list:\n",
    "            #if buyer[feature] == 1:\n",
    "                buyer[feature] = 0\n",
    "                new_value = exp(model.predict(buyer))\n",
    "                savings = base_value - new_value\n",
    "                recommendation.append(savings, feature)\n",
    "        print('If you are willing to compromise on these features, you could save this much money:')\n",
    "        print(recommendation)\n",
    "        \n",
    "    #if under budget, do a grid search for way to optimize cost\n",
    "        #for feature in list:\n",
    "            #if buyer[feature] == 0:\n",
    "                buyer[feature] = 1\n",
    "                new_value = exp(model.predict(buyer))\n",
    "                if new_value < budget:\n",
    "                    stretch = new_value - base_value\n",
    "                    recommendation.append(stretch, feature)\n",
    "        print('If you want, you could add these features without going over budget:')\n",
    "        print(recommendation)\n",
    "        \n",
    "    #neighborhood search\n",
    "    \n",
    "    #square footage search\n",
    "    \n",
    "    #month of year search"
   ]
  }
 ],
 "metadata": {
  "kernelspec": {
   "display_name": "Python 3",
   "language": "python",
   "name": "python3"
  },
  "language_info": {
   "codemirror_mode": {
    "name": "ipython",
    "version": 3
   },
   "file_extension": ".py",
   "mimetype": "text/x-python",
   "name": "python",
   "nbconvert_exporter": "python",
   "pygments_lexer": "ipython3",
   "version": "3.7.6"
  }
 },
 "nbformat": 4,
 "nbformat_minor": 4
}

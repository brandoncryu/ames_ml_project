{
 "cells": [
  {
   "cell_type": "markdown",
   "metadata": {},
   "source": [
    "# House Hunters Linear Model"
   ]
  },
  {
   "cell_type": "markdown",
   "metadata": {},
   "source": [
    "Linear regression model of human-interpretable features that will make recommendations for people looking to buy or sell a house."
   ]
  },
  {
   "cell_type": "markdown",
   "metadata": {},
   "source": [
    "## Pre-Processing"
   ]
  },
  {
   "cell_type": "code",
   "execution_count": null,
   "metadata": {},
   "outputs": [],
   "source": [
    "# import necessary packages\n",
    "import numpy as np\n",
    "import pandas as pd\n",
    "import matplotlib.pyplot as plt\n",
    "\n",
    "# set display options\n",
    "pd.set_option('display.max_columns', None)"
   ]
  },
  {
   "cell_type": "code",
   "execution_count": null,
   "metadata": {},
   "outputs": [],
   "source": [
    "# import dataset\n",
    "housing = pd.read_csv('Ames_HousePrice.csv', index_col=0)\n",
    "# real_estate = pd.read_csv('./data/Ames_Real_Estate_Data.csv')"
   ]
  },
  {
   "cell_type": "markdown",
   "metadata": {},
   "source": [
    "#### Feature Cleaning"
   ]
  },
  {
   "cell_type": "code",
   "execution_count": null,
   "metadata": {},
   "outputs": [],
   "source": [
    "#Remove Outliers\n",
    "housing = housing[np.logical_and(housing.SalePrice >= 40000, housing.SalePrice =< 750000)]\n",
    "\n",
    "#Remove Bad Classes\n",
    "housing = housing[housing.Neighborhood != 'Landmrk']\n",
    "housing = housing[housing.SaleType == 'WD']\n",
    "housing = housing[housing.SaleCondition == 'Normal']\n",
    "\n",
    "#Replace NAs\n",
    "housing = housing.fillna(0)"
   ]
  },
  {
   "cell_type": "markdown",
   "metadata": {},
   "source": [
    "#### Feature Engineering"
   ]
  },
  {
   "cell_type": "code",
   "execution_count": null,
   "metadata": {},
   "outputs": [],
   "source": [
    "#Log Transforms\n",
    "housing['LogSalePrice'] = np.log(housing.SalePrice)\n",
    "housing['LogGrLivArea'] = np.log(housing.GrLivArea)\n",
    "\n",
    "#Area Calculations\n",
    "housing['PorchTotSF'] = housing.OpenPorchSF + housing.EnclosedPorch + housing['3SsnPorch'] + housing.ScreenPorch\n",
    "\n",
    "#Binary HasBLANK Categories\n",
    "housing['HasGarage'] = np.where(housing.GarageCars > 0, 1, 0)\n",
    "housing['HasPool'] = np.where(housing.PoolArea > 0, 1, 0)\n",
    "housing['HasPorch'] = np.where(housing.PorchTotSF > 0, 1, 0)\n",
    "housing['HasDeck'] = np.where(housing.WoodDeckSF > 0, 1, 0)\n",
    "housing['HasFinBsmt'] = np.where(housing.BsmtFinSF1 > 0, 1, 0)\n",
    "housing['HasFireplace'] = np.where(housing.Fireplaces > 0, 1, 0)\n",
    "housing['HasFence'] = np.where(housing.Fence.notna(), 1, 0)\n",
    "\n",
    "#Binary Quality/Cond Categories\n",
    "housing['GarageFinish_Fin'] np.where(housing.GarageFinish == 'Unf', 0, 1)"
   ]
  },
  {
   "cell_type": "markdown",
   "metadata": {},
   "source": [
    "#### Feature Selection"
   ]
  },
  {
   "cell_type": "code",
   "execution_count": null,
   "metadata": {},
   "outputs": [],
   "source": [
    "keep = ['LogSalePrice', 'LogGrLivArea', 'HasGarage', 'HasPool', 'HasPorch']\n",
    "housing = housing[keep]"
   ]
  },
  {
   "cell_type": "markdown",
   "metadata": {},
   "source": [
    "## Model Generation"
   ]
  },
  {
   "cell_type": "code",
   "execution_count": null,
   "metadata": {},
   "outputs": [],
   "source": [
    "from sklearn.linear_model import LinearRegression\n",
    "lm = LinearRegression()"
   ]
  },
  {
   "cell_type": "code",
   "execution_count": null,
   "metadata": {},
   "outputs": [],
   "source": [
    "y = housing['LogSalePrice']\n",
    "x = housing.drop('LogSalePrice', axis=1)\n",
    "\n",
    "# x_test, x_train = train_test_split()\n",
    "\n",
    "lm.fit(x, y)\n",
    "\n",
    "print(lm.score(x_train, y_train))\n",
    "print(lm.score(x_test, y_test))"
   ]
  },
  {
   "cell_type": "markdown",
   "metadata": {},
   "source": [
    "## Model Deployment"
   ]
  },
  {
   "cell_type": "markdown",
   "metadata": {},
   "source": [
    "#### Buyer Profile:"
   ]
  },
  {
   "cell_type": "code",
   "execution_count": null,
   "metadata": {},
   "outputs": [],
   "source": [
    "Budget = 100000\n",
    "LivArea = 100000\n",
    "HasGarage = 0\n",
    "HasPool = 1\n",
    "HasPorch = 1\n",
    "\n",
    "buyer_data = [np.log(Budget), np.log(LivArea), HasGarage, HasPool, HasPorch]\n",
    "buyer_cols = keep\n",
    "\n",
    "buyer = pd.DataFrame(data = buyer_data, columns = buyer_cols)"
   ]
  },
  {
   "cell_type": "markdown",
   "metadata": {},
   "source": [
    "#### Buyer Recomendation Tool:"
   ]
  },
  {
   "cell_type": "code",
   "execution_count": null,
   "metadata": {},
   "outputs": [],
   "source": [
    "from math import exp\n",
    "\n",
    "def buyer_recommendation(buyer, model):\n",
    "    \n",
    "    #generate intial estimate\n",
    "    budget = buyer['LogSalePrice']\n",
    "    buyer = buyer.drop('LogSalePrice', axis=1)\n",
    "    base_value = exp(model.predict(buyer))\n",
    "    \n",
    "    print('Your budget is: ', budget)\n",
    "    print('Based on your profile, the house you want will cost: ', base_value)\n",
    "    \n",
    "    #search for ways to find a good deal\n",
    "    recommendation = []\n",
    "    \n",
    "    #if over budget, do a grid search for ways to reduce cost\n",
    "        #for feature in list:\n",
    "            #if buyer[feature] == 1:\n",
    "                buyer[feature] = 0\n",
    "                new_value = exp(model.predict(buyer))\n",
    "                savings = base_value - new_value\n",
    "                recommendation.append(savings, feature)\n",
    "        print('If you are willing to compromise on these features, you could save this much money:')\n",
    "        print(recommendation)\n",
    "        \n",
    "    #if under budget, do a grid search for way to optimize cost\n",
    "        #for feature in list:\n",
    "            #if buyer[feature] == 0:\n",
    "                buyer[feature] = 1\n",
    "                new_value = exp(model.predict(buyer))\n",
    "                if new_value < budget:\n",
    "                    stretch = new_value - base_value\n",
    "                    recommendation.append(stretch, feature)\n",
    "        print('If you want, you could add these features without going over budget:')\n",
    "        print(recommendation)\n",
    "        \n",
    "    #neighborhood search\n",
    "    \n",
    "    #square footage search\n",
    "    \n",
    "    #month of year search"
   ]
  },
  {
   "cell_type": "markdown",
   "metadata": {},
   "source": [
    "#### Seller Profile:"
   ]
  },
  {
   "cell_type": "code",
   "execution_count": null,
   "metadata": {},
   "outputs": [],
   "source": [
    "LivArea = 100000\n",
    "HasGarage = 0\n",
    "HasPool = 1\n",
    "HasPorch = 1\n",
    "\n",
    "seller_data = [np.log(LivArea), HasGarage, HasPool, HasPorch]\n",
    "seller_cols = keep[1:]\n",
    "\n",
    "buyer = pd.DataFrame(data = seller_data, columns = seller_cols)"
   ]
  },
  {
   "cell_type": "markdown",
   "metadata": {},
   "source": [
    "#### Seller Recommedation Tool:"
   ]
  },
  {
   "cell_type": "code",
   "execution_count": null,
   "metadata": {},
   "outputs": [],
   "source": [
    "def seller_recommendation(seller, model):\n",
    "    \n",
    "    #generate intial estimate\n",
    "    budget = buyer['LogSalePrice']\n",
    "    buyer = buyer.drop('LogSalePrice', axis=1)\n",
    "    base_value = exp(model.predict(buyer))\n",
    "    \n",
    "    print('Your budget is: ', budget)\n",
    "    print('Based on your profile, the house you want will cost: ', base_value)\n",
    "    \n",
    "    #search for ways to find a good deal\n",
    "    recommendation = []\n",
    "    \n",
    "    #if over budget, do a grid search for ways to reduce cost\n",
    "        #for feature in list:\n",
    "            #if buyer[feature] == 1:\n",
    "                buyer[feature] = 0\n",
    "                new_value = exp(model.predict(buyer))\n",
    "                savings = base_value - new_value\n",
    "                recommendation.append(savings, feature)\n",
    "        print('If you are willing to compromise on these features, you could save this much money:')\n",
    "        print(recommendation)\n",
    "        \n",
    "    #if under budget, do a grid search for way to optimize cost\n",
    "        #for feature in list:\n",
    "            #if buyer[feature] == 0:\n",
    "                buyer[feature] = 1\n",
    "                new_value = exp(model.predict(buyer))\n",
    "                if new_value < budget:\n",
    "                    stretch = new_value - base_value\n",
    "                    recommendation.append(stretch, feature)\n",
    "        print('If you want, you could add these features without going over budget:')\n",
    "        print(recommendation)\n",
    "        \n",
    "    #neighborhood search\n",
    "    \n",
    "    #square footage search\n",
    "    \n",
    "    #month of year search"
   ]
  }
 ],
 "metadata": {
  "kernelspec": {
   "display_name": "Python 3",
   "language": "python",
   "name": "python3"
  },
  "language_info": {
   "codemirror_mode": {
    "name": "ipython",
    "version": 3
   },
   "file_extension": ".py",
   "mimetype": "text/x-python",
   "name": "python",
   "nbconvert_exporter": "python",
   "pygments_lexer": "ipython3",
   "version": "3.7.6"
  }
 },
 "nbformat": 4,
 "nbformat_minor": 4
}

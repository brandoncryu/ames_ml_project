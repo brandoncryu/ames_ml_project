{
 "cells": [
  {
   "cell_type": "code",
   "execution_count": 1,
   "metadata": {},
   "outputs": [],
   "source": [
    "import numpy as np\n",
    "import pandas as pd\n",
    "from scipy import stats\n",
    "import matplotlib.pyplot as plt\n",
    "from scipy import stats\n",
    "%matplotlib inline\n",
    "plt.style.use('ggplot')\n",
    "import seaborn as sns"
   ]
  },
  {
   "cell_type": "code",
   "execution_count": 2,
   "metadata": {},
   "outputs": [],
   "source": [
    "#so all DataFrame data is displayed\n",
    "pd.set_option('display.max_columns',None)\n",
    "pd.set_option('display.min_rows',0)\n",
    "pd.set_option('display.max_rows',100)"
   ]
  },
  {
   "cell_type": "code",
   "execution_count": 3,
   "metadata": {},
   "outputs": [
    {
     "name": "stderr",
     "output_type": "stream",
     "text": [
      "/Users/isa.adls/opt/anaconda3/lib/python3.7/site-packages/IPython/core/interactiveshell.py:3063: DtypeWarning: Columns (36,40,81,87) have mixed types.Specify dtype option on import or set low_memory=False.\n",
      "  interactivity=interactivity, compiler=compiler, result=result)\n"
     ]
    }
   ],
   "source": [
    "housing = pd.read_csv(\"./data/Ames_Housing_Price_Data.csv\", index_col=0)\n",
    "realestate = pd.read_csv('./data/Ames_Real_Estate_Data.csv', index_col=0)"
   ]
  },
  {
   "cell_type": "markdown",
   "metadata": {},
   "source": [
    "### Getting the Latitude And Longitude"
   ]
  },
  {
   "cell_type": "code",
   "execution_count": null,
   "metadata": {},
   "outputs": [],
   "source": [
    "#making index a column \n",
    "realestate['MapRefNo'] = realestate.index\n",
    "\n",
    "# creating a new dataframe with only necessary columns \n",
    "realestate1 = realestate[['MapRefNo', 'GeoRefNo', 'Prop_Addr', 'Neighborhood', 'ClassPr_S', 'SchD_S', 'TxD_S']]\n",
    "\n",
    "#renamed realestate MapRefNo to PID to Merge on PID \n",
    "realestate1.rename(columns = {'MapRefNo':'PID'}, inplace = True) \n",
    "\n",
    "#Merging Dataframes on PID\n",
    "clean_df = pd.merge(housing, realestate1, on = 'PID', how='left')\n"
   ]
  },
  {
   "cell_type": "code",
   "execution_count": null,
   "metadata": {},
   "outputs": [],
   "source": [
    "#dropping duplicates \n",
    "clean_df = clean_df.drop_duplicates(subset = ['PID'])\n",
    "clean_df.shape #checking shape"
   ]
  },
  {
   "cell_type": "code",
   "execution_count": null,
   "metadata": {},
   "outputs": [],
   "source": [
    "# Function to get Latitude and Longitude\n",
    "\n",
    "from geopy.geocoders import Nominatim\n",
    "# location = geolocator.geocode(\"2400 SE 16TH ST AMES, IA\")\n",
    "\n",
    "def get_lat_log(address):\n",
    "    geolocator = Nominatim(user_agent=\"Mozilla/5.0 (Macintosh; Intel Mac OS X 10_15_4) AppleWebKit/537.36 (KHTML, like Gecko) Chrome/84.0.4147.135 Safari/537.36\")\n",
    "    geocode = lambda query: geolocator.geocode(\"%s, AMES IA\" % query)\n",
    "    location = geocode(address)\n",
    "    \n",
    "    if location == None:\n",
    "        return None \n",
    "    \n",
    "    return (location.latitude, location.longitude)"
   ]
  },
  {
   "cell_type": "code",
   "execution_count": null,
   "metadata": {},
   "outputs": [],
   "source": [
    "# Function to get distance from schools\n",
    "from geopy.distance import geodesic\n",
    "\n",
    "def get_school_dist(lat_log, school_lat_log):\n",
    "    \"\"\" Get School Distance\n",
    "    :lat_log - tuple, address lat and log\n",
    "    :school_lst_log -tuple, school lat and log\n",
    "    Return: distance between both addresses\n",
    "    \"\"\"\n",
    "    return(geodesic(lat_log, school_lat_log).miles)"
   ]
  },
  {
   "cell_type": "code",
   "execution_count": null,
   "metadata": {},
   "outputs": [],
   "source": [
    "from time import sleep\n",
    "\n",
    "\n",
    "addresses = clean_df[\"Prop_Addr\"]\n",
    "\n",
    "total_addresses = len(addresses)\n",
    "count = 0\n",
    "none_count_hs = 0\n",
    "none_count_c = 0\n",
    "\n",
    "high_school = \"Ames High School 1921 Ames High Drive Ames, IA 50010\"\n",
    "hs_lat_log = get_lat_log(high_school)\n",
    "\n",
    "college = \"100 Enrollment Services Ctr\"\n",
    "c_lat_log = get_lat_log(college)\n",
    "\n",
    "address_lat_log = []\n",
    "highschool_dist = []\n",
    "college_dist = []\n",
    "\n",
    "for address in addresses:\n",
    "    sleep(.25)\n",
    "    lat_log = get_lat_log(address)\n",
    "    address_lat_log.append(lat_log)\n",
    "    \n",
    "    dist_hs = get_school_dist(lat_log, hs_lat_log)\n",
    "    if dist_hs is None:\n",
    "        dist_hs = 0\n",
    "        non_count_hs += 1\n",
    "    highschool_dist.append(dist_hs) \n",
    "    \n",
    "    sleep(.25)\n",
    "    dist_c = get_school_dist(lat_log, c_lat_log)\n",
    "    if dist_c is None:\n",
    "        dist_c = 0\n",
    "        non_count_c += 1\n",
    "    college_dist.append(dist_c)\n",
    "    \n",
    "    \n",
    "    count += 1\n",
    "    print(f\"On address {count} out of {total_addresses}\")\n",
    "    print(f\"Got None: High School: {none_count_hs} college: {none_count_c}\")\n",
    "\n",
    "print(\"Done!\")\n"
   ]
  },
  {
   "cell_type": "code",
   "execution_count": null,
   "metadata": {},
   "outputs": [],
   "source": [
    "#make list from functions into columns in df\n",
    "clean_df[\"address_lat_log\"] = address_lat_log\n",
    "clean_df['highschool_dist'] = highschool_dist\n",
    "clean_df['college_dist'] = college_dist\n",
    "\n",
    "# separate tuple to two columns\n",
    "clean_df[['latitude', 'longitude']] = pd.DataFrame(clean_df[\"address_lat_log\"].tolist(), index = clean_df.index)\n",
    "\n",
    "\n",
    "clean_df.shape"
   ]
  },
  {
   "cell_type": "code",
   "execution_count": null,
   "metadata": {},
   "outputs": [],
   "source": [
    "#looking at zoning - Will only keep residential\n",
    "clean_df.MSZoning.value_counts()"
   ]
  },
  {
   "cell_type": "code",
   "execution_count": null,
   "metadata": {},
   "outputs": [],
   "source": [
    "#drop non residential properties \n",
    "clean_df = clean_df[clean_df.MSZoning != 'C (all)']\n",
    "clean_df = clean_df[clean_df.MSZoning != 'I (all)']\n",
    "clean_df = clean_df[clean_df.MSZoning != 'A (agr)']"
   ]
  },
  {
   "cell_type": "code",
   "execution_count": null,
   "metadata": {},
   "outputs": [],
   "source": [
    "#save dataframe with lat-log and distances to not need to run above \n",
    "clean_df.to_pickle('./data/clean_Res_latlog.pkl')"
   ]
  },
  {
   "cell_type": "code",
   "execution_count": null,
   "metadata": {},
   "outputs": [],
   "source": [
    "#check \n",
    "clean_df.MSZoning.value_counts()"
   ]
  },
  {
   "cell_type": "code",
   "execution_count": null,
   "metadata": {},
   "outputs": [],
   "source": [
    "# check to see what it looks like after dropping CIA \n",
    "clean_df['Functional'].value_counts()"
   ]
  },
  {
   "cell_type": "code",
   "execution_count": null,
   "metadata": {},
   "outputs": [],
   "source": []
  },
  {
   "cell_type": "code",
   "execution_count": null,
   "metadata": {},
   "outputs": [],
   "source": []
  }
 ],
 "metadata": {
  "kernelspec": {
   "display_name": "Python 3",
   "language": "python",
   "name": "python3"
  },
  "language_info": {
   "codemirror_mode": {
    "name": "ipython",
    "version": 3
   },
   "file_extension": ".py",
   "mimetype": "text/x-python",
   "name": "python",
   "nbconvert_exporter": "python",
   "pygments_lexer": "ipython3",
   "version": "3.7.6"
  }
 },
 "nbformat": 4,
 "nbformat_minor": 4
}
